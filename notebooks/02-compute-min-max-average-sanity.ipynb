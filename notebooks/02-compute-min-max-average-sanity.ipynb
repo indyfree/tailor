{
 "cells": [
  {
   "cell_type": "code",
   "execution_count": 1,
   "metadata": {},
   "outputs": [],
   "source": [
    "import matplotlib as mpl\n",
    "import matplotlib.pyplot as plt\n",
    "import numpy as np\n",
    "import pandas as pd\n",
    "import tailor"
   ]
  },
  {
   "cell_type": "code",
   "execution_count": 2,
   "metadata": {},
   "outputs": [],
   "source": [
    "data_raw = tailor.load_data()"
   ]
  },
  {
   "cell_type": "code",
   "execution_count": 3,
   "metadata": {},
   "outputs": [
    {
     "data": {
      "text/html": [
       "<div>\n",
       "<style scoped>\n",
       "    .dataframe tbody tr th:only-of-type {\n",
       "        vertical-align: middle;\n",
       "    }\n",
       "\n",
       "    .dataframe tbody tr th {\n",
       "        vertical-align: top;\n",
       "    }\n",
       "\n",
       "    .dataframe thead th {\n",
       "        text-align: right;\n",
       "    }\n",
       "</style>\n",
       "<table border=\"1\" class=\"dataframe\">\n",
       "  <thead>\n",
       "    <tr style=\"text-align: right;\">\n",
       "      <th></th>\n",
       "      <th>article_id</th>\n",
       "      <th>season</th>\n",
       "      <th>brand</th>\n",
       "      <th>color</th>\n",
       "      <th>Abteilung</th>\n",
       "      <th>WHG</th>\n",
       "      <th>WUG</th>\n",
       "      <th>time_on_sale</th>\n",
       "      <th>original_price</th>\n",
       "      <th>sells_price</th>\n",
       "      <th>discount</th>\n",
       "      <th>markdown</th>\n",
       "      <th>article_count</th>\n",
       "      <th>stock_total</th>\n",
       "      <th>avq</th>\n",
       "      <th>revenue</th>\n",
       "    </tr>\n",
       "  </thead>\n",
       "  <tbody>\n",
       "    <tr>\n",
       "      <th>0</th>\n",
       "      <td>900001</td>\n",
       "      <td>Sommer</td>\n",
       "      <td>Fimmilena</td>\n",
       "      <td>mittelbraun</td>\n",
       "      <td>Abteilung005</td>\n",
       "      <td>WHG021</td>\n",
       "      <td>WUG073</td>\n",
       "      <td>0</td>\n",
       "      <td>59.95</td>\n",
       "      <td>58.883333</td>\n",
       "      <td>1.066667</td>\n",
       "      <td>0.0</td>\n",
       "      <td>3.666667</td>\n",
       "      <td>1499.0</td>\n",
       "      <td>0.722704</td>\n",
       "      <td>217.483333</td>\n",
       "    </tr>\n",
       "    <tr>\n",
       "      <th>1</th>\n",
       "      <td>900001</td>\n",
       "      <td>Sommer</td>\n",
       "      <td>Fimmilena</td>\n",
       "      <td>mittelbraun</td>\n",
       "      <td>Abteilung005</td>\n",
       "      <td>WHG021</td>\n",
       "      <td>WUG073</td>\n",
       "      <td>1</td>\n",
       "      <td>59.95</td>\n",
       "      <td>59.755714</td>\n",
       "      <td>0.194286</td>\n",
       "      <td>0.0</td>\n",
       "      <td>5.571429</td>\n",
       "      <td>1499.0</td>\n",
       "      <td>3.097303</td>\n",
       "      <td>333.230000</td>\n",
       "    </tr>\n",
       "    <tr>\n",
       "      <th>2</th>\n",
       "      <td>900001</td>\n",
       "      <td>Sommer</td>\n",
       "      <td>Fimmilena</td>\n",
       "      <td>mittelbraun</td>\n",
       "      <td>Abteilung005</td>\n",
       "      <td>WHG021</td>\n",
       "      <td>WUG073</td>\n",
       "      <td>2</td>\n",
       "      <td>59.95</td>\n",
       "      <td>58.950000</td>\n",
       "      <td>1.000000</td>\n",
       "      <td>0.0</td>\n",
       "      <td>5.333333</td>\n",
       "      <td>1499.0</td>\n",
       "      <td>5.303536</td>\n",
       "      <td>315.233333</td>\n",
       "    </tr>\n",
       "    <tr>\n",
       "      <th>3</th>\n",
       "      <td>900001</td>\n",
       "      <td>Sommer</td>\n",
       "      <td>Fimmilena</td>\n",
       "      <td>mittelbraun</td>\n",
       "      <td>Abteilung005</td>\n",
       "      <td>WHG021</td>\n",
       "      <td>WUG073</td>\n",
       "      <td>3</td>\n",
       "      <td>59.95</td>\n",
       "      <td>58.785000</td>\n",
       "      <td>1.165000</td>\n",
       "      <td>0.0</td>\n",
       "      <td>6.750000</td>\n",
       "      <td>1499.0</td>\n",
       "      <td>7.204803</td>\n",
       "      <td>399.172500</td>\n",
       "    </tr>\n",
       "    <tr>\n",
       "      <th>4</th>\n",
       "      <td>900001</td>\n",
       "      <td>Sommer</td>\n",
       "      <td>Fimmilena</td>\n",
       "      <td>mittelbraun</td>\n",
       "      <td>Abteilung005</td>\n",
       "      <td>WHG021</td>\n",
       "      <td>WUG073</td>\n",
       "      <td>4</td>\n",
       "      <td>59.95</td>\n",
       "      <td>59.750000</td>\n",
       "      <td>0.200000</td>\n",
       "      <td>0.0</td>\n",
       "      <td>5.666667</td>\n",
       "      <td>1499.0</td>\n",
       "      <td>9.339560</td>\n",
       "      <td>337.716667</td>\n",
       "    </tr>\n",
       "  </tbody>\n",
       "</table>\n",
       "</div>"
      ],
      "text/plain": [
       "  article_id  season      brand        color     Abteilung     WHG     WUG  \\\n",
       "0     900001  Sommer  Fimmilena  mittelbraun  Abteilung005  WHG021  WUG073   \n",
       "1     900001  Sommer  Fimmilena  mittelbraun  Abteilung005  WHG021  WUG073   \n",
       "2     900001  Sommer  Fimmilena  mittelbraun  Abteilung005  WHG021  WUG073   \n",
       "3     900001  Sommer  Fimmilena  mittelbraun  Abteilung005  WHG021  WUG073   \n",
       "4     900001  Sommer  Fimmilena  mittelbraun  Abteilung005  WHG021  WUG073   \n",
       "\n",
       "   time_on_sale  original_price  sells_price  discount  markdown  \\\n",
       "0             0           59.95    58.883333  1.066667       0.0   \n",
       "1             1           59.95    59.755714  0.194286       0.0   \n",
       "2             2           59.95    58.950000  1.000000       0.0   \n",
       "3             3           59.95    58.785000  1.165000       0.0   \n",
       "4             4           59.95    59.750000  0.200000       0.0   \n",
       "\n",
       "   article_count  stock_total       avq     revenue  \n",
       "0       3.666667       1499.0  0.722704  217.483333  \n",
       "1       5.571429       1499.0  3.097303  333.230000  \n",
       "2       5.333333       1499.0  5.303536  315.233333  \n",
       "3       6.750000       1499.0  7.204803  399.172500  \n",
       "4       5.666667       1499.0  9.339560  337.716667  "
      ]
     },
     "execution_count": 3,
     "metadata": {},
     "output_type": "execute_result"
    }
   ],
   "source": [
    "data_raw.head()"
   ]
  },
  {
   "cell_type": "code",
   "execution_count": 4,
   "metadata": {},
   "outputs": [
    {
     "data": {
      "text/plain": [
       "article_id        0\n",
       "season            0\n",
       "brand             0\n",
       "color             0\n",
       "Abteilung         0\n",
       "WHG               0\n",
       "WUG               0\n",
       "time_on_sale      0\n",
       "original_price    0\n",
       "sells_price       0\n",
       "discount          0\n",
       "markdown          0\n",
       "article_count     0\n",
       "stock_total       0\n",
       "avq               0\n",
       "revenue           0\n",
       "dtype: int64"
      ]
     },
     "execution_count": 4,
     "metadata": {},
     "output_type": "execute_result"
    }
   ],
   "source": [
    "# checking whether there are any NaN cells\n",
    "data_raw.isnull().sum()"
   ]
  },
  {
   "cell_type": "code",
   "execution_count": 5,
   "metadata": {},
   "outputs": [
    {
     "data": {
      "text/plain": [
       "article_id              900001\n",
       "season                  Sommer\n",
       "brand               Abiamarcae\n",
       "color                    beige\n",
       "Abteilung         Abteilung001\n",
       "WHG                     WHG001\n",
       "WUG                     WUG001\n",
       "time_on_sale                 0\n",
       "original_price            9.95\n",
       "sells_price             -32.01\n",
       "discount                   -30\n",
       "markdown                   -10\n",
       "article_count                1\n",
       "stock_total                106\n",
       "avq                          0\n",
       "revenue                 -32.01\n",
       "dtype: object"
      ]
     },
     "execution_count": 5,
     "metadata": {},
     "output_type": "execute_result"
    }
   ],
   "source": [
    "data_raw.min()"
   ]
  },
  {
   "cell_type": "code",
   "execution_count": 6,
   "metadata": {},
   "outputs": [
    {
     "data": {
      "text/plain": [
       "article_id                     908708\n",
       "season                         Winter\n",
       "brand             Þorgerðr Holgabrúðr\n",
       "color                 weiss / schwarz\n",
       "Abteilung                Abteilung007\n",
       "WHG                            WHG043\n",
       "WUG                            WUG152\n",
       "time_on_sale                       25\n",
       "original_price                 179.95\n",
       "sells_price                    179.95\n",
       "discount                        88.95\n",
       "markdown                           90\n",
       "article_count                 156.143\n",
       "stock_total                     36396\n",
       "avq                           100.121\n",
       "revenue                       5511.12\n",
       "dtype: object"
      ]
     },
     "execution_count": 6,
     "metadata": {},
     "output_type": "execute_result"
    }
   ],
   "source": [
    "data_raw.max()"
   ]
  },
  {
   "cell_type": "code",
   "execution_count": 7,
   "metadata": {},
   "outputs": [
    {
     "data": {
      "text/plain": [
       "8708"
      ]
     },
     "execution_count": 7,
     "metadata": {},
     "output_type": "execute_result"
    }
   ],
   "source": [
    "# checking whether article_id unique count matches with min max values\n",
    "np.count_nonzero(data_raw.article_id.unique())"
   ]
  },
  {
   "cell_type": "code",
   "execution_count": 8,
   "metadata": {},
   "outputs": [],
   "source": [
    "# describe() is pretty useless for transaction_date, markdown_start_date, markdown_end_date"
   ]
  },
  {
   "cell_type": "code",
   "execution_count": 9,
   "metadata": {},
   "outputs": [
    {
     "data": {
      "text/plain": [
       "count   216580.00\n",
       "mean        52.81\n",
       "std         22.65\n",
       "min          9.95\n",
       "25%         39.95\n",
       "50%         49.95\n",
       "75%         69.95\n",
       "max        179.95\n",
       "Name: original_price, dtype: float64"
      ]
     },
     "execution_count": 9,
     "metadata": {},
     "output_type": "execute_result"
    }
   ],
   "source": [
    "# change float format for better readability, without it describe() shows x.xxxxxxxxxe+xx\n",
    "pd.options.display.float_format = \"{:.2f}\".format\n",
    "# the 50% of the describe output is the median\n",
    "data_raw.original_price.describe()"
   ]
  },
  {
   "cell_type": "code",
   "execution_count": 10,
   "metadata": {},
   "outputs": [
    {
     "data": {
      "text/plain": [
       "count   216580.00\n",
       "mean        45.17\n",
       "std         20.89\n",
       "min        -32.01\n",
       "25%         29.48\n",
       "50%         42.29\n",
       "75%         59.03\n",
       "max        179.95\n",
       "Name: sells_price, dtype: float64"
      ]
     },
     "execution_count": 10,
     "metadata": {},
     "output_type": "execute_result"
    }
   ],
   "source": [
    "data_raw.sells_price.describe()"
   ]
  },
  {
   "cell_type": "code",
   "execution_count": 11,
   "metadata": {},
   "outputs": [
    {
     "data": {
      "text/plain": [
       "count   216580.00\n",
       "mean         2.70\n",
       "std          5.08\n",
       "min        -30.00\n",
       "25%          0.19\n",
       "50%          0.84\n",
       "75%          3.04\n",
       "max         88.95\n",
       "Name: discount, dtype: float64"
      ]
     },
     "execution_count": 11,
     "metadata": {},
     "output_type": "execute_result"
    }
   ],
   "source": [
    "data_raw.discount.describe()"
   ]
  },
  {
   "cell_type": "code",
   "execution_count": 12,
   "metadata": {},
   "outputs": [
    {
     "data": {
      "text/plain": [
       "count   216580.00\n",
       "mean         4.94\n",
       "std          9.49\n",
       "min        -10.00\n",
       "25%          0.00\n",
       "50%          0.00\n",
       "75%         10.00\n",
       "max         90.00\n",
       "Name: markdown, dtype: float64"
      ]
     },
     "execution_count": 12,
     "metadata": {},
     "output_type": "execute_result"
    }
   ],
   "source": [
    "data_raw.markdown.describe()"
   ]
  },
  {
   "cell_type": "code",
   "execution_count": 13,
   "metadata": {},
   "outputs": [
    {
     "data": {
      "text/plain": [
       "count   216580.00\n",
       "mean         7.49\n",
       "std          8.58\n",
       "min          1.00\n",
       "25%          2.20\n",
       "50%          4.40\n",
       "75%          9.50\n",
       "max        156.14\n",
       "Name: article_count, dtype: float64"
      ]
     },
     "execution_count": 13,
     "metadata": {},
     "output_type": "execute_result"
    }
   ],
   "source": [
    "data_raw.article_count.describe()"
   ]
  },
  {
   "cell_type": "code",
   "execution_count": 14,
   "metadata": {},
   "outputs": [
    {
     "data": {
      "text/plain": [
       "count   216580.00\n",
       "mean       282.86\n",
       "std        299.06\n",
       "min        -32.01\n",
       "25%         99.92\n",
       "50%        182.05\n",
       "75%        350.95\n",
       "max       5511.12\n",
       "Name: revenue, dtype: float64"
      ]
     },
     "execution_count": 14,
     "metadata": {},
     "output_type": "execute_result"
    }
   ],
   "source": [
    "data_raw.revenue.describe()"
   ]
  },
  {
   "cell_type": "code",
   "execution_count": 15,
   "metadata": {},
   "outputs": [
    {
     "data": {
      "text/plain": [
       "count   216580.00\n",
       "mean      1979.82\n",
       "std       1891.05\n",
       "min        106.00\n",
       "25%        773.00\n",
       "50%       1504.00\n",
       "75%       2749.00\n",
       "max      36396.00\n",
       "Name: stock_total, dtype: float64"
      ]
     },
     "execution_count": 15,
     "metadata": {},
     "output_type": "execute_result"
    }
   ],
   "source": [
    "# there are some really ridiculous outliers here\n",
    "data_raw.stock_total.describe()"
   ]
  },
  {
   "cell_type": "code",
   "execution_count": 16,
   "metadata": {},
   "outputs": [
    {
     "data": {
      "text/plain": [
       "count   216580.00\n",
       "mean        30.09\n",
       "std         23.56\n",
       "min          0.00\n",
       "25%          9.41\n",
       "50%         25.91\n",
       "75%         46.54\n",
       "max        100.12\n",
       "Name: avq, dtype: float64"
      ]
     },
     "execution_count": 16,
     "metadata": {},
     "output_type": "execute_result"
    }
   ],
   "source": [
    "# max value of this is above 100%, probably an accumulated rounding error, but still there\n",
    "data_raw.avq.describe()"
   ]
  },
  {
   "cell_type": "code",
   "execution_count": 17,
   "metadata": {},
   "outputs": [
    {
     "data": {
      "text/plain": [
       "count   216580.00\n",
       "mean        12.17\n",
       "std          7.38\n",
       "min          0.00\n",
       "25%          6.00\n",
       "50%         12.00\n",
       "75%         18.00\n",
       "max         25.00\n",
       "Name: time_on_sale, dtype: float64"
      ]
     },
     "execution_count": 17,
     "metadata": {},
     "output_type": "execute_result"
    }
   ],
   "source": [
    "data_raw.time_on_sale.describe()"
   ]
  },
  {
   "cell_type": "code",
   "execution_count": 18,
   "metadata": {},
   "outputs": [
    {
     "data": {
      "text/plain": [
       "[Sommer, Winter]\n",
       "Categories (2, object): [Sommer, Winter]"
      ]
     },
     "execution_count": 18,
     "metadata": {},
     "output_type": "execute_result"
    }
   ],
   "source": [
    "data_raw.season.unique()"
   ]
  },
  {
   "cell_type": "code",
   "execution_count": 19,
   "metadata": {},
   "outputs": [
    {
     "data": {
      "text/plain": [
       "Sommer    116633\n",
       "Winter     99947\n",
       "Name: season, dtype: int64"
      ]
     },
     "execution_count": 19,
     "metadata": {},
     "output_type": "execute_result"
    }
   ],
   "source": [
    "data_raw.season.value_counts()"
   ]
  },
  {
   "cell_type": "code",
   "execution_count": 20,
   "metadata": {},
   "outputs": [
    {
     "data": {
      "text/plain": [
       "[Fimmilena, Gersimi, Loki, Turstuahenae, Börr, ..., Tamfana, Grusduahenae, Hludana, Axsinginehae, Surt]\n",
       "Length: 75\n",
       "Categories (75, object): [Fimmilena, Gersimi, Loki, Turstuahenae, ..., Grusduahenae, Hludana, Axsinginehae, Surt]"
      ]
     },
     "execution_count": 20,
     "metadata": {},
     "output_type": "execute_result"
    }
   ],
   "source": [
    "data_raw.brand.unique()"
   ]
  },
  {
   "cell_type": "code",
   "execution_count": 21,
   "metadata": {},
   "outputs": [
    {
     "data": {
      "text/plain": [
       "Fimmilena                14764\n",
       "Friagabis                14496\n",
       "Mercurius Arvernus       11150\n",
       "Odin                     11045\n",
       "Freyr                     9232\n",
       "Gautr                     9171\n",
       "Turstuahenae              8504\n",
       "Mani                      7758\n",
       "Gna                       7600\n",
       "Travalaha                 7443\n",
       "Alaisiagae                6597\n",
       "Heimdall                  6463\n",
       "Gersimi                   6393\n",
       "Snotra                    6008\n",
       "Tyr                       5897\n",
       "Hercules Deusoniensis     5567\n",
       "Lodur                     5160\n",
       "Nersihenae                5130\n",
       "Baudihillia               4780\n",
       "Tuisto                    4396\n",
       "Burorina                  4388\n",
       "Beda                      4223\n",
       "Loki                      4013\n",
       "Hymir                     3547\n",
       "Almaviahenae              3251\n",
       "Kolga                     3188\n",
       "Mercurius Hranno          2940\n",
       "Alaferhviae               2533\n",
       "Siofna                    2459\n",
       "Uller                     2239\n",
       "                         ...  \n",
       "Verdandi                   728\n",
       "Gebrinius                  723\n",
       "Hermodr                    655\n",
       "Mahalinehae                640\n",
       "Vacallinehae               574\n",
       "Þorgerðr Holgabrúðr        529\n",
       "Forseti                    501\n",
       "Idun                       473\n",
       "Gratichae                  446\n",
       "Grusduahenae               417\n",
       "Hludana                    412\n",
       "Baduhenna                  383\n",
       "Sunuxsal                   291\n",
       "Hurstrga                   260\n",
       "Hödur                      216\n",
       "Surt                       180\n",
       "Vili                       168\n",
       "Sif                        148\n",
       "Axsinginehae               130\n",
       "Thor                       130\n",
       "Alaterviae                 129\n",
       "Dise                       106\n",
       "Gausus                      74\n",
       "Ahinehiae                   67\n",
       "Tamfana                     52\n",
       "Hariasa                     52\n",
       "Mars Halamardus             52\n",
       "Aufaniae                    52\n",
       "Vagdavercustis              52\n",
       "Dag                         24\n",
       "Name: brand, Length: 75, dtype: int64"
      ]
     },
     "execution_count": 21,
     "metadata": {},
     "output_type": "execute_result"
    }
   ],
   "source": [
    "data_raw.brand.value_counts()"
   ]
  },
  {
   "cell_type": "code",
   "execution_count": 22,
   "metadata": {},
   "outputs": [
    {
     "data": {
      "text/plain": [
       "[mittelbraun, weiss / blau, mittelgrau, mittelblau, pink, ..., multicolor, gelb, bordeauxrot, rost, ockergelb]\n",
       "Length: 40\n",
       "Categories (40, object): [mittelbraun, weiss / blau, mittelgrau, mittelblau, ..., gelb, bordeauxrot, rost, ockergelb]"
      ]
     },
     "execution_count": 22,
     "metadata": {},
     "output_type": "execute_result"
    }
   ],
   "source": [
    "data_raw.color.unique()"
   ]
  },
  {
   "cell_type": "code",
   "execution_count": 23,
   "metadata": {},
   "outputs": [
    {
     "data": {
      "text/plain": [
       "schwarz                 45986\n",
       "dunkelblau              23546\n",
       "schwarz / kombiniert    16375\n",
       "mittelbraun             16294\n",
       "mittelgrau              13459\n",
       "dunkelbraun             12431\n",
       "dunkelgrau              11221\n",
       "mittelblau               9240\n",
       "beige                    8629\n",
       "hellgrau                 6597\n",
       "rosa                     4877\n",
       "pink                     4838\n",
       "weiss / kombiniert       4280\n",
       "weiss                    3908\n",
       "bordeauxrot              3109\n",
       "hellbraun                2803\n",
       "camel                    2540\n",
       "rot                      2317\n",
       "beige / kombiniert       2198\n",
       "lila                     1936\n",
       "silber                   1888\n",
       "hellblau                 1787\n",
       "offwhite                 1783\n",
       "türkis                   1753\n",
       "multicolor               1653\n",
       "gold                     1476\n",
       "graublau                 1161\n",
       "khaki                    1133\n",
       "olivegrün                1110\n",
       "gelb                      941\n",
       "mintgrün                  866\n",
       "orange                    824\n",
       "hellgrün                  694\n",
       "bronze/kupfer             651\n",
       "flieder                   561\n",
       "grün                      555\n",
       "weiss / schwarz           462\n",
       "weiss / blau              414\n",
       "rost                      260\n",
       "ockergelb                  24\n",
       "Name: color, dtype: int64"
      ]
     },
     "execution_count": 23,
     "metadata": {},
     "output_type": "execute_result"
    }
   ],
   "source": [
    "data_raw.color.value_counts()"
   ]
  },
  {
   "cell_type": "code",
   "execution_count": 24,
   "metadata": {},
   "outputs": [
    {
     "data": {
      "text/plain": [
       "['Abteilung001',\n",
       " 'Abteilung002',\n",
       " 'Abteilung003',\n",
       " 'Abteilung004',\n",
       " 'Abteilung005',\n",
       " 'Abteilung006',\n",
       " 'Abteilung007']"
      ]
     },
     "execution_count": 24,
     "metadata": {},
     "output_type": "execute_result"
    }
   ],
   "source": [
    "sorted(data_raw.Abteilung.unique())"
   ]
  },
  {
   "cell_type": "code",
   "execution_count": 25,
   "metadata": {},
   "outputs": [
    {
     "data": {
      "text/plain": [
       "Abteilung002    95349\n",
       "Abteilung006    37016\n",
       "Abteilung005    36328\n",
       "Abteilung007    35498\n",
       "Abteilung004     6704\n",
       "Abteilung001     4986\n",
       "Abteilung003      699\n",
       "Name: Abteilung, dtype: int64"
      ]
     },
     "execution_count": 25,
     "metadata": {},
     "output_type": "execute_result"
    }
   ],
   "source": [
    "data_raw.Abteilung.value_counts()"
   ]
  },
  {
   "cell_type": "code",
   "execution_count": 26,
   "metadata": {},
   "outputs": [
    {
     "data": {
      "text/plain": [
       "['WHG001',\n",
       " 'WHG002',\n",
       " 'WHG003',\n",
       " 'WHG004',\n",
       " 'WHG005',\n",
       " 'WHG006',\n",
       " 'WHG007',\n",
       " 'WHG008',\n",
       " 'WHG009',\n",
       " 'WHG010',\n",
       " 'WHG011',\n",
       " 'WHG012',\n",
       " 'WHG013',\n",
       " 'WHG014',\n",
       " 'WHG015',\n",
       " 'WHG016',\n",
       " 'WHG017',\n",
       " 'WHG018',\n",
       " 'WHG019',\n",
       " 'WHG020',\n",
       " 'WHG021',\n",
       " 'WHG022',\n",
       " 'WHG023',\n",
       " 'WHG024',\n",
       " 'WHG025',\n",
       " 'WHG026',\n",
       " 'WHG027',\n",
       " 'WHG028',\n",
       " 'WHG029',\n",
       " 'WHG030',\n",
       " 'WHG031',\n",
       " 'WHG032',\n",
       " 'WHG033',\n",
       " 'WHG034',\n",
       " 'WHG035',\n",
       " 'WHG036',\n",
       " 'WHG037',\n",
       " 'WHG038',\n",
       " 'WHG039',\n",
       " 'WHG040',\n",
       " 'WHG041',\n",
       " 'WHG042',\n",
       " 'WHG043']"
      ]
     },
     "execution_count": 26,
     "metadata": {},
     "output_type": "execute_result"
    }
   ],
   "source": [
    "sorted(data_raw.WHG.unique())"
   ]
  },
  {
   "cell_type": "code",
   "execution_count": 27,
   "metadata": {},
   "outputs": [
    {
     "data": {
      "text/plain": [
       "WHG015    23772\n",
       "WHG021    19769\n",
       "WHG012    15565\n",
       "WHG007    13798\n",
       "WHG041    13505\n",
       "WHG034    13249\n",
       "WHG009    12197\n",
       "WHG010    12136\n",
       "WHG042    11901\n",
       "WHG043     8208\n",
       "WHG006     7904\n",
       "WHG038     6489\n",
       "WHG022     6430\n",
       "WHG023     5878\n",
       "WHG035     5073\n",
       "WHG032     4729\n",
       "WHG008     3401\n",
       "WHG005     3238\n",
       "WHG028     3212\n",
       "WHG036     3029\n",
       "WHG001     2581\n",
       "WHG026     2296\n",
       "WHG014     1925\n",
       "WHG037     1750\n",
       "WHG002     1277\n",
       "WHG033     1217\n",
       "WHG020     1213\n",
       "WHG025     1210\n",
       "WHG019     1191\n",
       "WHG039     1167\n",
       "WHG003     1128\n",
       "WHG027     1092\n",
       "WHG031      830\n",
       "WHG013      741\n",
       "WHG040      717\n",
       "WHG030      650\n",
       "WHG018      548\n",
       "WHG017      494\n",
       "WHG011      435\n",
       "WHG004      237\n",
       "WHG016      205\n",
       "WHG029      104\n",
       "WHG024       89\n",
       "Name: WHG, dtype: int64"
      ]
     },
     "execution_count": 27,
     "metadata": {},
     "output_type": "execute_result"
    }
   ],
   "source": [
    "data_raw.WHG.value_counts()"
   ]
  },
  {
   "cell_type": "code",
   "execution_count": 28,
   "metadata": {},
   "outputs": [
    {
     "data": {
      "text/plain": [
       "['WUG001',\n",
       " 'WUG002',\n",
       " 'WUG003',\n",
       " 'WUG004',\n",
       " 'WUG005',\n",
       " 'WUG006',\n",
       " 'WUG007',\n",
       " 'WUG008',\n",
       " 'WUG009',\n",
       " 'WUG010',\n",
       " 'WUG011',\n",
       " 'WUG012',\n",
       " 'WUG013',\n",
       " 'WUG014',\n",
       " 'WUG015',\n",
       " 'WUG016',\n",
       " 'WUG017',\n",
       " 'WUG018',\n",
       " 'WUG019',\n",
       " 'WUG020',\n",
       " 'WUG021',\n",
       " 'WUG022',\n",
       " 'WUG023',\n",
       " 'WUG024',\n",
       " 'WUG025',\n",
       " 'WUG026',\n",
       " 'WUG027',\n",
       " 'WUG028',\n",
       " 'WUG029',\n",
       " 'WUG030',\n",
       " 'WUG031',\n",
       " 'WUG032',\n",
       " 'WUG033',\n",
       " 'WUG034',\n",
       " 'WUG035',\n",
       " 'WUG036',\n",
       " 'WUG037',\n",
       " 'WUG038',\n",
       " 'WUG039',\n",
       " 'WUG040',\n",
       " 'WUG041',\n",
       " 'WUG042',\n",
       " 'WUG043',\n",
       " 'WUG044',\n",
       " 'WUG045',\n",
       " 'WUG046',\n",
       " 'WUG047',\n",
       " 'WUG048',\n",
       " 'WUG049',\n",
       " 'WUG050',\n",
       " 'WUG051',\n",
       " 'WUG052',\n",
       " 'WUG053',\n",
       " 'WUG054',\n",
       " 'WUG055',\n",
       " 'WUG056',\n",
       " 'WUG057',\n",
       " 'WUG058',\n",
       " 'WUG059',\n",
       " 'WUG060',\n",
       " 'WUG061',\n",
       " 'WUG062',\n",
       " 'WUG063',\n",
       " 'WUG064',\n",
       " 'WUG065',\n",
       " 'WUG066',\n",
       " 'WUG067',\n",
       " 'WUG068',\n",
       " 'WUG069',\n",
       " 'WUG070',\n",
       " 'WUG071',\n",
       " 'WUG072',\n",
       " 'WUG073',\n",
       " 'WUG074',\n",
       " 'WUG075',\n",
       " 'WUG076',\n",
       " 'WUG077',\n",
       " 'WUG078',\n",
       " 'WUG079',\n",
       " 'WUG080',\n",
       " 'WUG081',\n",
       " 'WUG082',\n",
       " 'WUG083',\n",
       " 'WUG084',\n",
       " 'WUG085',\n",
       " 'WUG086',\n",
       " 'WUG087',\n",
       " 'WUG088',\n",
       " 'WUG089',\n",
       " 'WUG090',\n",
       " 'WUG091',\n",
       " 'WUG092',\n",
       " 'WUG093',\n",
       " 'WUG094',\n",
       " 'WUG095',\n",
       " 'WUG096',\n",
       " 'WUG097',\n",
       " 'WUG098',\n",
       " 'WUG099',\n",
       " 'WUG100',\n",
       " 'WUG101',\n",
       " 'WUG102',\n",
       " 'WUG103',\n",
       " 'WUG104',\n",
       " 'WUG105',\n",
       " 'WUG106',\n",
       " 'WUG107',\n",
       " 'WUG108',\n",
       " 'WUG109',\n",
       " 'WUG110',\n",
       " 'WUG111',\n",
       " 'WUG112',\n",
       " 'WUG113',\n",
       " 'WUG114',\n",
       " 'WUG115',\n",
       " 'WUG116',\n",
       " 'WUG117',\n",
       " 'WUG118',\n",
       " 'WUG119',\n",
       " 'WUG120',\n",
       " 'WUG121',\n",
       " 'WUG122',\n",
       " 'WUG123',\n",
       " 'WUG124',\n",
       " 'WUG125',\n",
       " 'WUG126',\n",
       " 'WUG127',\n",
       " 'WUG128',\n",
       " 'WUG129',\n",
       " 'WUG130',\n",
       " 'WUG131',\n",
       " 'WUG132',\n",
       " 'WUG133',\n",
       " 'WUG134',\n",
       " 'WUG135',\n",
       " 'WUG136',\n",
       " 'WUG137',\n",
       " 'WUG138',\n",
       " 'WUG139',\n",
       " 'WUG140',\n",
       " 'WUG141',\n",
       " 'WUG142',\n",
       " 'WUG143',\n",
       " 'WUG144',\n",
       " 'WUG145',\n",
       " 'WUG146',\n",
       " 'WUG147',\n",
       " 'WUG148',\n",
       " 'WUG149',\n",
       " 'WUG150',\n",
       " 'WUG151',\n",
       " 'WUG152']"
      ]
     },
     "execution_count": 28,
     "metadata": {},
     "output_type": "execute_result"
    }
   ],
   "source": [
    "sorted(data_raw.WUG.unique())"
   ]
  },
  {
   "cell_type": "code",
   "execution_count": 29,
   "metadata": {},
   "outputs": [
    {
     "data": {
      "text/plain": [
       "WUG053    9678\n",
       "WUG020    8557\n",
       "WUG051    8428\n",
       "WUG033    7023\n",
       "WUG029    7018\n",
       "WUG015    6856\n",
       "WUG139    6359\n",
       "WUG073    5958\n",
       "WUG136    5901\n",
       "WUG040    5542\n",
       "WUG138    5542\n",
       "WUG045    4834\n",
       "WUG137    4678\n",
       "WUG069    4668\n",
       "WUG146    4596\n",
       "WUG072    4053\n",
       "WUG115    3570\n",
       "WUG105    3456\n",
       "WUG018    3424\n",
       "WUG140    2926\n",
       "WUG107    2674\n",
       "WUG117    2597\n",
       "WUG046    2554\n",
       "WUG077    2457\n",
       "WUG001    2427\n",
       "WUG114    2379\n",
       "WUG055    2275\n",
       "WUG035    2251\n",
       "WUG118    2221\n",
       "WUG070    2189\n",
       "          ... \n",
       "WUG057     205\n",
       "WUG011     189\n",
       "WUG103     182\n",
       "WUG060     158\n",
       "WUG002     154\n",
       "WUG124     145\n",
       "WUG061     104\n",
       "WUG009     104\n",
       "WUG101     104\n",
       "WUG087      89\n",
       "WUG122      88\n",
       "WUG008      81\n",
       "WUG032      78\n",
       "WUG142      78\n",
       "WUG091      77\n",
       "WUG065      62\n",
       "WUG044      59\n",
       "WUG007      52\n",
       "WUG096      52\n",
       "WUG024      48\n",
       "WUG047      42\n",
       "WUG095      26\n",
       "WUG028      26\n",
       "WUG098      26\n",
       "WUG133      26\n",
       "WUG004      26\n",
       "WUG039      25\n",
       "WUG012      23\n",
       "WUG075      21\n",
       "WUG123      13\n",
       "Name: WUG, Length: 152, dtype: int64"
      ]
     },
     "execution_count": 29,
     "metadata": {},
     "output_type": "execute_result"
    }
   ],
   "source": [
    "data_raw.WUG.value_counts()"
   ]
  }
 ],
 "metadata": {
  "kernelspec": {
   "display_name": "tailor",
   "language": "python",
   "name": "tailor"
  },
  "language_info": {
   "codemirror_mode": {
    "name": "ipython",
    "version": 3
   },
   "file_extension": ".py",
   "mimetype": "text/x-python",
   "name": "python",
   "nbconvert_exporter": "python",
   "pygments_lexer": "ipython3",
   "version": "3.6.5"
  }
 },
 "nbformat": 4,
 "nbformat_minor": 2
}
