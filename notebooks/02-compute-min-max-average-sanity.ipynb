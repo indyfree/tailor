{
 "cells": [
  {
   "cell_type": "code",
   "execution_count": 1,
   "metadata": {},
   "outputs": [],
   "source": [
    "import matplotlib as mpl\n",
    "import matplotlib.pyplot as plt\n",
    "import numpy as np\n",
    "import pandas as pd\n",
    "import tailor"
   ]
  },
  {
   "cell_type": "code",
   "execution_count": 2,
   "metadata": {},
   "outputs": [],
   "source": [
    "data_raw = tailor.load_data()"
   ]
  },
  {
   "cell_type": "code",
   "execution_count": 3,
   "metadata": {},
   "outputs": [
    {
     "data": {
      "text/html": [
       "<div>\n",
       "<style scoped>\n",
       "    .dataframe tbody tr th:only-of-type {\n",
       "        vertical-align: middle;\n",
       "    }\n",
       "\n",
       "    .dataframe tbody tr th {\n",
       "        vertical-align: top;\n",
       "    }\n",
       "\n",
       "    .dataframe thead th {\n",
       "        text-align: right;\n",
       "    }\n",
       "</style>\n",
       "<table border=\"1\" class=\"dataframe\">\n",
       "  <thead>\n",
       "    <tr style=\"text-align: right;\">\n",
       "      <th></th>\n",
       "      <th>article_id</th>\n",
       "      <th>transaction_date</th>\n",
       "      <th>markdown_start_date</th>\n",
       "      <th>markdown_end_date</th>\n",
       "      <th>original_price</th>\n",
       "      <th>sells_price</th>\n",
       "      <th>discount</th>\n",
       "      <th>markdown</th>\n",
       "      <th>article_count</th>\n",
       "      <th>season</th>\n",
       "      <th>brand</th>\n",
       "      <th>color</th>\n",
       "      <th>stock_total</th>\n",
       "      <th>avq</th>\n",
       "      <th>Abteilung</th>\n",
       "      <th>WHG</th>\n",
       "      <th>WUG</th>\n",
       "      <th>time_on_sale</th>\n",
       "      <th>revenue</th>\n",
       "    </tr>\n",
       "  </thead>\n",
       "  <tbody>\n",
       "    <tr>\n",
       "      <th>0</th>\n",
       "      <td>900001</td>\n",
       "      <td>2014-03-27</td>\n",
       "      <td>2013-10-18</td>\n",
       "      <td>2014-05-31</td>\n",
       "      <td>59.95</td>\n",
       "      <td>53.95</td>\n",
       "      <td>6.0</td>\n",
       "      <td>0.0</td>\n",
       "      <td>2</td>\n",
       "      <td>Sommer</td>\n",
       "      <td>Fimmilena</td>\n",
       "      <td>mittelbraun</td>\n",
       "      <td>1499</td>\n",
       "      <td>0.133422</td>\n",
       "      <td>Abteilung005</td>\n",
       "      <td>WHG021</td>\n",
       "      <td>WUG073</td>\n",
       "      <td>0</td>\n",
       "      <td>107.90</td>\n",
       "    </tr>\n",
       "    <tr>\n",
       "      <th>1</th>\n",
       "      <td>900001</td>\n",
       "      <td>2014-03-28</td>\n",
       "      <td>2013-10-18</td>\n",
       "      <td>2014-05-31</td>\n",
       "      <td>59.95</td>\n",
       "      <td>59.95</td>\n",
       "      <td>0.0</td>\n",
       "      <td>0.0</td>\n",
       "      <td>2</td>\n",
       "      <td>Sommer</td>\n",
       "      <td>Fimmilena</td>\n",
       "      <td>mittelbraun</td>\n",
       "      <td>1499</td>\n",
       "      <td>0.266845</td>\n",
       "      <td>Abteilung005</td>\n",
       "      <td>WHG021</td>\n",
       "      <td>WUG073</td>\n",
       "      <td>1</td>\n",
       "      <td>119.90</td>\n",
       "    </tr>\n",
       "    <tr>\n",
       "      <th>2</th>\n",
       "      <td>900001</td>\n",
       "      <td>2014-03-29</td>\n",
       "      <td>2013-10-18</td>\n",
       "      <td>2014-05-31</td>\n",
       "      <td>59.95</td>\n",
       "      <td>59.95</td>\n",
       "      <td>0.0</td>\n",
       "      <td>0.0</td>\n",
       "      <td>3</td>\n",
       "      <td>Sommer</td>\n",
       "      <td>Fimmilena</td>\n",
       "      <td>mittelbraun</td>\n",
       "      <td>1499</td>\n",
       "      <td>0.466978</td>\n",
       "      <td>Abteilung005</td>\n",
       "      <td>WHG021</td>\n",
       "      <td>WUG073</td>\n",
       "      <td>2</td>\n",
       "      <td>179.85</td>\n",
       "    </tr>\n",
       "    <tr>\n",
       "      <th>3</th>\n",
       "      <td>900001</td>\n",
       "      <td>2014-03-31</td>\n",
       "      <td>2013-10-18</td>\n",
       "      <td>2014-05-31</td>\n",
       "      <td>59.95</td>\n",
       "      <td>59.55</td>\n",
       "      <td>0.4</td>\n",
       "      <td>0.0</td>\n",
       "      <td>5</td>\n",
       "      <td>Sommer</td>\n",
       "      <td>Fimmilena</td>\n",
       "      <td>mittelbraun</td>\n",
       "      <td>1499</td>\n",
       "      <td>0.800534</td>\n",
       "      <td>Abteilung005</td>\n",
       "      <td>WHG021</td>\n",
       "      <td>WUG073</td>\n",
       "      <td>4</td>\n",
       "      <td>297.75</td>\n",
       "    </tr>\n",
       "    <tr>\n",
       "      <th>4</th>\n",
       "      <td>900001</td>\n",
       "      <td>2014-04-01</td>\n",
       "      <td>2013-10-18</td>\n",
       "      <td>2014-05-31</td>\n",
       "      <td>59.95</td>\n",
       "      <td>59.95</td>\n",
       "      <td>0.0</td>\n",
       "      <td>0.0</td>\n",
       "      <td>6</td>\n",
       "      <td>Sommer</td>\n",
       "      <td>Fimmilena</td>\n",
       "      <td>mittelbraun</td>\n",
       "      <td>1499</td>\n",
       "      <td>1.200801</td>\n",
       "      <td>Abteilung005</td>\n",
       "      <td>WHG021</td>\n",
       "      <td>WUG073</td>\n",
       "      <td>5</td>\n",
       "      <td>359.70</td>\n",
       "    </tr>\n",
       "  </tbody>\n",
       "</table>\n",
       "</div>"
      ],
      "text/plain": [
       "  article_id transaction_date markdown_start_date markdown_end_date  \\\n",
       "0     900001       2014-03-27          2013-10-18        2014-05-31   \n",
       "1     900001       2014-03-28          2013-10-18        2014-05-31   \n",
       "2     900001       2014-03-29          2013-10-18        2014-05-31   \n",
       "3     900001       2014-03-31          2013-10-18        2014-05-31   \n",
       "4     900001       2014-04-01          2013-10-18        2014-05-31   \n",
       "\n",
       "   original_price  sells_price  discount  markdown  article_count  season  \\\n",
       "0           59.95        53.95       6.0       0.0              2  Sommer   \n",
       "1           59.95        59.95       0.0       0.0              2  Sommer   \n",
       "2           59.95        59.95       0.0       0.0              3  Sommer   \n",
       "3           59.95        59.55       0.4       0.0              5  Sommer   \n",
       "4           59.95        59.95       0.0       0.0              6  Sommer   \n",
       "\n",
       "       brand        color  stock_total       avq     Abteilung     WHG  \\\n",
       "0  Fimmilena  mittelbraun         1499  0.133422  Abteilung005  WHG021   \n",
       "1  Fimmilena  mittelbraun         1499  0.266845  Abteilung005  WHG021   \n",
       "2  Fimmilena  mittelbraun         1499  0.466978  Abteilung005  WHG021   \n",
       "3  Fimmilena  mittelbraun         1499  0.800534  Abteilung005  WHG021   \n",
       "4  Fimmilena  mittelbraun         1499  1.200801  Abteilung005  WHG021   \n",
       "\n",
       "      WUG  time_on_sale  revenue  \n",
       "0  WUG073             0   107.90  \n",
       "1  WUG073             1   119.90  \n",
       "2  WUG073             2   179.85  \n",
       "3  WUG073             4   297.75  \n",
       "4  WUG073             5   359.70  "
      ]
     },
     "execution_count": 3,
     "metadata": {},
     "output_type": "execute_result"
    }
   ],
   "source": [
    "data_raw.head()"
   ]
  },
  {
   "cell_type": "code",
   "execution_count": 4,
   "metadata": {},
   "outputs": [
    {
     "data": {
      "text/plain": [
       "article_id             0\n",
       "transaction_date       0\n",
       "markdown_start_date    0\n",
       "markdown_end_date      0\n",
       "original_price         0\n",
       "sells_price            0\n",
       "discount               0\n",
       "markdown               0\n",
       "article_count          0\n",
       "season                 0\n",
       "brand                  0\n",
       "color                  0\n",
       "stock_total            0\n",
       "avq                    0\n",
       "Abteilung              0\n",
       "WHG                    0\n",
       "WUG                    0\n",
       "time_on_sale           0\n",
       "revenue                0\n",
       "dtype: int64"
      ]
     },
     "execution_count": 4,
     "metadata": {},
     "output_type": "execute_result"
    }
   ],
   "source": [
    "# checking whether there are any NaN cells\n",
    "data_raw.isnull().sum()"
   ]
  },
  {
   "cell_type": "code",
   "execution_count": 5,
   "metadata": {},
   "outputs": [
    {
     "data": {
      "text/plain": [
       "article_id                          900001\n",
       "transaction_date       2014-01-02 00:00:00\n",
       "markdown_start_date    2008-09-01 00:00:00\n",
       "markdown_end_date      2014-01-31 00:00:00\n",
       "original_price                        9.95\n",
       "sells_price                         -47.96\n",
       "discount                            -99.96\n",
       "markdown                               -19\n",
       "article_count                            1\n",
       "season                              Sommer\n",
       "brand                           Abiamarcae\n",
       "color                                beige\n",
       "stock_total                            106\n",
       "avq                                      0\n",
       "Abteilung                     Abteilung001\n",
       "WHG                                 WHG001\n",
       "WUG                                 WUG001\n",
       "time_on_sale                             0\n",
       "revenue                             -47.96\n",
       "dtype: object"
      ]
     },
     "execution_count": 5,
     "metadata": {},
     "output_type": "execute_result"
    }
   ],
   "source": [
    "data_raw.min()"
   ]
  },
  {
   "cell_type": "code",
   "execution_count": 6,
   "metadata": {},
   "outputs": [
    {
     "data": {
      "text/plain": [
       "article_id                          908708\n",
       "transaction_date       2017-03-08 00:00:00\n",
       "markdown_start_date    2017-02-09 00:00:00\n",
       "markdown_end_date      2018-12-31 00:00:00\n",
       "original_price                      179.95\n",
       "sells_price                         199.91\n",
       "discount                            129.96\n",
       "markdown                                90\n",
       "article_count                          281\n",
       "season                              Winter\n",
       "brand                  Þorgerðr Holgabrúðr\n",
       "color                      weiss / schwarz\n",
       "stock_total                          36396\n",
       "avq                                100.248\n",
       "Abteilung                     Abteilung007\n",
       "WHG                                 WHG043\n",
       "WUG                                 WUG152\n",
       "time_on_sale                           181\n",
       "revenue                            13403.6\n",
       "dtype: object"
      ]
     },
     "execution_count": 6,
     "metadata": {},
     "output_type": "execute_result"
    }
   ],
   "source": [
    "data_raw.max()"
   ]
  },
  {
   "cell_type": "code",
   "execution_count": 7,
   "metadata": {},
   "outputs": [
    {
     "data": {
      "text/plain": [
       "8708"
      ]
     },
     "execution_count": 7,
     "metadata": {},
     "output_type": "execute_result"
    }
   ],
   "source": [
    "# checking whether article_id unique count matches with min max values\n",
    "np.count_nonzero(data_raw.article_id.unique())"
   ]
  },
  {
   "cell_type": "code",
   "execution_count": 8,
   "metadata": {},
   "outputs": [],
   "source": [
    "# describe() is pretty useless for transaction_date, markdown_start_date, markdown_end_date"
   ]
  },
  {
   "cell_type": "code",
   "execution_count": 9,
   "metadata": {},
   "outputs": [
    {
     "data": {
      "text/plain": [
       "count   1131329.00\n",
       "mean         51.33\n",
       "std          22.19\n",
       "min           9.95\n",
       "25%          35.95\n",
       "50%          49.95\n",
       "75%          64.95\n",
       "max         179.95\n",
       "Name: original_price, dtype: float64"
      ]
     },
     "execution_count": 9,
     "metadata": {},
     "output_type": "execute_result"
    }
   ],
   "source": [
    "# change float format for better readability, without it describe() shows x.xxxxxxxxxe+xx\n",
    "pd.options.display.float_format = \"{:.2f}\".format\n",
    "# the 50% of the describe output is the median\n",
    "data_raw.original_price.describe()"
   ]
  },
  {
   "cell_type": "code",
   "execution_count": 10,
   "metadata": {},
   "outputs": [
    {
     "data": {
      "text/plain": [
       "count   1131329.00\n",
       "mean         43.87\n",
       "std          20.50\n",
       "min         -47.96\n",
       "25%          29.34\n",
       "50%          39.95\n",
       "75%          58.02\n",
       "max         199.91\n",
       "Name: sells_price, dtype: float64"
      ]
     },
     "execution_count": 10,
     "metadata": {},
     "output_type": "execute_result"
    }
   ],
   "source": [
    "data_raw.sells_price.describe()"
   ]
  },
  {
   "cell_type": "code",
   "execution_count": 11,
   "metadata": {},
   "outputs": [
    {
     "data": {
      "text/plain": [
       "count   1131329.00\n",
       "mean          2.58\n",
       "std           5.73\n",
       "min         -99.96\n",
       "25%           0.00\n",
       "50%           0.28\n",
       "75%           2.50\n",
       "max         129.96\n",
       "Name: discount, dtype: float64"
      ]
     },
     "execution_count": 11,
     "metadata": {},
     "output_type": "execute_result"
    }
   ],
   "source": [
    "data_raw.discount.describe()"
   ]
  },
  {
   "cell_type": "code",
   "execution_count": 12,
   "metadata": {},
   "outputs": [
    {
     "data": {
      "text/plain": [
       "count   1131329.00\n",
       "mean          4.88\n",
       "std           9.43\n",
       "min         -19.00\n",
       "25%           0.00\n",
       "50%           0.00\n",
       "75%          10.00\n",
       "max          90.00\n",
       "Name: markdown, dtype: float64"
      ]
     },
     "execution_count": 12,
     "metadata": {},
     "output_type": "execute_result"
    }
   ],
   "source": [
    "data_raw.markdown.describe()"
   ]
  },
  {
   "cell_type": "code",
   "execution_count": 13,
   "metadata": {},
   "outputs": [
    {
     "data": {
      "text/plain": [
       "count   1131329.00\n",
       "mean          8.52\n",
       "std          10.84\n",
       "min           1.00\n",
       "25%           2.00\n",
       "50%           5.00\n",
       "75%          11.00\n",
       "max         281.00\n",
       "Name: article_count, dtype: float64"
      ]
     },
     "execution_count": 13,
     "metadata": {},
     "output_type": "execute_result"
    }
   ],
   "source": [
    "data_raw.article_count.describe()"
   ]
  },
  {
   "cell_type": "code",
   "execution_count": 14,
   "metadata": {},
   "outputs": [
    {
     "data": {
      "text/plain": [
       "count   1131329.00\n",
       "mean        317.27\n",
       "std         385.77\n",
       "min         -47.96\n",
       "25%          86.28\n",
       "50%         190.95\n",
       "75%         397.12\n",
       "max       13403.60\n",
       "Name: revenue, dtype: float64"
      ]
     },
     "execution_count": 14,
     "metadata": {},
     "output_type": "execute_result"
    }
   ],
   "source": [
    "data_raw.revenue.describe()"
   ]
  },
  {
   "cell_type": "code",
   "execution_count": 15,
   "metadata": {},
   "outputs": [
    {
     "data": {
      "text/plain": [
       "count   1131329.00\n",
       "mean       2162.84\n",
       "std        1960.91\n",
       "min         106.00\n",
       "25%         910.00\n",
       "50%        1737.00\n",
       "75%        2956.00\n",
       "max       36396.00\n",
       "Name: stock_total, dtype: float64"
      ]
     },
     "execution_count": 15,
     "metadata": {},
     "output_type": "execute_result"
    }
   ],
   "source": [
    "# there are some really ridiculous outliers here\n",
    "data_raw.stock_total.describe()"
   ]
  },
  {
   "cell_type": "code",
   "execution_count": 16,
   "metadata": {},
   "outputs": [
    {
     "data": {
      "text/plain": [
       "count   1131329.00\n",
       "mean         30.12\n",
       "std          22.89\n",
       "min           0.00\n",
       "25%          10.24\n",
       "50%          26.28\n",
       "75%          46.08\n",
       "max         100.25\n",
       "Name: avq, dtype: float64"
      ]
     },
     "execution_count": 16,
     "metadata": {},
     "output_type": "execute_result"
    }
   ],
   "source": [
    "# max value of this is above 100%, probably an accumulated rounding error, but still there\n",
    "data_raw.avq.describe()"
   ]
  },
  {
   "cell_type": "code",
   "execution_count": 17,
   "metadata": {},
   "outputs": [
    {
     "data": {
      "text/plain": [
       "count   1131329.00\n",
       "mean         87.38\n",
       "std          50.69\n",
       "min           0.00\n",
       "25%          44.00\n",
       "50%          86.00\n",
       "75%         130.00\n",
       "max         181.00\n",
       "Name: time_on_sale, dtype: float64"
      ]
     },
     "execution_count": 17,
     "metadata": {},
     "output_type": "execute_result"
    }
   ],
   "source": [
    "data_raw.time_on_sale.describe()"
   ]
  },
  {
   "cell_type": "code",
   "execution_count": 18,
   "metadata": {},
   "outputs": [
    {
     "data": {
      "text/plain": [
       "[Sommer, Winter]\n",
       "Categories (2, object): [Sommer, Winter]"
      ]
     },
     "execution_count": 18,
     "metadata": {},
     "output_type": "execute_result"
    }
   ],
   "source": [
    "data_raw.season.unique()"
   ]
  },
  {
   "cell_type": "code",
   "execution_count": 19,
   "metadata": {},
   "outputs": [
    {
     "data": {
      "text/plain": [
       "Sommer    608555\n",
       "Winter    522774\n",
       "Name: season, dtype: int64"
      ]
     },
     "execution_count": 19,
     "metadata": {},
     "output_type": "execute_result"
    }
   ],
   "source": [
    "data_raw.season.value_counts()"
   ]
  },
  {
   "cell_type": "code",
   "execution_count": 20,
   "metadata": {},
   "outputs": [
    {
     "data": {
      "text/plain": [
       "[Fimmilena, Gersimi, Loki, Turstuahenae, Börr, ..., Tamfana, Grusduahenae, Hludana, Axsinginehae, Surt]\n",
       "Length: 75\n",
       "Categories (75, object): [Fimmilena, Gersimi, Loki, Turstuahenae, ..., Grusduahenae, Hludana, Axsinginehae, Surt]"
      ]
     },
     "execution_count": 20,
     "metadata": {},
     "output_type": "execute_result"
    }
   ],
   "source": [
    "data_raw.brand.unique()"
   ]
  },
  {
   "cell_type": "code",
   "execution_count": 21,
   "metadata": {},
   "outputs": [
    {
     "data": {
      "text/plain": [
       "Fimmilena                80414\n",
       "Friagabis                67652\n",
       "Odin                     61249\n",
       "Mercurius Arvernus       57428\n",
       "Gautr                    49942\n",
       "Freyr                    47246\n",
       "Turstuahenae             45741\n",
       "Mani                     42010\n",
       "Gna                      40425\n",
       "Travalaha                39358\n",
       "Gersimi                  36879\n",
       "Hercules Deusoniensis    33365\n",
       "Alaisiagae               33121\n",
       "Tyr                      31710\n",
       "Nersihenae               29866\n",
       "Snotra                   27352\n",
       "Heimdall                 26767\n",
       "Baudihillia              26637\n",
       "Lodur                    26524\n",
       "Tuisto                   24391\n",
       "Beda                     23583\n",
       "Burorina                 22741\n",
       "Loki                     21181\n",
       "Kolga                    18010\n",
       "Hymir                    17328\n",
       "Almaviahenae             15899\n",
       "Mercurius Hranno         15218\n",
       "Uller                    12963\n",
       "Alaferhviae              11627\n",
       "Siofna                   10038\n",
       "                         ...  \n",
       "Hermodr                   3591\n",
       "Mahalinehae               3581\n",
       "Nornen                    3432\n",
       "Vacallinehae              3087\n",
       "Þorgerðr Holgabrúðr       2743\n",
       "Abiamarcae                2718\n",
       "Forseti                   2496\n",
       "Hludana                   2302\n",
       "Grusduahenae              2223\n",
       "Baduhenna                 2143\n",
       "Idun                      2106\n",
       "Gratichae                 1646\n",
       "Hurstrga                  1597\n",
       "Sunuxsal                  1288\n",
       "Hödur                      746\n",
       "Axsinginehae               689\n",
       "Surt                       689\n",
       "Thor                       682\n",
       "Vili                       545\n",
       "Sif                        509\n",
       "Alaterviae                 429\n",
       "Dise                       427\n",
       "Gausus                     373\n",
       "Mars Halamardus            315\n",
       "Ahinehiae                  312\n",
       "Vagdavercustis             306\n",
       "Aufaniae                   302\n",
       "Hariasa                    276\n",
       "Tamfana                    220\n",
       "Dag                        138\n",
       "Name: brand, Length: 75, dtype: int64"
      ]
     },
     "execution_count": 21,
     "metadata": {},
     "output_type": "execute_result"
    }
   ],
   "source": [
    "data_raw.brand.value_counts()"
   ]
  },
  {
   "cell_type": "code",
   "execution_count": 22,
   "metadata": {},
   "outputs": [
    {
     "data": {
      "text/plain": [
       "[mittelbraun, weiss / blau, mittelgrau, mittelblau, pink, ..., multicolor, gelb, bordeauxrot, rost, ockergelb]\n",
       "Length: 40\n",
       "Categories (40, object): [mittelbraun, weiss / blau, mittelgrau, mittelblau, ..., gelb, bordeauxrot, rost, ockergelb]"
      ]
     },
     "execution_count": 22,
     "metadata": {},
     "output_type": "execute_result"
    }
   ],
   "source": [
    "data_raw.color.unique()"
   ]
  },
  {
   "cell_type": "code",
   "execution_count": 23,
   "metadata": {},
   "outputs": [
    {
     "data": {
      "text/plain": [
       "schwarz                 241952\n",
       "dunkelblau              123768\n",
       "schwarz / kombiniert     86090\n",
       "mittelbraun              83882\n",
       "mittelgrau               70582\n",
       "dunkelbraun              63788\n",
       "dunkelgrau               59419\n",
       "mittelblau               48198\n",
       "beige                    45278\n",
       "hellgrau                 34078\n",
       "pink                     25904\n",
       "rosa                     25158\n",
       "weiss / kombiniert       23074\n",
       "weiss                    20395\n",
       "bordeauxrot              16246\n",
       "hellbraun                13932\n",
       "camel                    13532\n",
       "rot                      11809\n",
       "beige / kombiniert       11440\n",
       "lila                     10254\n",
       "hellblau                  9451\n",
       "silber                    9379\n",
       "offwhite                  9185\n",
       "türkis                    8905\n",
       "multicolor                8825\n",
       "gold                      7560\n",
       "graublau                  6026\n",
       "khaki                     5787\n",
       "olivegrün                 5595\n",
       "gelb                      4684\n",
       "mintgrün                  4456\n",
       "orange                    3892\n",
       "hellgrün                  3735\n",
       "bronze/kupfer             3190\n",
       "grün                      2879\n",
       "flieder                   2838\n",
       "weiss / schwarz           2458\n",
       "weiss / blau              2267\n",
       "rost                      1359\n",
       "ockergelb                   79\n",
       "Name: color, dtype: int64"
      ]
     },
     "execution_count": 23,
     "metadata": {},
     "output_type": "execute_result"
    }
   ],
   "source": [
    "data_raw.color.value_counts()"
   ]
  },
  {
   "cell_type": "code",
   "execution_count": 24,
   "metadata": {},
   "outputs": [
    {
     "data": {
      "text/plain": [
       "['Abteilung001',\n",
       " 'Abteilung002',\n",
       " 'Abteilung003',\n",
       " 'Abteilung004',\n",
       " 'Abteilung005',\n",
       " 'Abteilung006',\n",
       " 'Abteilung007']"
      ]
     },
     "execution_count": 24,
     "metadata": {},
     "output_type": "execute_result"
    }
   ],
   "source": [
    "sorted(data_raw.Abteilung.unique())"
   ]
  },
  {
   "cell_type": "code",
   "execution_count": 25,
   "metadata": {},
   "outputs": [
    {
     "data": {
      "text/plain": [
       "Abteilung002    498997\n",
       "Abteilung006    193979\n",
       "Abteilung007    187587\n",
       "Abteilung005    180148\n",
       "Abteilung004     39318\n",
       "Abteilung001     27338\n",
       "Abteilung003      3962\n",
       "Name: Abteilung, dtype: int64"
      ]
     },
     "execution_count": 25,
     "metadata": {},
     "output_type": "execute_result"
    }
   ],
   "source": [
    "data_raw.Abteilung.value_counts()"
   ]
  },
  {
   "cell_type": "code",
   "execution_count": 26,
   "metadata": {},
   "outputs": [
    {
     "data": {
      "text/plain": [
       "['WHG001',\n",
       " 'WHG002',\n",
       " 'WHG003',\n",
       " 'WHG004',\n",
       " 'WHG005',\n",
       " 'WHG006',\n",
       " 'WHG007',\n",
       " 'WHG008',\n",
       " 'WHG009',\n",
       " 'WHG010',\n",
       " 'WHG011',\n",
       " 'WHG012',\n",
       " 'WHG013',\n",
       " 'WHG014',\n",
       " 'WHG015',\n",
       " 'WHG016',\n",
       " 'WHG017',\n",
       " 'WHG018',\n",
       " 'WHG019',\n",
       " 'WHG020',\n",
       " 'WHG021',\n",
       " 'WHG022',\n",
       " 'WHG023',\n",
       " 'WHG024',\n",
       " 'WHG025',\n",
       " 'WHG026',\n",
       " 'WHG027',\n",
       " 'WHG028',\n",
       " 'WHG029',\n",
       " 'WHG030',\n",
       " 'WHG031',\n",
       " 'WHG032',\n",
       " 'WHG033',\n",
       " 'WHG034',\n",
       " 'WHG035',\n",
       " 'WHG036',\n",
       " 'WHG037',\n",
       " 'WHG038',\n",
       " 'WHG039',\n",
       " 'WHG040',\n",
       " 'WHG041',\n",
       " 'WHG042',\n",
       " 'WHG043']"
      ]
     },
     "execution_count": 26,
     "metadata": {},
     "output_type": "execute_result"
    }
   ],
   "source": [
    "sorted(data_raw.WHG.unique())"
   ]
  },
  {
   "cell_type": "code",
   "execution_count": 27,
   "metadata": {},
   "outputs": [
    {
     "data": {
      "text/plain": [
       "WHG015    127617\n",
       "WHG021     97384\n",
       "WHG012     81274\n",
       "WHG041     70765\n",
       "WHG007     70756\n",
       "WHG034     68770\n",
       "WHG010     64345\n",
       "WHG042     63158\n",
       "WHG009     62041\n",
       "WHG043     44714\n",
       "WHG006     40790\n",
       "WHG038     33813\n",
       "WHG022     31091\n",
       "WHG023     30699\n",
       "WHG035     26695\n",
       "WHG032     24197\n",
       "WHG028     18692\n",
       "WHG008     17777\n",
       "WHG005     16871\n",
       "WHG036     15863\n",
       "WHG001     13898\n",
       "WHG026     13342\n",
       "WHG014     10194\n",
       "WHG037      9755\n",
       "WHG002      7333\n",
       "WHG027      6644\n",
       "WHG033      6261\n",
       "WHG003      6107\n",
       "WHG019      6039\n",
       "WHG020      5993\n",
       "WHG039      5669\n",
       "WHG025      5309\n",
       "WHG031      4767\n",
       "WHG030      3858\n",
       "WHG013      3779\n",
       "WHG040      3281\n",
       "WHG018      3217\n",
       "WHG017      2937\n",
       "WHG011      2177\n",
       "WHG004      1376\n",
       "WHG016      1025\n",
       "WHG029       640\n",
       "WHG024       416\n",
       "Name: WHG, dtype: int64"
      ]
     },
     "execution_count": 27,
     "metadata": {},
     "output_type": "execute_result"
    }
   ],
   "source": [
    "data_raw.WHG.value_counts()"
   ]
  },
  {
   "cell_type": "code",
   "execution_count": 28,
   "metadata": {},
   "outputs": [
    {
     "data": {
      "text/plain": [
       "['WUG001',\n",
       " 'WUG002',\n",
       " 'WUG003',\n",
       " 'WUG004',\n",
       " 'WUG005',\n",
       " 'WUG006',\n",
       " 'WUG007',\n",
       " 'WUG008',\n",
       " 'WUG009',\n",
       " 'WUG010',\n",
       " 'WUG011',\n",
       " 'WUG012',\n",
       " 'WUG013',\n",
       " 'WUG014',\n",
       " 'WUG015',\n",
       " 'WUG016',\n",
       " 'WUG017',\n",
       " 'WUG018',\n",
       " 'WUG019',\n",
       " 'WUG020',\n",
       " 'WUG021',\n",
       " 'WUG022',\n",
       " 'WUG023',\n",
       " 'WUG024',\n",
       " 'WUG025',\n",
       " 'WUG026',\n",
       " 'WUG027',\n",
       " 'WUG028',\n",
       " 'WUG029',\n",
       " 'WUG030',\n",
       " 'WUG031',\n",
       " 'WUG032',\n",
       " 'WUG033',\n",
       " 'WUG034',\n",
       " 'WUG035',\n",
       " 'WUG036',\n",
       " 'WUG037',\n",
       " 'WUG038',\n",
       " 'WUG039',\n",
       " 'WUG040',\n",
       " 'WUG041',\n",
       " 'WUG042',\n",
       " 'WUG043',\n",
       " 'WUG044',\n",
       " 'WUG045',\n",
       " 'WUG046',\n",
       " 'WUG047',\n",
       " 'WUG048',\n",
       " 'WUG049',\n",
       " 'WUG050',\n",
       " 'WUG051',\n",
       " 'WUG052',\n",
       " 'WUG053',\n",
       " 'WUG054',\n",
       " 'WUG055',\n",
       " 'WUG056',\n",
       " 'WUG057',\n",
       " 'WUG058',\n",
       " 'WUG059',\n",
       " 'WUG060',\n",
       " 'WUG061',\n",
       " 'WUG062',\n",
       " 'WUG063',\n",
       " 'WUG064',\n",
       " 'WUG065',\n",
       " 'WUG066',\n",
       " 'WUG067',\n",
       " 'WUG068',\n",
       " 'WUG069',\n",
       " 'WUG070',\n",
       " 'WUG071',\n",
       " 'WUG072',\n",
       " 'WUG073',\n",
       " 'WUG074',\n",
       " 'WUG075',\n",
       " 'WUG076',\n",
       " 'WUG077',\n",
       " 'WUG078',\n",
       " 'WUG079',\n",
       " 'WUG080',\n",
       " 'WUG081',\n",
       " 'WUG082',\n",
       " 'WUG083',\n",
       " 'WUG084',\n",
       " 'WUG085',\n",
       " 'WUG086',\n",
       " 'WUG087',\n",
       " 'WUG088',\n",
       " 'WUG089',\n",
       " 'WUG090',\n",
       " 'WUG091',\n",
       " 'WUG092',\n",
       " 'WUG093',\n",
       " 'WUG094',\n",
       " 'WUG095',\n",
       " 'WUG096',\n",
       " 'WUG097',\n",
       " 'WUG098',\n",
       " 'WUG099',\n",
       " 'WUG100',\n",
       " 'WUG101',\n",
       " 'WUG102',\n",
       " 'WUG103',\n",
       " 'WUG104',\n",
       " 'WUG105',\n",
       " 'WUG106',\n",
       " 'WUG107',\n",
       " 'WUG108',\n",
       " 'WUG109',\n",
       " 'WUG110',\n",
       " 'WUG111',\n",
       " 'WUG112',\n",
       " 'WUG113',\n",
       " 'WUG114',\n",
       " 'WUG115',\n",
       " 'WUG116',\n",
       " 'WUG117',\n",
       " 'WUG118',\n",
       " 'WUG119',\n",
       " 'WUG120',\n",
       " 'WUG121',\n",
       " 'WUG122',\n",
       " 'WUG123',\n",
       " 'WUG124',\n",
       " 'WUG125',\n",
       " 'WUG126',\n",
       " 'WUG127',\n",
       " 'WUG128',\n",
       " 'WUG129',\n",
       " 'WUG130',\n",
       " 'WUG131',\n",
       " 'WUG132',\n",
       " 'WUG133',\n",
       " 'WUG134',\n",
       " 'WUG135',\n",
       " 'WUG136',\n",
       " 'WUG137',\n",
       " 'WUG138',\n",
       " 'WUG139',\n",
       " 'WUG140',\n",
       " 'WUG141',\n",
       " 'WUG142',\n",
       " 'WUG143',\n",
       " 'WUG144',\n",
       " 'WUG145',\n",
       " 'WUG146',\n",
       " 'WUG147',\n",
       " 'WUG148',\n",
       " 'WUG149',\n",
       " 'WUG150',\n",
       " 'WUG151',\n",
       " 'WUG152']"
      ]
     },
     "execution_count": 28,
     "metadata": {},
     "output_type": "execute_result"
    }
   ],
   "source": [
    "sorted(data_raw.WUG.unique())"
   ]
  },
  {
   "cell_type": "code",
   "execution_count": 29,
   "metadata": {},
   "outputs": [
    {
     "data": {
      "text/plain": [
       "WUG053    51719\n",
       "WUG051    45415\n",
       "WUG020    43908\n",
       "WUG033    37102\n",
       "WUG015    35320\n",
       "WUG029    34676\n",
       "WUG139    34322\n",
       "WUG136    30380\n",
       "WUG073    30065\n",
       "WUG040    29646\n",
       "WUG138    28836\n",
       "WUG146    25695\n",
       "WUG137    25207\n",
       "WUG045    24771\n",
       "WUG069    22627\n",
       "WUG072    19309\n",
       "WUG115    18988\n",
       "WUG105    17855\n",
       "WUG018    17339\n",
       "WUG140    15178\n",
       "WUG107    14349\n",
       "WUG046    13305\n",
       "WUG117    13173\n",
       "WUG001    13151\n",
       "WUG114    12276\n",
       "WUG055    12179\n",
       "WUG118    11672\n",
       "WUG077    11526\n",
       "WUG035    11417\n",
       "WUG081    11342\n",
       "          ...  \n",
       "WUG083     1014\n",
       "WUG150      998\n",
       "WUG060      917\n",
       "WUG011      895\n",
       "WUG124      771\n",
       "WUG002      747\n",
       "WUG101      640\n",
       "WUG061      623\n",
       "WUG009      591\n",
       "WUG008      479\n",
       "WUG122      478\n",
       "WUG142      465\n",
       "WUG091      453\n",
       "WUG032      452\n",
       "WUG087      416\n",
       "WUG065      341\n",
       "WUG044      324\n",
       "WUG007      306\n",
       "WUG096      293\n",
       "WUG024      213\n",
       "WUG047      212\n",
       "WUG095      162\n",
       "WUG133      158\n",
       "WUG028      154\n",
       "WUG098      143\n",
       "WUG039      136\n",
       "WUG012      132\n",
       "WUG004      124\n",
       "WUG075      122\n",
       "WUG123       67\n",
       "Name: WUG, Length: 152, dtype: int64"
      ]
     },
     "execution_count": 29,
     "metadata": {},
     "output_type": "execute_result"
    }
   ],
   "source": [
    "data_raw.WUG.value_counts()"
   ]
  }
 ],
 "metadata": {
  "kernelspec": {
   "display_name": "tailor",
   "language": "python",
   "name": "tailor"
  },
  "language_info": {
   "codemirror_mode": {
    "name": "ipython",
    "version": 3
   },
   "file_extension": ".py",
   "mimetype": "text/x-python",
   "name": "python",
   "nbconvert_exporter": "python",
   "pygments_lexer": "ipython3",
   "version": "3.6.5"
  }
 },
 "nbformat": 4,
 "nbformat_minor": 2
}
