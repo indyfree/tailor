{
 "cells": [
  {
   "cell_type": "code",
   "execution_count": 1,
   "metadata": {},
   "outputs": [],
   "source": [
    "import matplotlib as mpl\n",
    "import matplotlib.pyplot as plt\n",
    "import numpy as np\n",
    "import pandas as pd\n",
    "import tailor"
   ]
  },
  {
   "cell_type": "code",
   "execution_count": 2,
   "metadata": {},
   "outputs": [],
   "source": [
    "data_raw = tailor.load_data()"
   ]
  },
  {
   "cell_type": "code",
   "execution_count": 3,
   "metadata": {},
   "outputs": [
    {
     "data": {
      "text/html": [
       "<div>\n",
       "<style scoped>\n",
       "    .dataframe tbody tr th:only-of-type {\n",
       "        vertical-align: middle;\n",
       "    }\n",
       "\n",
       "    .dataframe tbody tr th {\n",
       "        vertical-align: top;\n",
       "    }\n",
       "\n",
       "    .dataframe thead th {\n",
       "        text-align: right;\n",
       "    }\n",
       "</style>\n",
       "<table border=\"1\" class=\"dataframe\">\n",
       "  <thead>\n",
       "    <tr style=\"text-align: right;\">\n",
       "      <th></th>\n",
       "      <th>article_id</th>\n",
       "      <th>time_on_sale</th>\n",
       "      <th>original_price</th>\n",
       "      <th>discount</th>\n",
       "      <th>markdown</th>\n",
       "      <th>sells_price</th>\n",
       "      <th>stock_total</th>\n",
       "      <th>avq</th>\n",
       "      <th>article_count</th>\n",
       "      <th>revenue</th>\n",
       "      <th>brand</th>\n",
       "      <th>color</th>\n",
       "      <th>Abteilung</th>\n",
       "      <th>WHG</th>\n",
       "      <th>WUG</th>\n",
       "      <th>month</th>\n",
       "      <th>season</th>\n",
       "    </tr>\n",
       "  </thead>\n",
       "  <tbody>\n",
       "    <tr>\n",
       "      <th>0</th>\n",
       "      <td>900001</td>\n",
       "      <td>0</td>\n",
       "      <td>59.95</td>\n",
       "      <td>0.64</td>\n",
       "      <td>0.0</td>\n",
       "      <td>59.31</td>\n",
       "      <td>1499</td>\n",
       "      <td>0.72</td>\n",
       "      <td>22</td>\n",
       "      <td>1304.90</td>\n",
       "      <td>Fimmilena</td>\n",
       "      <td>mittelbraun</td>\n",
       "      <td>Abteilung005</td>\n",
       "      <td>WHG021</td>\n",
       "      <td>WUG073</td>\n",
       "      <td>March</td>\n",
       "      <td>Spring</td>\n",
       "    </tr>\n",
       "    <tr>\n",
       "      <th>1</th>\n",
       "      <td>900001</td>\n",
       "      <td>1</td>\n",
       "      <td>59.95</td>\n",
       "      <td>0.14</td>\n",
       "      <td>0.0</td>\n",
       "      <td>59.81</td>\n",
       "      <td>1499</td>\n",
       "      <td>3.10</td>\n",
       "      <td>39</td>\n",
       "      <td>2332.61</td>\n",
       "      <td>Fimmilena</td>\n",
       "      <td>mittelbraun</td>\n",
       "      <td>Abteilung005</td>\n",
       "      <td>WHG021</td>\n",
       "      <td>WUG073</td>\n",
       "      <td>March</td>\n",
       "      <td>Spring</td>\n",
       "    </tr>\n",
       "    <tr>\n",
       "      <th>2</th>\n",
       "      <td>900001</td>\n",
       "      <td>2</td>\n",
       "      <td>59.95</td>\n",
       "      <td>0.84</td>\n",
       "      <td>0.0</td>\n",
       "      <td>59.11</td>\n",
       "      <td>1499</td>\n",
       "      <td>5.30</td>\n",
       "      <td>32</td>\n",
       "      <td>1891.40</td>\n",
       "      <td>Fimmilena</td>\n",
       "      <td>mittelbraun</td>\n",
       "      <td>Abteilung005</td>\n",
       "      <td>WHG021</td>\n",
       "      <td>WUG073</td>\n",
       "      <td>March</td>\n",
       "      <td>Spring</td>\n",
       "    </tr>\n",
       "    <tr>\n",
       "      <th>3</th>\n",
       "      <td>900001</td>\n",
       "      <td>3</td>\n",
       "      <td>59.95</td>\n",
       "      <td>0.81</td>\n",
       "      <td>0.0</td>\n",
       "      <td>59.14</td>\n",
       "      <td>1499</td>\n",
       "      <td>7.20</td>\n",
       "      <td>27</td>\n",
       "      <td>1596.69</td>\n",
       "      <td>Fimmilena</td>\n",
       "      <td>mittelbraun</td>\n",
       "      <td>Abteilung005</td>\n",
       "      <td>WHG021</td>\n",
       "      <td>WUG073</td>\n",
       "      <td>March</td>\n",
       "      <td>Spring</td>\n",
       "    </tr>\n",
       "    <tr>\n",
       "      <th>4</th>\n",
       "      <td>900001</td>\n",
       "      <td>4</td>\n",
       "      <td>59.95</td>\n",
       "      <td>0.35</td>\n",
       "      <td>0.0</td>\n",
       "      <td>59.60</td>\n",
       "      <td>1499</td>\n",
       "      <td>9.34</td>\n",
       "      <td>34</td>\n",
       "      <td>2026.30</td>\n",
       "      <td>Fimmilena</td>\n",
       "      <td>mittelbraun</td>\n",
       "      <td>Abteilung005</td>\n",
       "      <td>WHG021</td>\n",
       "      <td>WUG073</td>\n",
       "      <td>March</td>\n",
       "      <td>Spring</td>\n",
       "    </tr>\n",
       "  </tbody>\n",
       "</table>\n",
       "</div>"
      ],
      "text/plain": [
       "  article_id  time_on_sale  original_price  discount  markdown  sells_price  \\\n",
       "0     900001             0           59.95      0.64       0.0        59.31   \n",
       "1     900001             1           59.95      0.14       0.0        59.81   \n",
       "2     900001             2           59.95      0.84       0.0        59.11   \n",
       "3     900001             3           59.95      0.81       0.0        59.14   \n",
       "4     900001             4           59.95      0.35       0.0        59.60   \n",
       "\n",
       "   stock_total   avq  article_count  revenue      brand        color  \\\n",
       "0         1499  0.72             22  1304.90  Fimmilena  mittelbraun   \n",
       "1         1499  3.10             39  2332.61  Fimmilena  mittelbraun   \n",
       "2         1499  5.30             32  1891.40  Fimmilena  mittelbraun   \n",
       "3         1499  7.20             27  1596.69  Fimmilena  mittelbraun   \n",
       "4         1499  9.34             34  2026.30  Fimmilena  mittelbraun   \n",
       "\n",
       "      Abteilung     WHG     WUG  month  season  \n",
       "0  Abteilung005  WHG021  WUG073  March  Spring  \n",
       "1  Abteilung005  WHG021  WUG073  March  Spring  \n",
       "2  Abteilung005  WHG021  WUG073  March  Spring  \n",
       "3  Abteilung005  WHG021  WUG073  March  Spring  \n",
       "4  Abteilung005  WHG021  WUG073  March  Spring  "
      ]
     },
     "execution_count": 3,
     "metadata": {},
     "output_type": "execute_result"
    }
   ],
   "source": [
    "data_raw.head()"
   ]
  },
  {
   "cell_type": "code",
   "execution_count": 4,
   "metadata": {},
   "outputs": [
    {
     "data": {
      "text/plain": [
       "article_id        0\n",
       "time_on_sale      0\n",
       "original_price    0\n",
       "discount          0\n",
       "markdown          0\n",
       "sells_price       0\n",
       "stock_total       0\n",
       "avq               0\n",
       "article_count     0\n",
       "revenue           0\n",
       "brand             0\n",
       "color             0\n",
       "Abteilung         0\n",
       "WHG               0\n",
       "WUG               0\n",
       "month             0\n",
       "season            0\n",
       "dtype: int64"
      ]
     },
     "execution_count": 4,
     "metadata": {},
     "output_type": "execute_result"
    }
   ],
   "source": [
    "# checking whether there are any NaN cells\n",
    "data_raw.isnull().sum()"
   ]
  },
  {
   "cell_type": "code",
   "execution_count": 5,
   "metadata": {},
   "outputs": [
    {
     "data": {
      "text/plain": [
       "article_id              900001\n",
       "time_on_sale                 0\n",
       "original_price               0\n",
       "discount                   -30\n",
       "markdown                   -10\n",
       "sells_price                  0\n",
       "stock_total                  0\n",
       "avq                          0\n",
       "article_count                0\n",
       "revenue                      0\n",
       "brand               Abiamarcae\n",
       "color                    beige\n",
       "Abteilung         Abteilung001\n",
       "WHG                     WHG001\n",
       "WUG                     WUG001\n",
       "month                    April\n",
       "season                    Fall\n",
       "dtype: object"
      ]
     },
     "execution_count": 5,
     "metadata": {},
     "output_type": "execute_result"
    }
   ],
   "source": [
    "data_raw.min()"
   ]
  },
  {
   "cell_type": "code",
   "execution_count": 6,
   "metadata": {},
   "outputs": [
    {
     "data": {
      "text/plain": [
       "article_id                     908708\n",
       "time_on_sale                       25\n",
       "original_price                 179.95\n",
       "discount                        81.98\n",
       "markdown                           90\n",
       "sells_price                    179.95\n",
       "stock_total                     36396\n",
       "avq                            100.12\n",
       "article_count                    1093\n",
       "revenue                       38577.9\n",
       "brand             Þorgerðr Holgabrúðr\n",
       "color                 weiss / schwarz\n",
       "Abteilung                Abteilung007\n",
       "WHG                            WHG043\n",
       "WUG                            WUG152\n",
       "month                       September\n",
       "season                         Winter\n",
       "dtype: object"
      ]
     },
     "execution_count": 6,
     "metadata": {},
     "output_type": "execute_result"
    }
   ],
   "source": [
    "data_raw.max()"
   ]
  },
  {
   "cell_type": "code",
   "execution_count": 7,
   "metadata": {},
   "outputs": [
    {
     "data": {
      "text/plain": [
       "8708"
      ]
     },
     "execution_count": 7,
     "metadata": {},
     "output_type": "execute_result"
    }
   ],
   "source": [
    "# checking whether article_id unique count matches with min max values\n",
    "np.count_nonzero(data_raw.article_id.unique())"
   ]
  },
  {
   "cell_type": "code",
   "execution_count": 8,
   "metadata": {},
   "outputs": [],
   "source": [
    "# describe() is pretty useless for transaction_date, markdown_start_date, markdown_end_date"
   ]
  },
  {
   "cell_type": "code",
   "execution_count": 9,
   "metadata": {},
   "outputs": [
    {
     "data": {
      "text/plain": [
       "count   226408.00\n",
       "mean        50.52\n",
       "std         24.63\n",
       "min          0.00\n",
       "25%         34.95\n",
       "50%         49.95\n",
       "75%         64.95\n",
       "max        179.95\n",
       "Name: original_price, dtype: float64"
      ]
     },
     "execution_count": 9,
     "metadata": {},
     "output_type": "execute_result"
    }
   ],
   "source": [
    "# change float format for better readability, without it describe() shows x.xxxxxxxxxe+xx\n",
    "pd.options.display.float_format = \"{:.2f}\".format\n",
    "# the 50% of the describe output is the median\n",
    "data_raw.original_price.describe()"
   ]
  },
  {
   "cell_type": "code",
   "execution_count": 10,
   "metadata": {},
   "outputs": [
    {
     "data": {
      "text/plain": [
       "count   226408.00\n",
       "mean        43.05\n",
       "std         22.37\n",
       "min          0.00\n",
       "25%         28.48\n",
       "50%         39.95\n",
       "75%         58.45\n",
       "max        179.95\n",
       "Name: sells_price, dtype: float64"
      ]
     },
     "execution_count": 10,
     "metadata": {},
     "output_type": "execute_result"
    }
   ],
   "source": [
    "data_raw.sells_price.describe()"
   ]
  },
  {
   "cell_type": "code",
   "execution_count": 11,
   "metadata": {},
   "outputs": [
    {
     "data": {
      "text/plain": [
       "count   226408.00\n",
       "mean         2.75\n",
       "std          5.18\n",
       "min        -30.00\n",
       "25%          0.15\n",
       "50%          0.80\n",
       "75%          3.00\n",
       "max         81.98\n",
       "Name: discount, dtype: float64"
      ]
     },
     "execution_count": 11,
     "metadata": {},
     "output_type": "execute_result"
    }
   ],
   "source": [
    "data_raw.discount.describe()"
   ]
  },
  {
   "cell_type": "code",
   "execution_count": 12,
   "metadata": {},
   "outputs": [
    {
     "data": {
      "text/plain": [
       "count   226408.00\n",
       "mean         4.73\n",
       "std          9.33\n",
       "min        -10.00\n",
       "25%          0.00\n",
       "50%          0.00\n",
       "75%          9.00\n",
       "max         90.00\n",
       "Name: markdown, dtype: float64"
      ]
     },
     "execution_count": 12,
     "metadata": {},
     "output_type": "execute_result"
    }
   ],
   "source": [
    "data_raw.markdown.describe()"
   ]
  },
  {
   "cell_type": "code",
   "execution_count": 13,
   "metadata": {},
   "outputs": [
    {
     "data": {
      "text/plain": [
       "count   226408.00\n",
       "mean        42.57\n",
       "std         55.23\n",
       "min          0.00\n",
       "25%          9.00\n",
       "50%         23.00\n",
       "75%         55.00\n",
       "max       1093.00\n",
       "Name: article_count, dtype: float64"
      ]
     },
     "execution_count": 13,
     "metadata": {},
     "output_type": "execute_result"
    }
   ],
   "source": [
    "data_raw.article_count.describe()"
   ]
  },
  {
   "cell_type": "code",
   "execution_count": 14,
   "metadata": {},
   "outputs": [
    {
     "data": {
      "text/plain": [
       "count   226408.00\n",
       "mean      1585.38\n",
       "std       1948.76\n",
       "min          0.00\n",
       "25%        391.48\n",
       "50%        938.83\n",
       "75%       2033.73\n",
       "max      38577.86\n",
       "Name: revenue, dtype: float64"
      ]
     },
     "execution_count": 14,
     "metadata": {},
     "output_type": "execute_result"
    }
   ],
   "source": [
    "data_raw.revenue.describe()"
   ]
  },
  {
   "cell_type": "code",
   "execution_count": 15,
   "metadata": {},
   "outputs": [
    {
     "data": {
      "text/plain": [
       "count   226408.00\n",
       "mean      1893.77\n",
       "std       1893.05\n",
       "min          0.00\n",
       "25%        684.00\n",
       "50%       1412.00\n",
       "75%       2688.00\n",
       "max      36396.00\n",
       "Name: stock_total, dtype: float64"
      ]
     },
     "execution_count": 15,
     "metadata": {},
     "output_type": "execute_result"
    }
   ],
   "source": [
    "# there are some really ridiculous outliers here\n",
    "data_raw.stock_total.describe()"
   ]
  },
  {
   "cell_type": "code",
   "execution_count": 16,
   "metadata": {},
   "outputs": [
    {
     "data": {
      "text/plain": [
       "count   226408.00\n",
       "mean        28.78\n",
       "std         23.85\n",
       "min          0.00\n",
       "25%          7.56\n",
       "50%         24.24\n",
       "75%         45.44\n",
       "max        100.12\n",
       "Name: avq, dtype: float64"
      ]
     },
     "execution_count": 16,
     "metadata": {},
     "output_type": "execute_result"
    }
   ],
   "source": [
    "# max value of this is above 100%, probably an accumulated rounding error, but still there\n",
    "data_raw.avq.describe()"
   ]
  },
  {
   "cell_type": "code",
   "execution_count": 17,
   "metadata": {},
   "outputs": [
    {
     "data": {
      "text/plain": [
       "count   226408.00\n",
       "mean        12.50\n",
       "std          7.50\n",
       "min          0.00\n",
       "25%          6.00\n",
       "50%         12.50\n",
       "75%         19.00\n",
       "max         25.00\n",
       "Name: time_on_sale, dtype: float64"
      ]
     },
     "execution_count": 17,
     "metadata": {},
     "output_type": "execute_result"
    }
   ],
   "source": [
    "data_raw.time_on_sale.describe()"
   ]
  },
  {
   "cell_type": "code",
   "execution_count": 18,
   "metadata": {},
   "outputs": [
    {
     "data": {
      "text/plain": [
       "[Spring, Winter, Summer, Fall]\n",
       "Categories (4, object): [Spring, Winter, Summer, Fall]"
      ]
     },
     "execution_count": 18,
     "metadata": {},
     "output_type": "execute_result"
    }
   ],
   "source": [
    "data_raw.season.unique()"
   ]
  },
  {
   "cell_type": "code",
   "execution_count": 19,
   "metadata": {},
   "outputs": [
    {
     "data": {
      "text/plain": [
       "Winter    61750\n",
       "Spring    61620\n",
       "Summer    58500\n",
       "Fall      44538\n",
       "Name: season, dtype: int64"
      ]
     },
     "execution_count": 19,
     "metadata": {},
     "output_type": "execute_result"
    }
   ],
   "source": [
    "data_raw.season.value_counts()"
   ]
  },
  {
   "cell_type": "code",
   "execution_count": 20,
   "metadata": {},
   "outputs": [
    {
     "data": {
      "text/plain": [
       "[Fimmilena, Gersimi, Loki, Turstuahenae, Börr, ..., Tamfana, Grusduahenae, Hludana, Axsinginehae, Surt]\n",
       "Length: 75\n",
       "Categories (75, object): [Fimmilena, Gersimi, Loki, Turstuahenae, ..., Grusduahenae, Hludana, Axsinginehae, Surt]"
      ]
     },
     "execution_count": 20,
     "metadata": {},
     "output_type": "execute_result"
    }
   ],
   "source": [
    "data_raw.brand.unique()"
   ]
  },
  {
   "cell_type": "code",
   "execution_count": 21,
   "metadata": {},
   "outputs": [
    {
     "data": {
      "text/plain": [
       "Friagabis                15392\n",
       "Fimmilena                15340\n",
       "Odin                     11934\n",
       "Mercurius Arvernus       11674\n",
       "Gautr                     9906\n",
       "Freyr                     9880\n",
       "Turstuahenae              8684\n",
       "Mani                      8034\n",
       "Gna                       7904\n",
       "Travalaha                 7852\n",
       "Heimdall                  6682\n",
       "Alaisiagae                6682\n",
       "Gersimi                   6578\n",
       "Snotra                    6448\n",
       "Tyr                       6006\n",
       "Hercules Deusoniensis     5720\n",
       "Lodur                     5278\n",
       "Nersihenae                5148\n",
       "Baudihillia               4914\n",
       "Burorina                  4602\n",
       "Tuisto                    4446\n",
       "Beda                      4446\n",
       "Loki                      4212\n",
       "Hymir                     3640\n",
       "Almaviahenae              3328\n",
       "Kolga                     3328\n",
       "Mercurius Hranno          3094\n",
       "Alaferhviae               2600\n",
       "Siofna                    2574\n",
       "Uller                     2314\n",
       "                         ...  \n",
       "Abiamarcae                 780\n",
       "Hermodr                    780\n",
       "Verdandi                   728\n",
       "Mahalinehae                702\n",
       "Vacallinehae               624\n",
       "Þorgerðr Holgabrúðr        572\n",
       "Forseti                    520\n",
       "Idun                       494\n",
       "Gratichae                  468\n",
       "Grusduahenae               442\n",
       "Hludana                    416\n",
       "Baduhenna                  390\n",
       "Sunuxsal                   312\n",
       "Hurstrga                   260\n",
       "Hödur                      234\n",
       "Surt                       182\n",
       "Vili                       182\n",
       "Sif                        156\n",
       "Dise                       156\n",
       "Thor                       130\n",
       "Axsinginehae               130\n",
       "Ahinehiae                  130\n",
       "Alaterviae                 130\n",
       "Gausus                      78\n",
       "Tamfana                     52\n",
       "Hariasa                     52\n",
       "Mars Halamardus             52\n",
       "Aufaniae                    52\n",
       "Vagdavercustis              52\n",
       "Dag                         52\n",
       "Name: brand, Length: 75, dtype: int64"
      ]
     },
     "execution_count": 21,
     "metadata": {},
     "output_type": "execute_result"
    }
   ],
   "source": [
    "data_raw.brand.value_counts()"
   ]
  },
  {
   "cell_type": "code",
   "execution_count": 22,
   "metadata": {},
   "outputs": [
    {
     "data": {
      "text/plain": [
       "[mittelbraun, weiss / blau, mittelgrau, mittelblau, pink, ..., multicolor, gelb, bordeauxrot, rost, ockergelb]\n",
       "Length: 40\n",
       "Categories (40, object): [mittelbraun, weiss / blau, mittelgrau, mittelblau, ..., gelb, bordeauxrot, rost, ockergelb]"
      ]
     },
     "execution_count": 22,
     "metadata": {},
     "output_type": "execute_result"
    }
   ],
   "source": [
    "data_raw.color.unique()"
   ]
  },
  {
   "cell_type": "code",
   "execution_count": 23,
   "metadata": {},
   "outputs": [
    {
     "data": {
      "text/plain": [
       "schwarz                 48308\n",
       "dunkelblau              24310\n",
       "mittelbraun             17238\n",
       "schwarz / kombiniert    17004\n",
       "mittelgrau              13936\n",
       "dunkelbraun             13156\n",
       "dunkelgrau              11648\n",
       "mittelblau               9542\n",
       "beige                    8918\n",
       "hellgrau                 6786\n",
       "rosa                     5148\n",
       "pink                     4992\n",
       "weiss / kombiniert       4472\n",
       "weiss                    4212\n",
       "bordeauxrot              3224\n",
       "hellbraun                3016\n",
       "camel                    2730\n",
       "rot                      2392\n",
       "beige / kombiniert       2366\n",
       "silber                   2054\n",
       "lila                     1976\n",
       "hellblau                 1872\n",
       "offwhite                 1872\n",
       "türkis                   1820\n",
       "multicolor               1742\n",
       "gold                     1612\n",
       "khaki                    1222\n",
       "graublau                 1196\n",
       "olivegrün                1170\n",
       "gelb                      988\n",
       "mintgrün                  884\n",
       "orange                    858\n",
       "hellgrün                  702\n",
       "bronze/kupfer             702\n",
       "grün                      572\n",
       "flieder                   572\n",
       "weiss / schwarz           468\n",
       "weiss / blau              416\n",
       "rost                      286\n",
       "ockergelb                  26\n",
       "Name: color, dtype: int64"
      ]
     },
     "execution_count": 23,
     "metadata": {},
     "output_type": "execute_result"
    }
   ],
   "source": [
    "data_raw.color.value_counts()"
   ]
  },
  {
   "cell_type": "code",
   "execution_count": 24,
   "metadata": {},
   "outputs": [
    {
     "data": {
      "text/plain": [
       "['Abteilung001',\n",
       " 'Abteilung002',\n",
       " 'Abteilung003',\n",
       " 'Abteilung004',\n",
       " 'Abteilung005',\n",
       " 'Abteilung006',\n",
       " 'Abteilung007']"
      ]
     },
     "execution_count": 24,
     "metadata": {},
     "output_type": "execute_result"
    }
   ],
   "source": [
    "sorted(data_raw.Abteilung.unique())"
   ]
  },
  {
   "cell_type": "code",
   "execution_count": 25,
   "metadata": {},
   "outputs": [
    {
     "data": {
      "text/plain": [
       "Abteilung002    100672\n",
       "Abteilung006     38766\n",
       "Abteilung005     37960\n",
       "Abteilung007     36296\n",
       "Abteilung004      6864\n",
       "Abteilung001      5148\n",
       "Abteilung003       702\n",
       "Name: Abteilung, dtype: int64"
      ]
     },
     "execution_count": 25,
     "metadata": {},
     "output_type": "execute_result"
    }
   ],
   "source": [
    "data_raw.Abteilung.value_counts()"
   ]
  },
  {
   "cell_type": "code",
   "execution_count": 26,
   "metadata": {},
   "outputs": [
    {
     "data": {
      "text/plain": [
       "['WHG001',\n",
       " 'WHG002',\n",
       " 'WHG003',\n",
       " 'WHG004',\n",
       " 'WHG005',\n",
       " 'WHG006',\n",
       " 'WHG007',\n",
       " 'WHG008',\n",
       " 'WHG009',\n",
       " 'WHG010',\n",
       " 'WHG011',\n",
       " 'WHG012',\n",
       " 'WHG013',\n",
       " 'WHG014',\n",
       " 'WHG015',\n",
       " 'WHG016',\n",
       " 'WHG017',\n",
       " 'WHG018',\n",
       " 'WHG019',\n",
       " 'WHG020',\n",
       " 'WHG021',\n",
       " 'WHG022',\n",
       " 'WHG023',\n",
       " 'WHG024',\n",
       " 'WHG025',\n",
       " 'WHG026',\n",
       " 'WHG027',\n",
       " 'WHG028',\n",
       " 'WHG029',\n",
       " 'WHG030',\n",
       " 'WHG031',\n",
       " 'WHG032',\n",
       " 'WHG033',\n",
       " 'WHG034',\n",
       " 'WHG035',\n",
       " 'WHG036',\n",
       " 'WHG037',\n",
       " 'WHG038',\n",
       " 'WHG039',\n",
       " 'WHG040',\n",
       " 'WHG041',\n",
       " 'WHG042',\n",
       " 'WHG043']"
      ]
     },
     "execution_count": 26,
     "metadata": {},
     "output_type": "execute_result"
    }
   ],
   "source": [
    "sorted(data_raw.WHG.unique())"
   ]
  },
  {
   "cell_type": "code",
   "execution_count": 27,
   "metadata": {},
   "outputs": [
    {
     "data": {
      "text/plain": [
       "WHG015    24752\n",
       "WHG021    20072\n",
       "WHG012    15990\n",
       "WHG007    15704\n",
       "WHG041    13676\n",
       "WHG034    13416\n",
       "WHG010    12714\n",
       "WHG009    12454\n",
       "WHG042    12376\n",
       "WHG043     8268\n",
       "WHG006     8008\n",
       "WHG022     7150\n",
       "WHG038     6968\n",
       "WHG023     5980\n",
       "WHG032     5304\n",
       "WHG035     5122\n",
       "WHG005     3718\n",
       "WHG008     3666\n",
       "WHG036     3458\n",
       "WHG028     3276\n",
       "WHG001     2652\n",
       "WHG026     2392\n",
       "WHG014     1950\n",
       "WHG037     1768\n",
       "WHG025     1352\n",
       "WHG019     1352\n",
       "WHG020     1352\n",
       "WHG002     1326\n",
       "WHG039     1248\n",
       "WHG033     1248\n",
       "WHG003     1170\n",
       "WHG027     1092\n",
       "WHG013     1014\n",
       "WHG031      832\n",
       "WHG040      728\n",
       "WHG030      650\n",
       "WHG018      572\n",
       "WHG017      494\n",
       "WHG011      442\n",
       "WHG004      260\n",
       "WHG016      208\n",
       "WHG024      130\n",
       "WHG029      104\n",
       "Name: WHG, dtype: int64"
      ]
     },
     "execution_count": 27,
     "metadata": {},
     "output_type": "execute_result"
    }
   ],
   "source": [
    "data_raw.WHG.value_counts()"
   ]
  },
  {
   "cell_type": "code",
   "execution_count": 28,
   "metadata": {},
   "outputs": [
    {
     "data": {
      "text/plain": [
       "['WUG001',\n",
       " 'WUG002',\n",
       " 'WUG003',\n",
       " 'WUG004',\n",
       " 'WUG005',\n",
       " 'WUG006',\n",
       " 'WUG007',\n",
       " 'WUG008',\n",
       " 'WUG009',\n",
       " 'WUG010',\n",
       " 'WUG011',\n",
       " 'WUG012',\n",
       " 'WUG013',\n",
       " 'WUG014',\n",
       " 'WUG015',\n",
       " 'WUG016',\n",
       " 'WUG017',\n",
       " 'WUG018',\n",
       " 'WUG019',\n",
       " 'WUG020',\n",
       " 'WUG021',\n",
       " 'WUG022',\n",
       " 'WUG023',\n",
       " 'WUG024',\n",
       " 'WUG025',\n",
       " 'WUG026',\n",
       " 'WUG027',\n",
       " 'WUG028',\n",
       " 'WUG029',\n",
       " 'WUG030',\n",
       " 'WUG031',\n",
       " 'WUG032',\n",
       " 'WUG033',\n",
       " 'WUG034',\n",
       " 'WUG035',\n",
       " 'WUG036',\n",
       " 'WUG037',\n",
       " 'WUG038',\n",
       " 'WUG039',\n",
       " 'WUG040',\n",
       " 'WUG041',\n",
       " 'WUG042',\n",
       " 'WUG043',\n",
       " 'WUG044',\n",
       " 'WUG045',\n",
       " 'WUG046',\n",
       " 'WUG047',\n",
       " 'WUG048',\n",
       " 'WUG049',\n",
       " 'WUG050',\n",
       " 'WUG051',\n",
       " 'WUG052',\n",
       " 'WUG053',\n",
       " 'WUG054',\n",
       " 'WUG055',\n",
       " 'WUG056',\n",
       " 'WUG057',\n",
       " 'WUG058',\n",
       " 'WUG059',\n",
       " 'WUG060',\n",
       " 'WUG061',\n",
       " 'WUG062',\n",
       " 'WUG063',\n",
       " 'WUG064',\n",
       " 'WUG065',\n",
       " 'WUG066',\n",
       " 'WUG067',\n",
       " 'WUG068',\n",
       " 'WUG069',\n",
       " 'WUG070',\n",
       " 'WUG071',\n",
       " 'WUG072',\n",
       " 'WUG073',\n",
       " 'WUG074',\n",
       " 'WUG075',\n",
       " 'WUG076',\n",
       " 'WUG077',\n",
       " 'WUG078',\n",
       " 'WUG079',\n",
       " 'WUG080',\n",
       " 'WUG081',\n",
       " 'WUG082',\n",
       " 'WUG083',\n",
       " 'WUG084',\n",
       " 'WUG085',\n",
       " 'WUG086',\n",
       " 'WUG087',\n",
       " 'WUG088',\n",
       " 'WUG089',\n",
       " 'WUG090',\n",
       " 'WUG091',\n",
       " 'WUG092',\n",
       " 'WUG093',\n",
       " 'WUG094',\n",
       " 'WUG095',\n",
       " 'WUG096',\n",
       " 'WUG097',\n",
       " 'WUG098',\n",
       " 'WUG099',\n",
       " 'WUG100',\n",
       " 'WUG101',\n",
       " 'WUG102',\n",
       " 'WUG103',\n",
       " 'WUG104',\n",
       " 'WUG105',\n",
       " 'WUG106',\n",
       " 'WUG107',\n",
       " 'WUG108',\n",
       " 'WUG109',\n",
       " 'WUG110',\n",
       " 'WUG111',\n",
       " 'WUG112',\n",
       " 'WUG113',\n",
       " 'WUG114',\n",
       " 'WUG115',\n",
       " 'WUG116',\n",
       " 'WUG117',\n",
       " 'WUG118',\n",
       " 'WUG119',\n",
       " 'WUG120',\n",
       " 'WUG121',\n",
       " 'WUG122',\n",
       " 'WUG123',\n",
       " 'WUG124',\n",
       " 'WUG125',\n",
       " 'WUG126',\n",
       " 'WUG127',\n",
       " 'WUG128',\n",
       " 'WUG129',\n",
       " 'WUG130',\n",
       " 'WUG131',\n",
       " 'WUG132',\n",
       " 'WUG133',\n",
       " 'WUG134',\n",
       " 'WUG135',\n",
       " 'WUG136',\n",
       " 'WUG137',\n",
       " 'WUG138',\n",
       " 'WUG139',\n",
       " 'WUG140',\n",
       " 'WUG141',\n",
       " 'WUG142',\n",
       " 'WUG143',\n",
       " 'WUG144',\n",
       " 'WUG145',\n",
       " 'WUG146',\n",
       " 'WUG147',\n",
       " 'WUG148',\n",
       " 'WUG149',\n",
       " 'WUG150',\n",
       " 'WUG151',\n",
       " 'WUG152']"
      ]
     },
     "execution_count": 28,
     "metadata": {},
     "output_type": "execute_result"
    }
   ],
   "source": [
    "sorted(data_raw.WUG.unique())"
   ]
  },
  {
   "cell_type": "code",
   "execution_count": 29,
   "metadata": {},
   "outputs": [
    {
     "data": {
      "text/plain": [
       "WUG020    9958\n",
       "WUG053    9932\n",
       "WUG051    8632\n",
       "WUG033    7176\n",
       "WUG029    7176\n",
       "WUG015    6942\n",
       "WUG139    6630\n",
       "WUG073    6058\n",
       "WUG136    5980\n",
       "WUG138    5746\n",
       "WUG040    5668\n",
       "WUG045    4992\n",
       "WUG137    4732\n",
       "WUG069    4706\n",
       "WUG146    4628\n",
       "WUG072    4108\n",
       "WUG018    3744\n",
       "WUG115    3588\n",
       "WUG105    3510\n",
       "WUG140    2964\n",
       "WUG077    2808\n",
       "WUG107    2756\n",
       "WUG046    2626\n",
       "WUG117    2626\n",
       "WUG035    2548\n",
       "WUG055    2522\n",
       "WUG001    2496\n",
       "WUG114    2392\n",
       "WUG118    2236\n",
       "WUG070    2210\n",
       "          ... \n",
       "WUG006     208\n",
       "WUG057     208\n",
       "WUG060     182\n",
       "WUG103     182\n",
       "WUG002     156\n",
       "WUG124     156\n",
       "WUG087     130\n",
       "WUG122     104\n",
       "WUG008     104\n",
       "WUG009     104\n",
       "WUG101     104\n",
       "WUG061     104\n",
       "WUG091      78\n",
       "WUG142      78\n",
       "WUG065      78\n",
       "WUG032      78\n",
       "WUG044      78\n",
       "WUG047      52\n",
       "WUG007      52\n",
       "WUG096      52\n",
       "WUG024      52\n",
       "WUG039      26\n",
       "WUG098      26\n",
       "WUG012      26\n",
       "WUG123      26\n",
       "WUG095      26\n",
       "WUG028      26\n",
       "WUG075      26\n",
       "WUG133      26\n",
       "WUG004      26\n",
       "Name: WUG, Length: 152, dtype: int64"
      ]
     },
     "execution_count": 29,
     "metadata": {},
     "output_type": "execute_result"
    }
   ],
   "source": [
    "data_raw.WUG.value_counts()"
   ]
  }
 ],
 "metadata": {
  "kernelspec": {
   "display_name": "tailor",
   "language": "python",
   "name": "tailor"
  },
  "language_info": {
   "codemirror_mode": {
    "name": "ipython",
    "version": 3
   },
   "file_extension": ".py",
   "mimetype": "text/x-python",
   "name": "python",
   "nbconvert_exporter": "python",
   "pygments_lexer": "ipython3",
   "version": "3.6.6"
  }
 },
 "nbformat": 4,
 "nbformat_minor": 2
}
