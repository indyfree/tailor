{
 "cells": [
  {
   "cell_type": "markdown",
   "metadata": {},
   "source": [
    "# About the project"
   ]
  },
  {
   "cell_type": "markdown",
   "metadata": {
    "heading_collapsed": true
   },
   "source": [
    "## The customer"
   ]
  },
  {
   "cell_type": "markdown",
   "metadata": {
    "hidden": true
   },
   "source": [
    "The customer is a fashion retailer with numerous stores. The dataset consists only of the stationary trades in Germany, summarized over all stores."
   ]
  },
  {
   "cell_type": "markdown",
   "metadata": {
    "heading_collapsed": true
   },
   "source": [
    "## Task description"
   ]
  },
  {
   "cell_type": "markdown",
   "metadata": {
    "hidden": true
   },
   "source": [
    "The fashion retailer want to use his data for:\n",
    "\n",
    "  * sales volume predictions for articles \n",
    "  * optimal price determination of new articles on market launch\n",
    "  * inventory calculation \n",
    "  * general predictions and strategic decision making\n",
    "  \n",
    "Such predictions needs a basic population, which serve as a basis for statistical calculations.\n",
    "Predicting the sales of a specific article on basis of the whole assortment would be too imprecise.\n",
    "The mean variation is too high, hence the quality of the prediction would be very low.\n",
    "The multiplicity of articles allows to refer on a more representative population. For an optimal prediction quality, the population should be as big as possible and his mean variation as small as possible. It is possible to create such a population, by grouping articles with similar characteristic attributes to one unit. This can be realized through a clustering algorithm."
   ]
  },
  {
   "cell_type": "markdown",
   "metadata": {
    "heading_collapsed": true
   },
   "source": [
    "## Project goal"
   ]
  },
  {
   "cell_type": "markdown",
   "metadata": {
    "hidden": true
   },
   "source": [
    "The overall goal of the project is to develop a clustering algorithm. This algorithm should be reasonable and statistically established. Further, the cluster building should be done on basis of revenue, article counts or sales quotas of the articles and every article has to be assigned to a cluster."
   ]
  },
  {
   "cell_type": "markdown",
   "metadata": {},
   "source": [
    "# Data exploration"
   ]
  },
  {
   "cell_type": "markdown",
   "metadata": {},
   "source": [
    "First, we want to give an overview of the provided data.\n",
    "Therefore, we have a look at the raw dataset and \n",
    "do some visualization for a better understanding of the data"
   ]
  },
  {
   "cell_type": "markdown",
   "metadata": {
    "heading_collapsed": true
   },
   "source": [
    "## Example of raw data"
   ]
  },
  {
   "cell_type": "code",
   "execution_count": 51,
   "metadata": {
    "hidden": true
   },
   "outputs": [],
   "source": [
    "import matplotlib.pyplot as plt\n",
    "import numpy as np\n",
    "import pandas as pd\n",
    "\n",
    "import tailor\n",
    "from tailor import data\n",
    "from tailor.visualization import *"
   ]
  },
  {
   "cell_type": "code",
   "execution_count": 52,
   "metadata": {
    "hidden": true,
    "scrolled": true
   },
   "outputs": [
    {
     "data": {
      "text/html": [
       "<div>\n",
       "<style scoped>\n",
       "    .dataframe tbody tr th:only-of-type {\n",
       "        vertical-align: middle;\n",
       "    }\n",
       "\n",
       "    .dataframe tbody tr th {\n",
       "        vertical-align: top;\n",
       "    }\n",
       "\n",
       "    .dataframe thead th {\n",
       "        text-align: right;\n",
       "    }\n",
       "</style>\n",
       "<table border=\"1\" class=\"dataframe\">\n",
       "  <thead>\n",
       "    <tr style=\"text-align: right;\">\n",
       "      <th></th>\n",
       "      <th>article_id</th>\n",
       "      <th>transaction_date</th>\n",
       "      <th>markdown_start_date</th>\n",
       "      <th>markdown_end_date</th>\n",
       "      <th>original_price</th>\n",
       "      <th>sells_price</th>\n",
       "      <th>discount</th>\n",
       "      <th>markdown</th>\n",
       "      <th>article_count</th>\n",
       "      <th>season</th>\n",
       "      <th>brand</th>\n",
       "      <th>color</th>\n",
       "      <th>stock_total</th>\n",
       "      <th>avq</th>\n",
       "      <th>Abteilung</th>\n",
       "      <th>WHG</th>\n",
       "      <th>WUG</th>\n",
       "      <th>time_on_sale</th>\n",
       "      <th>revenue</th>\n",
       "    </tr>\n",
       "  </thead>\n",
       "  <tbody>\n",
       "    <tr>\n",
       "      <th>0</th>\n",
       "      <td>900001</td>\n",
       "      <td>2014-03-27</td>\n",
       "      <td>2013-10-18</td>\n",
       "      <td>2014-05-31</td>\n",
       "      <td>59.95</td>\n",
       "      <td>53.95</td>\n",
       "      <td>6.00</td>\n",
       "      <td>0.00</td>\n",
       "      <td>2</td>\n",
       "      <td>Sommer</td>\n",
       "      <td>Fimmilena</td>\n",
       "      <td>mittelbraun</td>\n",
       "      <td>1499</td>\n",
       "      <td>0.13</td>\n",
       "      <td>Abteilung005</td>\n",
       "      <td>WHG021</td>\n",
       "      <td>WUG073</td>\n",
       "      <td>0</td>\n",
       "      <td>107.90</td>\n",
       "    </tr>\n",
       "    <tr>\n",
       "      <th>1</th>\n",
       "      <td>900001</td>\n",
       "      <td>2014-03-28</td>\n",
       "      <td>2013-10-18</td>\n",
       "      <td>2014-05-31</td>\n",
       "      <td>59.95</td>\n",
       "      <td>59.95</td>\n",
       "      <td>0.00</td>\n",
       "      <td>0.00</td>\n",
       "      <td>2</td>\n",
       "      <td>Sommer</td>\n",
       "      <td>Fimmilena</td>\n",
       "      <td>mittelbraun</td>\n",
       "      <td>1499</td>\n",
       "      <td>0.27</td>\n",
       "      <td>Abteilung005</td>\n",
       "      <td>WHG021</td>\n",
       "      <td>WUG073</td>\n",
       "      <td>1</td>\n",
       "      <td>119.90</td>\n",
       "    </tr>\n",
       "    <tr>\n",
       "      <th>2</th>\n",
       "      <td>900001</td>\n",
       "      <td>2014-03-29</td>\n",
       "      <td>2013-10-18</td>\n",
       "      <td>2014-05-31</td>\n",
       "      <td>59.95</td>\n",
       "      <td>59.95</td>\n",
       "      <td>0.00</td>\n",
       "      <td>0.00</td>\n",
       "      <td>3</td>\n",
       "      <td>Sommer</td>\n",
       "      <td>Fimmilena</td>\n",
       "      <td>mittelbraun</td>\n",
       "      <td>1499</td>\n",
       "      <td>0.47</td>\n",
       "      <td>Abteilung005</td>\n",
       "      <td>WHG021</td>\n",
       "      <td>WUG073</td>\n",
       "      <td>2</td>\n",
       "      <td>179.85</td>\n",
       "    </tr>\n",
       "    <tr>\n",
       "      <th>3</th>\n",
       "      <td>900001</td>\n",
       "      <td>2014-03-31</td>\n",
       "      <td>2013-10-18</td>\n",
       "      <td>2014-05-31</td>\n",
       "      <td>59.95</td>\n",
       "      <td>59.55</td>\n",
       "      <td>0.40</td>\n",
       "      <td>0.00</td>\n",
       "      <td>5</td>\n",
       "      <td>Sommer</td>\n",
       "      <td>Fimmilena</td>\n",
       "      <td>mittelbraun</td>\n",
       "      <td>1499</td>\n",
       "      <td>0.80</td>\n",
       "      <td>Abteilung005</td>\n",
       "      <td>WHG021</td>\n",
       "      <td>WUG073</td>\n",
       "      <td>4</td>\n",
       "      <td>297.75</td>\n",
       "    </tr>\n",
       "    <tr>\n",
       "      <th>4</th>\n",
       "      <td>900001</td>\n",
       "      <td>2014-04-01</td>\n",
       "      <td>2013-10-18</td>\n",
       "      <td>2014-05-31</td>\n",
       "      <td>59.95</td>\n",
       "      <td>59.95</td>\n",
       "      <td>0.00</td>\n",
       "      <td>0.00</td>\n",
       "      <td>6</td>\n",
       "      <td>Sommer</td>\n",
       "      <td>Fimmilena</td>\n",
       "      <td>mittelbraun</td>\n",
       "      <td>1499</td>\n",
       "      <td>1.20</td>\n",
       "      <td>Abteilung005</td>\n",
       "      <td>WHG021</td>\n",
       "      <td>WUG073</td>\n",
       "      <td>5</td>\n",
       "      <td>359.70</td>\n",
       "    </tr>\n",
       "    <tr>\n",
       "      <th>5</th>\n",
       "      <td>900001</td>\n",
       "      <td>2014-04-02</td>\n",
       "      <td>2013-10-18</td>\n",
       "      <td>2014-05-31</td>\n",
       "      <td>59.95</td>\n",
       "      <td>59.95</td>\n",
       "      <td>0.00</td>\n",
       "      <td>0.00</td>\n",
       "      <td>4</td>\n",
       "      <td>Sommer</td>\n",
       "      <td>Fimmilena</td>\n",
       "      <td>mittelbraun</td>\n",
       "      <td>1499</td>\n",
       "      <td>1.47</td>\n",
       "      <td>Abteilung005</td>\n",
       "      <td>WHG021</td>\n",
       "      <td>WUG073</td>\n",
       "      <td>6</td>\n",
       "      <td>239.80</td>\n",
       "    </tr>\n",
       "    <tr>\n",
       "      <th>6</th>\n",
       "      <td>900001</td>\n",
       "      <td>2014-04-03</td>\n",
       "      <td>2013-10-18</td>\n",
       "      <td>2014-05-31</td>\n",
       "      <td>59.95</td>\n",
       "      <td>58.59</td>\n",
       "      <td>1.36</td>\n",
       "      <td>0.00</td>\n",
       "      <td>4</td>\n",
       "      <td>Sommer</td>\n",
       "      <td>Fimmilena</td>\n",
       "      <td>mittelbraun</td>\n",
       "      <td>1499</td>\n",
       "      <td>1.73</td>\n",
       "      <td>Abteilung005</td>\n",
       "      <td>WHG021</td>\n",
       "      <td>WUG073</td>\n",
       "      <td>7</td>\n",
       "      <td>234.36</td>\n",
       "    </tr>\n",
       "    <tr>\n",
       "      <th>7</th>\n",
       "      <td>900001</td>\n",
       "      <td>2014-04-04</td>\n",
       "      <td>2013-10-18</td>\n",
       "      <td>2014-05-31</td>\n",
       "      <td>59.95</td>\n",
       "      <td>59.95</td>\n",
       "      <td>0.00</td>\n",
       "      <td>0.00</td>\n",
       "      <td>7</td>\n",
       "      <td>Sommer</td>\n",
       "      <td>Fimmilena</td>\n",
       "      <td>mittelbraun</td>\n",
       "      <td>1499</td>\n",
       "      <td>2.20</td>\n",
       "      <td>Abteilung005</td>\n",
       "      <td>WHG021</td>\n",
       "      <td>WUG073</td>\n",
       "      <td>8</td>\n",
       "      <td>419.65</td>\n",
       "    </tr>\n",
       "    <tr>\n",
       "      <th>8</th>\n",
       "      <td>900001</td>\n",
       "      <td>2014-04-05</td>\n",
       "      <td>2013-10-18</td>\n",
       "      <td>2014-05-31</td>\n",
       "      <td>59.95</td>\n",
       "      <td>59.95</td>\n",
       "      <td>0.00</td>\n",
       "      <td>0.00</td>\n",
       "      <td>13</td>\n",
       "      <td>Sommer</td>\n",
       "      <td>Fimmilena</td>\n",
       "      <td>mittelbraun</td>\n",
       "      <td>1499</td>\n",
       "      <td>3.07</td>\n",
       "      <td>Abteilung005</td>\n",
       "      <td>WHG021</td>\n",
       "      <td>WUG073</td>\n",
       "      <td>9</td>\n",
       "      <td>779.35</td>\n",
       "    </tr>\n",
       "    <tr>\n",
       "      <th>9</th>\n",
       "      <td>900001</td>\n",
       "      <td>2014-04-06</td>\n",
       "      <td>2013-10-18</td>\n",
       "      <td>2014-05-31</td>\n",
       "      <td>59.95</td>\n",
       "      <td>59.95</td>\n",
       "      <td>0.00</td>\n",
       "      <td>0.00</td>\n",
       "      <td>2</td>\n",
       "      <td>Sommer</td>\n",
       "      <td>Fimmilena</td>\n",
       "      <td>mittelbraun</td>\n",
       "      <td>1499</td>\n",
       "      <td>3.20</td>\n",
       "      <td>Abteilung005</td>\n",
       "      <td>WHG021</td>\n",
       "      <td>WUG073</td>\n",
       "      <td>10</td>\n",
       "      <td>119.90</td>\n",
       "    </tr>\n",
       "  </tbody>\n",
       "</table>\n",
       "</div>"
      ],
      "text/plain": [
       "   article_id transaction_date markdown_start_date markdown_end_date  \\\n",
       "0      900001       2014-03-27          2013-10-18        2014-05-31   \n",
       "1      900001       2014-03-28          2013-10-18        2014-05-31   \n",
       "2      900001       2014-03-29          2013-10-18        2014-05-31   \n",
       "3      900001       2014-03-31          2013-10-18        2014-05-31   \n",
       "4      900001       2014-04-01          2013-10-18        2014-05-31   \n",
       "5      900001       2014-04-02          2013-10-18        2014-05-31   \n",
       "6      900001       2014-04-03          2013-10-18        2014-05-31   \n",
       "7      900001       2014-04-04          2013-10-18        2014-05-31   \n",
       "8      900001       2014-04-05          2013-10-18        2014-05-31   \n",
       "9      900001       2014-04-06          2013-10-18        2014-05-31   \n",
       "\n",
       "   original_price  sells_price  discount  markdown  article_count  season  \\\n",
       "0           59.95        53.95      6.00      0.00              2  Sommer   \n",
       "1           59.95        59.95      0.00      0.00              2  Sommer   \n",
       "2           59.95        59.95      0.00      0.00              3  Sommer   \n",
       "3           59.95        59.55      0.40      0.00              5  Sommer   \n",
       "4           59.95        59.95      0.00      0.00              6  Sommer   \n",
       "5           59.95        59.95      0.00      0.00              4  Sommer   \n",
       "6           59.95        58.59      1.36      0.00              4  Sommer   \n",
       "7           59.95        59.95      0.00      0.00              7  Sommer   \n",
       "8           59.95        59.95      0.00      0.00             13  Sommer   \n",
       "9           59.95        59.95      0.00      0.00              2  Sommer   \n",
       "\n",
       "       brand        color  stock_total  avq     Abteilung     WHG     WUG  \\\n",
       "0  Fimmilena  mittelbraun         1499 0.13  Abteilung005  WHG021  WUG073   \n",
       "1  Fimmilena  mittelbraun         1499 0.27  Abteilung005  WHG021  WUG073   \n",
       "2  Fimmilena  mittelbraun         1499 0.47  Abteilung005  WHG021  WUG073   \n",
       "3  Fimmilena  mittelbraun         1499 0.80  Abteilung005  WHG021  WUG073   \n",
       "4  Fimmilena  mittelbraun         1499 1.20  Abteilung005  WHG021  WUG073   \n",
       "5  Fimmilena  mittelbraun         1499 1.47  Abteilung005  WHG021  WUG073   \n",
       "6  Fimmilena  mittelbraun         1499 1.73  Abteilung005  WHG021  WUG073   \n",
       "7  Fimmilena  mittelbraun         1499 2.20  Abteilung005  WHG021  WUG073   \n",
       "8  Fimmilena  mittelbraun         1499 3.07  Abteilung005  WHG021  WUG073   \n",
       "9  Fimmilena  mittelbraun         1499 3.20  Abteilung005  WHG021  WUG073   \n",
       "\n",
       "   time_on_sale  revenue  \n",
       "0             0   107.90  \n",
       "1             1   119.90  \n",
       "2             2   179.85  \n",
       "3             4   297.75  \n",
       "4             5   359.70  \n",
       "5             6   239.80  \n",
       "6             7   234.36  \n",
       "7             8   419.65  \n",
       "8             9   779.35  \n",
       "9            10   119.90  "
      ]
     },
     "execution_count": 52,
     "metadata": {},
     "output_type": "execute_result"
    }
   ],
   "source": [
    "raw_data = data.load_csv()\n",
    "raw_data.head(10)"
   ]
  },
  {
   "cell_type": "markdown",
   "metadata": {
    "heading_collapsed": true
   },
   "source": [
    "## Feature overview"
   ]
  },
  {
   "cell_type": "markdown",
   "metadata": {
    "hidden": true
   },
   "source": [
    "  * *markdown* is constant for *article_id* and *transaction_date* between *markdown_start_date* and *markdown_end_date*\n",
    "  * *original_price* is constant for *article_id*\n",
    "  * *sells_price* is the actual price paid by the customer\n",
    "  * *sells_price*, *discount* and *markdown* are of the unit [Euro/article]\n",
    "  * *article_count* denominates the number of sold articles\n",
    "  * *discount* = *original_price* - *markdown* - *sells_price*\n",
    "  * *avq* is the current stock divided by *stock_total*"
   ]
  },
  {
   "cell_type": "code",
   "execution_count": 53,
   "metadata": {
    "hidden": true
   },
   "outputs": [
    {
     "data": {
      "text/html": [
       "<div>\n",
       "<style scoped>\n",
       "    .dataframe tbody tr th:only-of-type {\n",
       "        vertical-align: middle;\n",
       "    }\n",
       "\n",
       "    .dataframe tbody tr th {\n",
       "        vertical-align: top;\n",
       "    }\n",
       "\n",
       "    .dataframe thead th {\n",
       "        text-align: right;\n",
       "    }\n",
       "</style>\n",
       "<table border=\"1\" class=\"dataframe\">\n",
       "  <thead>\n",
       "    <tr style=\"text-align: right;\">\n",
       "      <th></th>\n",
       "      <th>article_id</th>\n",
       "      <th>original_price</th>\n",
       "      <th>sells_price</th>\n",
       "      <th>discount</th>\n",
       "      <th>markdown</th>\n",
       "      <th>article_count</th>\n",
       "      <th>stock_total</th>\n",
       "      <th>avq</th>\n",
       "      <th>time_on_sale</th>\n",
       "      <th>revenue</th>\n",
       "    </tr>\n",
       "  </thead>\n",
       "  <tbody>\n",
       "    <tr>\n",
       "      <th>count</th>\n",
       "      <td>1131329.00</td>\n",
       "      <td>1131329.00</td>\n",
       "      <td>1131329.00</td>\n",
       "      <td>1131329.00</td>\n",
       "      <td>1131329.00</td>\n",
       "      <td>1131329.00</td>\n",
       "      <td>1131329.00</td>\n",
       "      <td>1131329.00</td>\n",
       "      <td>1131329.00</td>\n",
       "      <td>1131329.00</td>\n",
       "    </tr>\n",
       "    <tr>\n",
       "      <th>mean</th>\n",
       "      <td>904359.27</td>\n",
       "      <td>51.33</td>\n",
       "      <td>43.87</td>\n",
       "      <td>2.58</td>\n",
       "      <td>4.88</td>\n",
       "      <td>8.52</td>\n",
       "      <td>2162.84</td>\n",
       "      <td>30.12</td>\n",
       "      <td>87.38</td>\n",
       "      <td>317.27</td>\n",
       "    </tr>\n",
       "    <tr>\n",
       "      <th>std</th>\n",
       "      <td>2521.36</td>\n",
       "      <td>22.19</td>\n",
       "      <td>20.50</td>\n",
       "      <td>5.73</td>\n",
       "      <td>9.43</td>\n",
       "      <td>10.84</td>\n",
       "      <td>1960.91</td>\n",
       "      <td>22.89</td>\n",
       "      <td>50.69</td>\n",
       "      <td>385.77</td>\n",
       "    </tr>\n",
       "    <tr>\n",
       "      <th>min</th>\n",
       "      <td>900001.00</td>\n",
       "      <td>9.95</td>\n",
       "      <td>-47.96</td>\n",
       "      <td>-99.96</td>\n",
       "      <td>-19.00</td>\n",
       "      <td>1.00</td>\n",
       "      <td>106.00</td>\n",
       "      <td>0.00</td>\n",
       "      <td>0.00</td>\n",
       "      <td>-47.96</td>\n",
       "    </tr>\n",
       "    <tr>\n",
       "      <th>25%</th>\n",
       "      <td>902176.00</td>\n",
       "      <td>35.95</td>\n",
       "      <td>29.34</td>\n",
       "      <td>0.00</td>\n",
       "      <td>0.00</td>\n",
       "      <td>2.00</td>\n",
       "      <td>910.00</td>\n",
       "      <td>10.24</td>\n",
       "      <td>44.00</td>\n",
       "      <td>86.28</td>\n",
       "    </tr>\n",
       "    <tr>\n",
       "      <th>50%</th>\n",
       "      <td>904338.00</td>\n",
       "      <td>49.95</td>\n",
       "      <td>39.95</td>\n",
       "      <td>0.28</td>\n",
       "      <td>0.00</td>\n",
       "      <td>5.00</td>\n",
       "      <td>1737.00</td>\n",
       "      <td>26.28</td>\n",
       "      <td>86.00</td>\n",
       "      <td>190.95</td>\n",
       "    </tr>\n",
       "    <tr>\n",
       "      <th>75%</th>\n",
       "      <td>906569.00</td>\n",
       "      <td>64.95</td>\n",
       "      <td>58.02</td>\n",
       "      <td>2.50</td>\n",
       "      <td>10.00</td>\n",
       "      <td>11.00</td>\n",
       "      <td>2956.00</td>\n",
       "      <td>46.08</td>\n",
       "      <td>130.00</td>\n",
       "      <td>397.12</td>\n",
       "    </tr>\n",
       "    <tr>\n",
       "      <th>max</th>\n",
       "      <td>908708.00</td>\n",
       "      <td>179.95</td>\n",
       "      <td>199.91</td>\n",
       "      <td>129.96</td>\n",
       "      <td>90.00</td>\n",
       "      <td>281.00</td>\n",
       "      <td>36396.00</td>\n",
       "      <td>100.25</td>\n",
       "      <td>181.00</td>\n",
       "      <td>13403.60</td>\n",
       "    </tr>\n",
       "  </tbody>\n",
       "</table>\n",
       "</div>"
      ],
      "text/plain": [
       "       article_id  original_price  sells_price   discount   markdown  \\\n",
       "count  1131329.00      1131329.00   1131329.00 1131329.00 1131329.00   \n",
       "mean    904359.27           51.33        43.87       2.58       4.88   \n",
       "std       2521.36           22.19        20.50       5.73       9.43   \n",
       "min     900001.00            9.95       -47.96     -99.96     -19.00   \n",
       "25%     902176.00           35.95        29.34       0.00       0.00   \n",
       "50%     904338.00           49.95        39.95       0.28       0.00   \n",
       "75%     906569.00           64.95        58.02       2.50      10.00   \n",
       "max     908708.00          179.95       199.91     129.96      90.00   \n",
       "\n",
       "       article_count  stock_total        avq  time_on_sale    revenue  \n",
       "count     1131329.00   1131329.00 1131329.00    1131329.00 1131329.00  \n",
       "mean            8.52      2162.84      30.12         87.38     317.27  \n",
       "std            10.84      1960.91      22.89         50.69     385.77  \n",
       "min             1.00       106.00       0.00          0.00     -47.96  \n",
       "25%             2.00       910.00      10.24         44.00      86.28  \n",
       "50%             5.00      1737.00      26.28         86.00     190.95  \n",
       "75%            11.00      2956.00      46.08        130.00     397.12  \n",
       "max           281.00     36396.00     100.25        181.00   13403.60  "
      ]
     },
     "execution_count": 53,
     "metadata": {},
     "output_type": "execute_result"
    }
   ],
   "source": [
    "pd.options.display.float_format = \"{:.2f}\".format\n",
    "raw_data.describe(include=np.number)"
   ]
  },
  {
   "cell_type": "markdown",
   "metadata": {
    "heading_collapsed": true
   },
   "source": [
    "## Consistency check"
   ]
  },
  {
   "cell_type": "markdown",
   "metadata": {
    "hidden": true
   },
   "source": [
    "### Check if the dataset contains null values"
   ]
  },
  {
   "cell_type": "code",
   "execution_count": 70,
   "metadata": {
    "hidden": true
   },
   "outputs": [
    {
     "data": {
      "text/plain": [
       "False"
      ]
     },
     "execution_count": 70,
     "metadata": {},
     "output_type": "execute_result"
    }
   ],
   "source": [
    "raw_data.isna().values.any()"
   ]
  },
  {
   "cell_type": "markdown",
   "metadata": {
    "hidden": true
   },
   "source": [
    "### Detect how many articles are contained in the dataset"
   ]
  },
  {
   "cell_type": "code",
   "execution_count": 76,
   "metadata": {
    "hidden": true
   },
   "outputs": [
    {
     "data": {
      "text/plain": [
       "8708"
      ]
     },
     "execution_count": 76,
     "metadata": {},
     "output_type": "execute_result"
    }
   ],
   "source": [
    "len(raw_data['article_id'].unique())"
   ]
  },
  {
   "cell_type": "markdown",
   "metadata": {
    "hidden": true
   },
   "source": [
    "### Get the maximum *time_on_sale* value"
   ]
  },
  {
   "cell_type": "code",
   "execution_count": 77,
   "metadata": {
    "hidden": true
   },
   "outputs": [
    {
     "data": {
      "text/plain": [
       "181"
      ]
     },
     "execution_count": 77,
     "metadata": {},
     "output_type": "execute_result"
    }
   ],
   "source": [
    "raw_data['time_on_sale'].max()"
   ]
  },
  {
   "cell_type": "markdown",
   "metadata": {
    "hidden": true
   },
   "source": [
    "### Check, how many articles have less then 181 *time_on_sale* values"
   ]
  },
  {
   "cell_type": "code",
   "execution_count": 79,
   "metadata": {
    "hidden": true
   },
   "outputs": [
    {
     "data": {
      "text/plain": [
       "8708"
      ]
     },
     "execution_count": 79,
     "metadata": {},
     "output_type": "execute_result"
    }
   ],
   "source": [
    "tos_test = pd.DataFrame(raw_data.groupby('article_id').apply(lambda x: x.time_on_sale.nunique()))\n",
    "tos_test.columns = ['number_tos']\n",
    "len(tos_test.loc[tos_test.number_tos < 181])"
   ]
  },
  {
   "cell_type": "markdown",
   "metadata": {
    "hidden": true
   },
   "source": [
    "To sum up, there are 8708 different articles in the dataset. Non of the articles have 181 *time_on_sale* values. To build consistent series, we have to fill up the lacked values of each series"
   ]
  },
  {
   "cell_type": "markdown",
   "metadata": {
    "heading_collapsed": true
   },
   "source": [
    "## Visualization of raw data"
   ]
  },
  {
   "cell_type": "code",
   "execution_count": 60,
   "metadata": {
    "hidden": true
   },
   "outputs": [
    {
     "data": {
      "image/png": "[encoded data removed]",
      "text/plain": [
       "<Figure size 432x288 with 1 Axes>"
      ]
     },
     "metadata": {},
     "output_type": "display_data"
    },
    {
     "data": {
      "image/png": "[encoded data removed]",
      "text/plain": [
       "<Figure size 432x288 with 1 Axes>"
      ]
     },
     "metadata": {},
     "output_type": "display_data"
    }
   ],
   "source": [
    "plot_articles(raw_data, [900001, 900002, 900030], 'article_count');\n",
    "plot_articles(raw_data, [900001, 900002, 900030], 'avq');"
   ]
  },
  {
   "cell_type": "markdown",
   "metadata": {
    "heading_collapsed": true
   },
   "source": [
    "# Data processing"
   ]
  },
  {
   "cell_type": "markdown",
   "metadata": {
    "hidden": true
   },
   "source": [
    "For the next step, we process the raw data.\n",
    "As part of this, we transform the different columns into specific datatypes:\n",
    "\n",
    "  * *article_id* = category\n",
    "  * *transaction_date* = datetime\n",
    "  * *markdown_start_date* = datetime\n",
    "  * *markdown_end_date* = datetime"
   ]
  },
  {
   "cell_type": "code",
   "execution_count": null,
   "metadata": {
    "hidden": true
   },
   "outputs": [],
   "source": []
  }
 ],
 "metadata": {
  "kernelspec": {
   "display_name": "tailor",
   "language": "python",
   "name": "tailor"
  },
  "language_info": {
   "codemirror_mode": {
    "name": "ipython",
    "version": 3
   },
   "file_extension": ".py",
   "mimetype": "text/x-python",
   "name": "python",
   "nbconvert_exporter": "python",
   "pygments_lexer": "ipython3",
   "version": "3.6.5"
  }
 },
 "nbformat": 4,
 "nbformat_minor": 2
}
