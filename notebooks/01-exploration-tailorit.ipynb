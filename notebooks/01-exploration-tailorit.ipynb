{
 "cells": [
  {
   "cell_type": "markdown",
   "metadata": {},
   "source": [
    "# Tailorit - Data Exploration"
   ]
  },
  {
   "cell_type": "markdown",
   "metadata": {},
   "source": [
    "### Import required packages"
   ]
  },
  {
   "cell_type": "code",
   "execution_count": 1,
   "metadata": {},
   "outputs": [],
   "source": [
    "# Display plots inline\n",
    "%matplotlib inline\n",
    "\n",
    "# Autoreload all package before excecuting a call\n",
    "%load_ext autoreload\n",
    "%autoreload 2"
   ]
  },
  {
   "cell_type": "code",
   "execution_count": 2,
   "metadata": {},
   "outputs": [],
   "source": [
    "import matplotlib.pyplot as plt\n",
    "import numpy as np\n",
    "import pandas as pd\n",
    "\n",
    "import tailor\n",
    "from tailor.data import group_by"
   ]
  },
  {
   "cell_type": "markdown",
   "metadata": {},
   "source": [
    "### Load data"
   ]
  },
  {
   "cell_type": "code",
   "execution_count": 3,
   "metadata": {},
   "outputs": [],
   "source": [
    "df = tailor.load_data()\n",
    "df = group_by.weeks_on_sale(df)"
   ]
  },
  {
   "cell_type": "markdown",
   "metadata": {},
   "source": [
    "### Get an overview over the dataset"
   ]
  },
  {
   "cell_type": "raw",
   "metadata": {
    "scrolled": false
   },
   "source": [
    "df.head(20)"
   ]
  },
  {
   "cell_type": "code",
   "execution_count": 4,
   "metadata": {},
   "outputs": [
    {
     "data": {
      "text/html": [
       "<div>\n",
       "<style scoped>\n",
       "    .dataframe tbody tr th:only-of-type {\n",
       "        vertical-align: middle;\n",
       "    }\n",
       "\n",
       "    .dataframe tbody tr th {\n",
       "        vertical-align: top;\n",
       "    }\n",
       "\n",
       "    .dataframe thead th {\n",
       "        text-align: right;\n",
       "    }\n",
       "</style>\n",
       "<table border=\"1\" class=\"dataframe\">\n",
       "  <thead>\n",
       "    <tr style=\"text-align: right;\">\n",
       "      <th></th>\n",
       "      <th>weeks_on_sale</th>\n",
       "      <th>original_price</th>\n",
       "      <th>sells_price</th>\n",
       "      <th>discount</th>\n",
       "      <th>markdown</th>\n",
       "      <th>article_count</th>\n",
       "      <th>stock_total</th>\n",
       "      <th>avq</th>\n",
       "      <th>revenue</th>\n",
       "    </tr>\n",
       "  </thead>\n",
       "  <tbody>\n",
       "    <tr>\n",
       "      <th>count</th>\n",
       "      <td>216580.00</td>\n",
       "      <td>216580.00</td>\n",
       "      <td>216580.00</td>\n",
       "      <td>216580.00</td>\n",
       "      <td>216580.00</td>\n",
       "      <td>216580.00</td>\n",
       "      <td>216580.00</td>\n",
       "      <td>216580.00</td>\n",
       "      <td>216580.00</td>\n",
       "    </tr>\n",
       "    <tr>\n",
       "      <th>mean</th>\n",
       "      <td>12.17</td>\n",
       "      <td>52.81</td>\n",
       "      <td>45.17</td>\n",
       "      <td>2.70</td>\n",
       "      <td>4.94</td>\n",
       "      <td>7.49</td>\n",
       "      <td>1979.82</td>\n",
       "      <td>30.09</td>\n",
       "      <td>282.86</td>\n",
       "    </tr>\n",
       "    <tr>\n",
       "      <th>std</th>\n",
       "      <td>7.38</td>\n",
       "      <td>22.65</td>\n",
       "      <td>20.89</td>\n",
       "      <td>5.08</td>\n",
       "      <td>9.49</td>\n",
       "      <td>8.58</td>\n",
       "      <td>1891.05</td>\n",
       "      <td>23.56</td>\n",
       "      <td>299.06</td>\n",
       "    </tr>\n",
       "    <tr>\n",
       "      <th>min</th>\n",
       "      <td>0.00</td>\n",
       "      <td>9.95</td>\n",
       "      <td>-32.01</td>\n",
       "      <td>-30.00</td>\n",
       "      <td>-10.00</td>\n",
       "      <td>1.00</td>\n",
       "      <td>106.00</td>\n",
       "      <td>0.00</td>\n",
       "      <td>-32.01</td>\n",
       "    </tr>\n",
       "    <tr>\n",
       "      <th>25%</th>\n",
       "      <td>6.00</td>\n",
       "      <td>39.95</td>\n",
       "      <td>29.48</td>\n",
       "      <td>0.19</td>\n",
       "      <td>0.00</td>\n",
       "      <td>2.20</td>\n",
       "      <td>773.00</td>\n",
       "      <td>9.41</td>\n",
       "      <td>99.92</td>\n",
       "    </tr>\n",
       "    <tr>\n",
       "      <th>50%</th>\n",
       "      <td>12.00</td>\n",
       "      <td>49.95</td>\n",
       "      <td>42.29</td>\n",
       "      <td>0.84</td>\n",
       "      <td>0.00</td>\n",
       "      <td>4.40</td>\n",
       "      <td>1504.00</td>\n",
       "      <td>25.91</td>\n",
       "      <td>182.05</td>\n",
       "    </tr>\n",
       "    <tr>\n",
       "      <th>75%</th>\n",
       "      <td>18.00</td>\n",
       "      <td>69.95</td>\n",
       "      <td>59.03</td>\n",
       "      <td>3.04</td>\n",
       "      <td>10.00</td>\n",
       "      <td>9.50</td>\n",
       "      <td>2749.00</td>\n",
       "      <td>46.54</td>\n",
       "      <td>350.95</td>\n",
       "    </tr>\n",
       "    <tr>\n",
       "      <th>max</th>\n",
       "      <td>25.00</td>\n",
       "      <td>179.95</td>\n",
       "      <td>179.95</td>\n",
       "      <td>88.95</td>\n",
       "      <td>90.00</td>\n",
       "      <td>156.14</td>\n",
       "      <td>36396.00</td>\n",
       "      <td>100.12</td>\n",
       "      <td>5511.12</td>\n",
       "    </tr>\n",
       "  </tbody>\n",
       "</table>\n",
       "</div>"
      ],
      "text/plain": [
       "       weeks_on_sale  original_price  sells_price  discount  markdown  \\\n",
       "count      216580.00       216580.00    216580.00 216580.00 216580.00   \n",
       "mean           12.17           52.81        45.17      2.70      4.94   \n",
       "std             7.38           22.65        20.89      5.08      9.49   \n",
       "min             0.00            9.95       -32.01    -30.00    -10.00   \n",
       "25%             6.00           39.95        29.48      0.19      0.00   \n",
       "50%            12.00           49.95        42.29      0.84      0.00   \n",
       "75%            18.00           69.95        59.03      3.04     10.00   \n",
       "max            25.00          179.95       179.95     88.95     90.00   \n",
       "\n",
       "       article_count  stock_total       avq   revenue  \n",
       "count      216580.00    216580.00 216580.00 216580.00  \n",
       "mean            7.49      1979.82     30.09    282.86  \n",
       "std             8.58      1891.05     23.56    299.06  \n",
       "min             1.00       106.00      0.00    -32.01  \n",
       "25%             2.20       773.00      9.41     99.92  \n",
       "50%             4.40      1504.00     25.91    182.05  \n",
       "75%             9.50      2749.00     46.54    350.95  \n",
       "max           156.14     36396.00    100.12   5511.12  "
      ]
     },
     "execution_count": 4,
     "metadata": {},
     "output_type": "execute_result"
    }
   ],
   "source": [
    "pd.options.display.float_format = \"{:.2f}\".format\n",
    "df.describe(include=np.number)"
   ]
  },
  {
   "cell_type": "code",
   "execution_count": 5,
   "metadata": {
    "scrolled": false
   },
   "outputs": [
    {
     "data": {
      "text/html": [
       "<div>\n",
       "<style scoped>\n",
       "    .dataframe tbody tr th:only-of-type {\n",
       "        vertical-align: middle;\n",
       "    }\n",
       "\n",
       "    .dataframe tbody tr th {\n",
       "        vertical-align: top;\n",
       "    }\n",
       "\n",
       "    .dataframe thead th {\n",
       "        text-align: right;\n",
       "    }\n",
       "</style>\n",
       "<table border=\"1\" class=\"dataframe\">\n",
       "  <thead>\n",
       "    <tr style=\"text-align: right;\">\n",
       "      <th></th>\n",
       "      <th>article_id</th>\n",
       "      <th>season</th>\n",
       "      <th>brand</th>\n",
       "      <th>color</th>\n",
       "      <th>Abteilung</th>\n",
       "      <th>WHG</th>\n",
       "      <th>WUG</th>\n",
       "    </tr>\n",
       "  </thead>\n",
       "  <tbody>\n",
       "    <tr>\n",
       "      <th>count</th>\n",
       "      <td>216580</td>\n",
       "      <td>216580</td>\n",
       "      <td>216580</td>\n",
       "      <td>216580</td>\n",
       "      <td>216580</td>\n",
       "      <td>216580</td>\n",
       "      <td>216580</td>\n",
       "    </tr>\n",
       "    <tr>\n",
       "      <th>unique</th>\n",
       "      <td>8708</td>\n",
       "      <td>2</td>\n",
       "      <td>75</td>\n",
       "      <td>40</td>\n",
       "      <td>7</td>\n",
       "      <td>43</td>\n",
       "      <td>152</td>\n",
       "    </tr>\n",
       "    <tr>\n",
       "      <th>top</th>\n",
       "      <td>908708</td>\n",
       "      <td>Sommer</td>\n",
       "      <td>Fimmilena</td>\n",
       "      <td>schwarz</td>\n",
       "      <td>Abteilung002</td>\n",
       "      <td>WHG015</td>\n",
       "      <td>WUG053</td>\n",
       "    </tr>\n",
       "    <tr>\n",
       "      <th>freq</th>\n",
       "      <td>26</td>\n",
       "      <td>116633</td>\n",
       "      <td>14764</td>\n",
       "      <td>45986</td>\n",
       "      <td>95349</td>\n",
       "      <td>23772</td>\n",
       "      <td>9678</td>\n",
       "    </tr>\n",
       "  </tbody>\n",
       "</table>\n",
       "</div>"
      ],
      "text/plain": [
       "        article_id  season      brand    color     Abteilung     WHG     WUG\n",
       "count       216580  216580     216580   216580        216580  216580  216580\n",
       "unique        8708       2         75       40             7      43     152\n",
       "top         908708  Sommer  Fimmilena  schwarz  Abteilung002  WHG015  WUG053\n",
       "freq            26  116633      14764    45986         95349   23772    9678"
      ]
     },
     "execution_count": 5,
     "metadata": {},
     "output_type": "execute_result"
    }
   ],
   "source": [
    "df.describe(include=['category'])"
   ]
  },
  {
   "cell_type": "markdown",
   "metadata": {},
   "source": [
    "### Check for null values"
   ]
  },
  {
   "cell_type": "code",
   "execution_count": 6,
   "metadata": {},
   "outputs": [
    {
     "data": {
      "text/plain": [
       "False"
      ]
     },
     "execution_count": 6,
     "metadata": {},
     "output_type": "execute_result"
    }
   ],
   "source": [
    "df.isna().values.any()"
   ]
  },
  {
   "cell_type": "markdown",
   "metadata": {},
   "source": [
    "Wow, we're in luck, there are no null values in the dataset!"
   ]
  },
  {
   "cell_type": "markdown",
   "metadata": {},
   "source": [
    "### Plot sample article"
   ]
  },
  {
   "cell_type": "code",
   "execution_count": 7,
   "metadata": {},
   "outputs": [
    {
     "data": {
      "image/png": "[encoded data removed]",
      "text/plain": [
       "<Figure size 432x288 with 1 Axes>"
      ]
     },
     "metadata": {},
     "output_type": "display_data"
    }
   ],
   "source": [
    "article = df.loc[df.article_id == 900003, [\n",
    "    \"weeks_on_sale\", \"article_count\", \"avq\", \"revenue\", \"sells_price\", \"original_price\"]]\n",
    "plt.plot(article.weeks_on_sale, article.article_count, 'blue')\n",
    "plt.plot(article.weeks_on_sale, article.revenue/article.original_price, 'orange', label='revenue')\n",
    "plt.plot(article.weeks_on_sale, article.avq, 'green')\n",
    "plt.plot(article.weeks_on_sale, article.sells_price, 'red')\n",
    "plt.xlabel('weeks on sale')\n",
    "plt.legend();"
   ]
  },
  {
   "cell_type": "markdown",
   "metadata": {},
   "source": [
    "We can see the clear relationship between the amount of articles sold, it's sells price (including markdown and discounts) and the generated revenue and here."
   ]
  },
  {
   "cell_type": "code",
   "execution_count": null,
   "metadata": {},
   "outputs": [],
   "source": []
  }
 ],
 "metadata": {
  "kernelspec": {
   "display_name": "tailor",
   "language": "python",
   "name": "tailor"
  },
  "language_info": {
   "codemirror_mode": {
    "name": "ipython",
    "version": 3
   },
   "file_extension": ".py",
   "mimetype": "text/x-python",
   "name": "python",
   "nbconvert_exporter": "python",
   "pygments_lexer": "ipython3",
   "version": "3.6.5"
  }
 },
 "nbformat": 4,
 "nbformat_minor": 2
}
