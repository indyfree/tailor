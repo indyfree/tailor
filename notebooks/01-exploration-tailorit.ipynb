{
 "cells": [
  {
   "cell_type": "markdown",
   "metadata": {},
   "source": [
    "# Tailorit - Data Exploration"
   ]
  },
  {
   "cell_type": "markdown",
   "metadata": {},
   "source": [
    "### Import required packages"
   ]
  },
  {
   "cell_type": "code",
   "execution_count": 1,
   "metadata": {},
   "outputs": [],
   "source": [
    "# Display plots inline\n",
    "%matplotlib inline\n",
    "\n",
    "# Autoreload all package before excecuting a call\n",
    "%load_ext autoreload\n",
    "%autoreload 2"
   ]
  },
  {
   "cell_type": "code",
   "execution_count": 2,
   "metadata": {},
   "outputs": [],
   "source": [
    "import matplotlib.pyplot as plt\n",
    "import numpy as np\n",
    "import pandas as pd\n",
    "\n",
    "import tailor"
   ]
  },
  {
   "cell_type": "markdown",
   "metadata": {},
   "source": [
    "### Load data"
   ]
  },
  {
   "cell_type": "code",
   "execution_count": 3,
   "metadata": {},
   "outputs": [],
   "source": [
    "df = tailor.load_data()"
   ]
  },
  {
   "cell_type": "markdown",
   "metadata": {},
   "source": [
    "### Get an overview over the dataset"
   ]
  },
  {
   "cell_type": "raw",
   "metadata": {
    "scrolled": false
   },
   "source": [
    "df.head(20)"
   ]
  },
  {
   "cell_type": "code",
   "execution_count": 4,
   "metadata": {},
   "outputs": [
    {
     "data": {
      "text/html": [
       "<div>\n",
       "<style scoped>\n",
       "    .dataframe tbody tr th:only-of-type {\n",
       "        vertical-align: middle;\n",
       "    }\n",
       "\n",
       "    .dataframe tbody tr th {\n",
       "        vertical-align: top;\n",
       "    }\n",
       "\n",
       "    .dataframe thead th {\n",
       "        text-align: right;\n",
       "    }\n",
       "</style>\n",
       "<table border=\"1\" class=\"dataframe\">\n",
       "  <thead>\n",
       "    <tr style=\"text-align: right;\">\n",
       "      <th></th>\n",
       "      <th>original_price</th>\n",
       "      <th>sells_price</th>\n",
       "      <th>discount</th>\n",
       "      <th>markdown</th>\n",
       "      <th>article_count</th>\n",
       "      <th>stock_total</th>\n",
       "      <th>avq</th>\n",
       "      <th>time_on_sale</th>\n",
       "      <th>revenue</th>\n",
       "    </tr>\n",
       "  </thead>\n",
       "  <tbody>\n",
       "    <tr>\n",
       "      <th>count</th>\n",
       "      <td>1131329.00</td>\n",
       "      <td>1131329.00</td>\n",
       "      <td>1131329.00</td>\n",
       "      <td>1131329.00</td>\n",
       "      <td>1131329.00</td>\n",
       "      <td>1131329.00</td>\n",
       "      <td>1131329.00</td>\n",
       "      <td>1131329.00</td>\n",
       "      <td>1131329.00</td>\n",
       "    </tr>\n",
       "    <tr>\n",
       "      <th>mean</th>\n",
       "      <td>51.33</td>\n",
       "      <td>43.87</td>\n",
       "      <td>2.58</td>\n",
       "      <td>4.88</td>\n",
       "      <td>8.52</td>\n",
       "      <td>2162.84</td>\n",
       "      <td>30.12</td>\n",
       "      <td>87.38</td>\n",
       "      <td>317.27</td>\n",
       "    </tr>\n",
       "    <tr>\n",
       "      <th>std</th>\n",
       "      <td>22.19</td>\n",
       "      <td>20.50</td>\n",
       "      <td>5.73</td>\n",
       "      <td>9.43</td>\n",
       "      <td>10.84</td>\n",
       "      <td>1960.91</td>\n",
       "      <td>22.89</td>\n",
       "      <td>50.69</td>\n",
       "      <td>385.77</td>\n",
       "    </tr>\n",
       "    <tr>\n",
       "      <th>min</th>\n",
       "      <td>9.95</td>\n",
       "      <td>-47.96</td>\n",
       "      <td>-99.96</td>\n",
       "      <td>-19.00</td>\n",
       "      <td>1.00</td>\n",
       "      <td>106.00</td>\n",
       "      <td>0.00</td>\n",
       "      <td>0.00</td>\n",
       "      <td>-47.96</td>\n",
       "    </tr>\n",
       "    <tr>\n",
       "      <th>25%</th>\n",
       "      <td>35.95</td>\n",
       "      <td>29.34</td>\n",
       "      <td>0.00</td>\n",
       "      <td>0.00</td>\n",
       "      <td>2.00</td>\n",
       "      <td>910.00</td>\n",
       "      <td>10.24</td>\n",
       "      <td>44.00</td>\n",
       "      <td>86.28</td>\n",
       "    </tr>\n",
       "    <tr>\n",
       "      <th>50%</th>\n",
       "      <td>49.95</td>\n",
       "      <td>39.95</td>\n",
       "      <td>0.28</td>\n",
       "      <td>0.00</td>\n",
       "      <td>5.00</td>\n",
       "      <td>1737.00</td>\n",
       "      <td>26.28</td>\n",
       "      <td>86.00</td>\n",
       "      <td>190.95</td>\n",
       "    </tr>\n",
       "    <tr>\n",
       "      <th>75%</th>\n",
       "      <td>64.95</td>\n",
       "      <td>58.02</td>\n",
       "      <td>2.50</td>\n",
       "      <td>10.00</td>\n",
       "      <td>11.00</td>\n",
       "      <td>2956.00</td>\n",
       "      <td>46.08</td>\n",
       "      <td>130.00</td>\n",
       "      <td>397.12</td>\n",
       "    </tr>\n",
       "    <tr>\n",
       "      <th>max</th>\n",
       "      <td>179.95</td>\n",
       "      <td>199.91</td>\n",
       "      <td>129.96</td>\n",
       "      <td>90.00</td>\n",
       "      <td>281.00</td>\n",
       "      <td>36396.00</td>\n",
       "      <td>100.25</td>\n",
       "      <td>181.00</td>\n",
       "      <td>13403.60</td>\n",
       "    </tr>\n",
       "  </tbody>\n",
       "</table>\n",
       "</div>"
      ],
      "text/plain": [
       "       original_price  sells_price   discount   markdown  article_count  \\\n",
       "count      1131329.00   1131329.00 1131329.00 1131329.00     1131329.00   \n",
       "mean            51.33        43.87       2.58       4.88           8.52   \n",
       "std             22.19        20.50       5.73       9.43          10.84   \n",
       "min              9.95       -47.96     -99.96     -19.00           1.00   \n",
       "25%             35.95        29.34       0.00       0.00           2.00   \n",
       "50%             49.95        39.95       0.28       0.00           5.00   \n",
       "75%             64.95        58.02       2.50      10.00          11.00   \n",
       "max            179.95       199.91     129.96      90.00         281.00   \n",
       "\n",
       "       stock_total        avq  time_on_sale    revenue  \n",
       "count   1131329.00 1131329.00    1131329.00 1131329.00  \n",
       "mean       2162.84      30.12         87.38     317.27  \n",
       "std        1960.91      22.89         50.69     385.77  \n",
       "min         106.00       0.00          0.00     -47.96  \n",
       "25%         910.00      10.24         44.00      86.28  \n",
       "50%        1737.00      26.28         86.00     190.95  \n",
       "75%        2956.00      46.08        130.00     397.12  \n",
       "max       36396.00     100.25        181.00   13403.60  "
      ]
     },
     "execution_count": 4,
     "metadata": {},
     "output_type": "execute_result"
    }
   ],
   "source": [
    "pd.options.display.float_format = \"{:.2f}\".format\n",
    "df.describe(include=np.number)"
   ]
  },
  {
   "cell_type": "code",
   "execution_count": 5,
   "metadata": {
    "scrolled": false
   },
   "outputs": [
    {
     "data": {
      "text/html": [
       "<div>\n",
       "<style scoped>\n",
       "    .dataframe tbody tr th:only-of-type {\n",
       "        vertical-align: middle;\n",
       "    }\n",
       "\n",
       "    .dataframe tbody tr th {\n",
       "        vertical-align: top;\n",
       "    }\n",
       "\n",
       "    .dataframe thead th {\n",
       "        text-align: right;\n",
       "    }\n",
       "</style>\n",
       "<table border=\"1\" class=\"dataframe\">\n",
       "  <thead>\n",
       "    <tr style=\"text-align: right;\">\n",
       "      <th></th>\n",
       "      <th>article_id</th>\n",
       "      <th>season</th>\n",
       "      <th>brand</th>\n",
       "      <th>color</th>\n",
       "      <th>Abteilung</th>\n",
       "      <th>WHG</th>\n",
       "      <th>WUG</th>\n",
       "    </tr>\n",
       "  </thead>\n",
       "  <tbody>\n",
       "    <tr>\n",
       "      <th>count</th>\n",
       "      <td>1131329</td>\n",
       "      <td>1131329</td>\n",
       "      <td>1131329</td>\n",
       "      <td>1131329</td>\n",
       "      <td>1131329</td>\n",
       "      <td>1131329</td>\n",
       "      <td>1131329</td>\n",
       "    </tr>\n",
       "    <tr>\n",
       "      <th>unique</th>\n",
       "      <td>8708</td>\n",
       "      <td>2</td>\n",
       "      <td>75</td>\n",
       "      <td>40</td>\n",
       "      <td>7</td>\n",
       "      <td>43</td>\n",
       "      <td>152</td>\n",
       "    </tr>\n",
       "    <tr>\n",
       "      <th>top</th>\n",
       "      <td>900486</td>\n",
       "      <td>Sommer</td>\n",
       "      <td>Fimmilena</td>\n",
       "      <td>schwarz</td>\n",
       "      <td>Abteilung002</td>\n",
       "      <td>WHG015</td>\n",
       "      <td>WUG053</td>\n",
       "    </tr>\n",
       "    <tr>\n",
       "      <th>freq</th>\n",
       "      <td>173</td>\n",
       "      <td>608555</td>\n",
       "      <td>80414</td>\n",
       "      <td>241952</td>\n",
       "      <td>498997</td>\n",
       "      <td>127617</td>\n",
       "      <td>51719</td>\n",
       "    </tr>\n",
       "  </tbody>\n",
       "</table>\n",
       "</div>"
      ],
      "text/plain": [
       "        article_id   season      brand    color     Abteilung      WHG  \\\n",
       "count      1131329  1131329    1131329  1131329       1131329  1131329   \n",
       "unique        8708        2         75       40             7       43   \n",
       "top         900486   Sommer  Fimmilena  schwarz  Abteilung002   WHG015   \n",
       "freq           173   608555      80414   241952        498997   127617   \n",
       "\n",
       "            WUG  \n",
       "count   1131329  \n",
       "unique      152  \n",
       "top      WUG053  \n",
       "freq      51719  "
      ]
     },
     "execution_count": 5,
     "metadata": {},
     "output_type": "execute_result"
    }
   ],
   "source": [
    "df.describe(include=['category'])"
   ]
  },
  {
   "cell_type": "markdown",
   "metadata": {},
   "source": [
    "### Check for null values"
   ]
  },
  {
   "cell_type": "code",
   "execution_count": 6,
   "metadata": {},
   "outputs": [
    {
     "data": {
      "text/plain": [
       "False"
      ]
     },
     "execution_count": 6,
     "metadata": {},
     "output_type": "execute_result"
    }
   ],
   "source": [
    "df.isna().values.any()"
   ]
  },
  {
   "cell_type": "markdown",
   "metadata": {},
   "source": [
    "Wow, we're in luck, there are no null values in the dataset!"
   ]
  },
  {
   "cell_type": "markdown",
   "metadata": {},
   "source": [
    "### Plot sample article"
   ]
  },
  {
   "cell_type": "code",
   "execution_count": 7,
   "metadata": {},
   "outputs": [
    {
     "data": {
      "text/plain": [
       "[<matplotlib.lines.Line2D at 0x7f50865d39e8>]"
      ]
     },
     "execution_count": 7,
     "metadata": {},
     "output_type": "execute_result"
    },
    {
     "data": {
      "image/png": "[encoded data removed]",
      "text/plain": [
       "<Figure size 432x288 with 1 Axes>"
      ]
     },
     "metadata": {},
     "output_type": "display_data"
    }
   ],
   "source": [
    "article = df.loc[df.article_id == 900003, [\n",
    "    \"time_on_sale\", \"article_count\", \"avq\", \"revenue\"]]\n",
    "plt.plot(article.time_on_sale, article.article_count, 'blue')\n",
    "plt.plot(article.time_on_sale, article.revenue/40, 'orange')\n",
    "plt.plot(article.time_on_sale, article.avq, 'green')"
   ]
  }
 ],
 "metadata": {
  "kernelspec": {
   "display_name": "tailor",
   "language": "python",
   "name": "tailor"
  },
  "language_info": {
   "codemirror_mode": {
    "name": "ipython",
    "version": 3
   },
   "file_extension": ".py",
   "mimetype": "text/x-python",
   "name": "python",
   "nbconvert_exporter": "python",
   "pygments_lexer": "ipython3",
   "version": "3.6.5"
  }
 },
 "nbformat": 4,
 "nbformat_minor": 2
}
