{
 "cells": [
  {
   "cell_type": "code",
   "execution_count": 1,
   "metadata": {},
   "outputs": [],
   "source": [
    "import matplotlib.pyplot as plt\n",
    "import numpy as np\n",
    "import pandas as pd\n",
    "\n",
    "import tailor"
   ]
  },
  {
   "cell_type": "markdown",
   "metadata": {},
   "source": [
    "### Create initial DataFrame"
   ]
  },
  {
   "cell_type": "code",
   "execution_count": 2,
   "metadata": {
    "scrolled": true
   },
   "outputs": [],
   "source": [
    "raw_df = tailor.load_data()\n",
    "raw_df.article_id = raw_df.article_id.astype(int)\n",
    "df_revenue = raw_df[['article_id', 'time_on_sale', 'revenue']]"
   ]
  },
  {
   "cell_type": "markdown",
   "metadata": {},
   "source": [
    "To give an example, the dataframe looks like this ..."
   ]
  },
  {
   "cell_type": "code",
   "execution_count": 3,
   "metadata": {},
   "outputs": [
    {
     "data": {
      "text/html": [
       "<div>\n",
       "<style scoped>\n",
       "    .dataframe tbody tr th:only-of-type {\n",
       "        vertical-align: middle;\n",
       "    }\n",
       "\n",
       "    .dataframe tbody tr th {\n",
       "        vertical-align: top;\n",
       "    }\n",
       "\n",
       "    .dataframe thead th {\n",
       "        text-align: right;\n",
       "    }\n",
       "</style>\n",
       "<table border=\"1\" class=\"dataframe\">\n",
       "  <thead>\n",
       "    <tr style=\"text-align: right;\">\n",
       "      <th></th>\n",
       "      <th>article_id</th>\n",
       "      <th>time_on_sale</th>\n",
       "      <th>revenue</th>\n",
       "    </tr>\n",
       "  </thead>\n",
       "  <tbody>\n",
       "    <tr>\n",
       "      <th>0</th>\n",
       "      <td>900001</td>\n",
       "      <td>0</td>\n",
       "      <td>217.483333</td>\n",
       "    </tr>\n",
       "    <tr>\n",
       "      <th>1</th>\n",
       "      <td>900001</td>\n",
       "      <td>1</td>\n",
       "      <td>333.230000</td>\n",
       "    </tr>\n",
       "    <tr>\n",
       "      <th>2</th>\n",
       "      <td>900001</td>\n",
       "      <td>2</td>\n",
       "      <td>315.233333</td>\n",
       "    </tr>\n",
       "    <tr>\n",
       "      <th>3</th>\n",
       "      <td>900001</td>\n",
       "      <td>3</td>\n",
       "      <td>399.172500</td>\n",
       "    </tr>\n",
       "    <tr>\n",
       "      <th>4</th>\n",
       "      <td>900001</td>\n",
       "      <td>4</td>\n",
       "      <td>337.716667</td>\n",
       "    </tr>\n",
       "  </tbody>\n",
       "</table>\n",
       "</div>"
      ],
      "text/plain": [
       "   article_id  time_on_sale     revenue\n",
       "0      900001             0  217.483333\n",
       "1      900001             1  333.230000\n",
       "2      900001             2  315.233333\n",
       "3      900001             3  399.172500\n",
       "4      900001             4  337.716667"
      ]
     },
     "execution_count": 3,
     "metadata": {},
     "output_type": "execute_result"
    }
   ],
   "source": [
    "df_revenue.head()"
   ]
  },
  {
   "cell_type": "markdown",
   "metadata": {},
   "source": [
    "### Create a Benchmark Series\n",
    "\n",
    "Now reshape the dataframes into a format which makes it easier to calculate the mean of each time_on_sale value.  The following steps must be done for each  performance measure.  For now, we will just do it for the dataframe with the column 'revenue' (df_revenue)\n",
    "\n"
   ]
  },
  {
   "cell_type": "code",
   "execution_count": 4,
   "metadata": {},
   "outputs": [
    {
     "data": {
      "text/html": [
       "<div>\n",
       "<style scoped>\n",
       "    .dataframe tbody tr th:only-of-type {\n",
       "        vertical-align: middle;\n",
       "    }\n",
       "\n",
       "    .dataframe tbody tr th {\n",
       "        vertical-align: top;\n",
       "    }\n",
       "\n",
       "    .dataframe thead th {\n",
       "        text-align: right;\n",
       "    }\n",
       "</style>\n",
       "<table border=\"1\" class=\"dataframe\">\n",
       "  <thead>\n",
       "    <tr style=\"text-align: right;\">\n",
       "      <th></th>\n",
       "      <th>article_id</th>\n",
       "      <th>0</th>\n",
       "      <th>1</th>\n",
       "      <th>2</th>\n",
       "      <th>3</th>\n",
       "      <th>4</th>\n",
       "      <th>5</th>\n",
       "      <th>6</th>\n",
       "      <th>7</th>\n",
       "      <th>8</th>\n",
       "      <th>...</th>\n",
       "      <th>16</th>\n",
       "      <th>17</th>\n",
       "      <th>18</th>\n",
       "      <th>19</th>\n",
       "      <th>20</th>\n",
       "      <th>21</th>\n",
       "      <th>22</th>\n",
       "      <th>23</th>\n",
       "      <th>24</th>\n",
       "      <th>25</th>\n",
       "    </tr>\n",
       "  </thead>\n",
       "  <tbody>\n",
       "    <tr>\n",
       "      <th>0</th>\n",
       "      <td>900001</td>\n",
       "      <td>217.483333</td>\n",
       "      <td>333.230000</td>\n",
       "      <td>315.233333</td>\n",
       "      <td>399.172500</td>\n",
       "      <td>337.716667</td>\n",
       "      <td>318.932000</td>\n",
       "      <td>526.558333</td>\n",
       "      <td>324.423333</td>\n",
       "      <td>349.486667</td>\n",
       "      <td>...</td>\n",
       "      <td>329.700000</td>\n",
       "      <td>339.165714</td>\n",
       "      <td>448.111667</td>\n",
       "      <td>401.236667</td>\n",
       "      <td>327.585000</td>\n",
       "      <td>258.413333</td>\n",
       "      <td>245.796667</td>\n",
       "      <td>161.514286</td>\n",
       "      <td>195.900</td>\n",
       "      <td>88.016667</td>\n",
       "    </tr>\n",
       "    <tr>\n",
       "      <th>1</th>\n",
       "      <td>900002</td>\n",
       "      <td>153.301667</td>\n",
       "      <td>366.036667</td>\n",
       "      <td>399.931667</td>\n",
       "      <td>489.950000</td>\n",
       "      <td>566.735714</td>\n",
       "      <td>471.391667</td>\n",
       "      <td>511.267143</td>\n",
       "      <td>451.990000</td>\n",
       "      <td>440.414286</td>\n",
       "      <td>...</td>\n",
       "      <td>301.678333</td>\n",
       "      <td>246.612000</td>\n",
       "      <td>211.118571</td>\n",
       "      <td>229.086667</td>\n",
       "      <td>228.201667</td>\n",
       "      <td>215.748333</td>\n",
       "      <td>185.760000</td>\n",
       "      <td>142.350000</td>\n",
       "      <td>138.875</td>\n",
       "      <td>293.455000</td>\n",
       "    </tr>\n",
       "    <tr>\n",
       "      <th>2</th>\n",
       "      <td>900003</td>\n",
       "      <td>164.401667</td>\n",
       "      <td>256.011667</td>\n",
       "      <td>236.522857</td>\n",
       "      <td>238.227143</td>\n",
       "      <td>336.184286</td>\n",
       "      <td>283.264286</td>\n",
       "      <td>388.250000</td>\n",
       "      <td>412.515714</td>\n",
       "      <td>341.580000</td>\n",
       "      <td>...</td>\n",
       "      <td>606.630000</td>\n",
       "      <td>506.663333</td>\n",
       "      <td>424.105000</td>\n",
       "      <td>422.403333</td>\n",
       "      <td>340.841667</td>\n",
       "      <td>287.366667</td>\n",
       "      <td>257.373333</td>\n",
       "      <td>159.990000</td>\n",
       "      <td>88.152</td>\n",
       "      <td>63.743333</td>\n",
       "    </tr>\n",
       "    <tr>\n",
       "      <th>3</th>\n",
       "      <td>900004</td>\n",
       "      <td>87.390000</td>\n",
       "      <td>171.200000</td>\n",
       "      <td>168.610000</td>\n",
       "      <td>209.880000</td>\n",
       "      <td>233.978571</td>\n",
       "      <td>194.122000</td>\n",
       "      <td>309.560000</td>\n",
       "      <td>271.420000</td>\n",
       "      <td>218.172857</td>\n",
       "      <td>...</td>\n",
       "      <td>207.621667</td>\n",
       "      <td>196.691667</td>\n",
       "      <td>238.170000</td>\n",
       "      <td>195.748571</td>\n",
       "      <td>193.698333</td>\n",
       "      <td>75.344000</td>\n",
       "      <td>74.805000</td>\n",
       "      <td>24.812500</td>\n",
       "      <td>34.415</td>\n",
       "      <td>33.037500</td>\n",
       "    </tr>\n",
       "    <tr>\n",
       "      <th>4</th>\n",
       "      <td>900005</td>\n",
       "      <td>105.545000</td>\n",
       "      <td>104.073333</td>\n",
       "      <td>161.033333</td>\n",
       "      <td>208.620000</td>\n",
       "      <td>133.070000</td>\n",
       "      <td>186.827500</td>\n",
       "      <td>250.278333</td>\n",
       "      <td>112.463333</td>\n",
       "      <td>133.913333</td>\n",
       "      <td>...</td>\n",
       "      <td>154.371667</td>\n",
       "      <td>189.043333</td>\n",
       "      <td>325.191667</td>\n",
       "      <td>204.913333</td>\n",
       "      <td>161.285000</td>\n",
       "      <td>96.706667</td>\n",
       "      <td>46.131667</td>\n",
       "      <td>52.585000</td>\n",
       "      <td>47.880</td>\n",
       "      <td>51.370000</td>\n",
       "    </tr>\n",
       "  </tbody>\n",
       "</table>\n",
       "<p>5 rows × 27 columns</p>\n",
       "</div>"
      ],
      "text/plain": [
       "   article_id           0           1           2           3           4  \\\n",
       "0      900001  217.483333  333.230000  315.233333  399.172500  337.716667   \n",
       "1      900002  153.301667  366.036667  399.931667  489.950000  566.735714   \n",
       "2      900003  164.401667  256.011667  236.522857  238.227143  336.184286   \n",
       "3      900004   87.390000  171.200000  168.610000  209.880000  233.978571   \n",
       "4      900005  105.545000  104.073333  161.033333  208.620000  133.070000   \n",
       "\n",
       "            5           6           7           8     ...              16  \\\n",
       "0  318.932000  526.558333  324.423333  349.486667     ...      329.700000   \n",
       "1  471.391667  511.267143  451.990000  440.414286     ...      301.678333   \n",
       "2  283.264286  388.250000  412.515714  341.580000     ...      606.630000   \n",
       "3  194.122000  309.560000  271.420000  218.172857     ...      207.621667   \n",
       "4  186.827500  250.278333  112.463333  133.913333     ...      154.371667   \n",
       "\n",
       "           17          18          19          20          21          22  \\\n",
       "0  339.165714  448.111667  401.236667  327.585000  258.413333  245.796667   \n",
       "1  246.612000  211.118571  229.086667  228.201667  215.748333  185.760000   \n",
       "2  506.663333  424.105000  422.403333  340.841667  287.366667  257.373333   \n",
       "3  196.691667  238.170000  195.748571  193.698333   75.344000   74.805000   \n",
       "4  189.043333  325.191667  204.913333  161.285000   96.706667   46.131667   \n",
       "\n",
       "           23       24          25  \n",
       "0  161.514286  195.900   88.016667  \n",
       "1  142.350000  138.875  293.455000  \n",
       "2  159.990000   88.152   63.743333  \n",
       "3   24.812500   34.415   33.037500  \n",
       "4   52.585000   47.880   51.370000  \n",
       "\n",
       "[5 rows x 27 columns]"
      ]
     },
     "execution_count": 4,
     "metadata": {},
     "output_type": "execute_result"
    }
   ],
   "source": [
    "df_pivoted = df_revenue.pivot_table(\n",
    "    values='revenue', index='article_id', columns='time_on_sale')\n",
    "# cast pivot table into DataFrame\n",
    "df_reshaped = pd.DataFrame(df_pivoted.to_records())\n",
    "df_reshaped.head()"
   ]
  },
  {
   "cell_type": "markdown",
   "metadata": {},
   "source": [
    "Next, calculate the mean of each column. Therefore, you have the mean for each time_on_sale value. This series can be used as a benchmark series. "
   ]
  },
  {
   "cell_type": "code",
   "execution_count": 5,
   "metadata": {},
   "outputs": [
    {
     "data": {
      "text/plain": [
       "article_id    904354.500000\n",
       "0                158.368778\n",
       "1                253.207828\n",
       "2                287.590034\n",
       "3                309.596904\n",
       "dtype: float64"
      ]
     },
     "execution_count": 5,
     "metadata": {},
     "output_type": "execute_result"
    }
   ],
   "source": [
    "revenue_benchmark = df_reshaped.mean(axis=0)\n",
    "revenue_benchmark.head()"
   ]
  },
  {
   "cell_type": "markdown",
   "metadata": {},
   "source": [
    "Drop mean of article ids. It makes no sense and we dont need it "
   ]
  },
  {
   "cell_type": "code",
   "execution_count": 6,
   "metadata": {},
   "outputs": [
    {
     "data": {
      "text/plain": [
       "0    158.368778\n",
       "1    253.207828\n",
       "2    287.590034\n",
       "3    309.596904\n",
       "4    330.828999\n",
       "dtype: float64"
      ]
     },
     "execution_count": 6,
     "metadata": {},
     "output_type": "execute_result"
    }
   ],
   "source": [
    "revenue_benchmark = revenue_benchmark.drop(revenue_benchmark.index[0])\n",
    "revenue_benchmark.head()"
   ]
  },
  {
   "cell_type": "markdown",
   "metadata": {},
   "source": [
    "Cast series into a DataFrame"
   ]
  },
  {
   "cell_type": "code",
   "execution_count": 7,
   "metadata": {},
   "outputs": [
    {
     "data": {
      "text/html": [
       "<div>\n",
       "<style scoped>\n",
       "    .dataframe tbody tr th:only-of-type {\n",
       "        vertical-align: middle;\n",
       "    }\n",
       "\n",
       "    .dataframe tbody tr th {\n",
       "        vertical-align: top;\n",
       "    }\n",
       "\n",
       "    .dataframe thead th {\n",
       "        text-align: right;\n",
       "    }\n",
       "</style>\n",
       "<table border=\"1\" class=\"dataframe\">\n",
       "  <thead>\n",
       "    <tr style=\"text-align: right;\">\n",
       "      <th></th>\n",
       "      <th>time_on_sale</th>\n",
       "      <th>mean_revenue</th>\n",
       "    </tr>\n",
       "  </thead>\n",
       "  <tbody>\n",
       "    <tr>\n",
       "      <th>0</th>\n",
       "      <td>0</td>\n",
       "      <td>158.368778</td>\n",
       "    </tr>\n",
       "    <tr>\n",
       "      <th>1</th>\n",
       "      <td>1</td>\n",
       "      <td>253.207828</td>\n",
       "    </tr>\n",
       "    <tr>\n",
       "      <th>2</th>\n",
       "      <td>2</td>\n",
       "      <td>287.590034</td>\n",
       "    </tr>\n",
       "    <tr>\n",
       "      <th>3</th>\n",
       "      <td>3</td>\n",
       "      <td>309.596904</td>\n",
       "    </tr>\n",
       "    <tr>\n",
       "      <th>4</th>\n",
       "      <td>4</td>\n",
       "      <td>330.828999</td>\n",
       "    </tr>\n",
       "  </tbody>\n",
       "</table>\n",
       "</div>"
      ],
      "text/plain": [
       "   time_on_sale  mean_revenue\n",
       "0             0    158.368778\n",
       "1             1    253.207828\n",
       "2             2    287.590034\n",
       "3             3    309.596904\n",
       "4             4    330.828999"
      ]
     },
     "execution_count": 7,
     "metadata": {},
     "output_type": "execute_result"
    }
   ],
   "source": [
    "df_revenue_benchmark = pd.DataFrame()\n",
    "df_revenue_benchmark['time_on_sale'] = revenue_benchmark.keys().astype(int)\n",
    "df_revenue_benchmark['mean_revenue'] = revenue_benchmark.values\n",
    "df_revenue_benchmark.head()"
   ]
  },
  {
   "cell_type": "code",
   "execution_count": 8,
   "metadata": {},
   "outputs": [
    {
     "data": {
      "image/png": "[encoded data removed]",
      "text/plain": [
       "<Figure size 432x288 with 1 Axes>"
      ]
     },
     "metadata": {},
     "output_type": "display_data"
    }
   ],
   "source": [
    "plt.plot(df_revenue_benchmark.time_on_sale, df_revenue_benchmark.mean_revenue);"
   ]
  },
  {
   "cell_type": "markdown",
   "metadata": {},
   "source": [
    "### Calculate distance to Benchmark Series\n",
    "\n",
    "Merging both DataFrames yields in ..."
   ]
  },
  {
   "cell_type": "code",
   "execution_count": 9,
   "metadata": {
    "scrolled": true
   },
   "outputs": [
    {
     "data": {
      "text/html": [
       "<div>\n",
       "<style scoped>\n",
       "    .dataframe tbody tr th:only-of-type {\n",
       "        vertical-align: middle;\n",
       "    }\n",
       "\n",
       "    .dataframe tbody tr th {\n",
       "        vertical-align: top;\n",
       "    }\n",
       "\n",
       "    .dataframe thead th {\n",
       "        text-align: right;\n",
       "    }\n",
       "</style>\n",
       "<table border=\"1\" class=\"dataframe\">\n",
       "  <thead>\n",
       "    <tr style=\"text-align: right;\">\n",
       "      <th></th>\n",
       "      <th>article_id</th>\n",
       "      <th>time_on_sale</th>\n",
       "      <th>revenue</th>\n",
       "      <th>mean_revenue</th>\n",
       "    </tr>\n",
       "  </thead>\n",
       "  <tbody>\n",
       "    <tr>\n",
       "      <th>0</th>\n",
       "      <td>900001</td>\n",
       "      <td>0</td>\n",
       "      <td>217.483333</td>\n",
       "      <td>158.368778</td>\n",
       "    </tr>\n",
       "    <tr>\n",
       "      <th>1</th>\n",
       "      <td>900002</td>\n",
       "      <td>0</td>\n",
       "      <td>153.301667</td>\n",
       "      <td>158.368778</td>\n",
       "    </tr>\n",
       "    <tr>\n",
       "      <th>2</th>\n",
       "      <td>900003</td>\n",
       "      <td>0</td>\n",
       "      <td>164.401667</td>\n",
       "      <td>158.368778</td>\n",
       "    </tr>\n",
       "    <tr>\n",
       "      <th>3</th>\n",
       "      <td>900004</td>\n",
       "      <td>0</td>\n",
       "      <td>87.390000</td>\n",
       "      <td>158.368778</td>\n",
       "    </tr>\n",
       "    <tr>\n",
       "      <th>4</th>\n",
       "      <td>900005</td>\n",
       "      <td>0</td>\n",
       "      <td>105.545000</td>\n",
       "      <td>158.368778</td>\n",
       "    </tr>\n",
       "  </tbody>\n",
       "</table>\n",
       "</div>"
      ],
      "text/plain": [
       "   article_id  time_on_sale     revenue  mean_revenue\n",
       "0      900001             0  217.483333    158.368778\n",
       "1      900002             0  153.301667    158.368778\n",
       "2      900003             0  164.401667    158.368778\n",
       "3      900004             0   87.390000    158.368778\n",
       "4      900005             0  105.545000    158.368778"
      ]
     },
     "execution_count": 9,
     "metadata": {},
     "output_type": "execute_result"
    }
   ],
   "source": [
    "result = pd.merge(df_revenue, df_revenue_benchmark, how='left', on='time_on_sale',\n",
    "                  left_index=False, right_index=True, sort=True, validate='m:1')\n",
    "result = result.reset_index()\n",
    "result = result.drop('index', axis=1)\n",
    "result = result.rename(index=str, columns={'mean_revenue_y': 'mean_revenue'})\n",
    "result.head()"
   ]
  },
  {
   "cell_type": "markdown",
   "metadata": {},
   "source": [
    "Calculate the distance between revenue and mean_revenue"
   ]
  },
  {
   "cell_type": "code",
   "execution_count": 10,
   "metadata": {
    "scrolled": true
   },
   "outputs": [
    {
     "data": {
      "text/html": [
       "<div>\n",
       "<style scoped>\n",
       "    .dataframe tbody tr th:only-of-type {\n",
       "        vertical-align: middle;\n",
       "    }\n",
       "\n",
       "    .dataframe tbody tr th {\n",
       "        vertical-align: top;\n",
       "    }\n",
       "\n",
       "    .dataframe thead th {\n",
       "        text-align: right;\n",
       "    }\n",
       "</style>\n",
       "<table border=\"1\" class=\"dataframe\">\n",
       "  <thead>\n",
       "    <tr style=\"text-align: right;\">\n",
       "      <th></th>\n",
       "      <th>article_id</th>\n",
       "      <th>time_on_sale</th>\n",
       "      <th>revenue</th>\n",
       "      <th>mean_revenue</th>\n",
       "      <th>distance</th>\n",
       "    </tr>\n",
       "  </thead>\n",
       "  <tbody>\n",
       "    <tr>\n",
       "      <th>0</th>\n",
       "      <td>900001</td>\n",
       "      <td>0</td>\n",
       "      <td>217.483333</td>\n",
       "      <td>158.368778</td>\n",
       "      <td>59.114555</td>\n",
       "    </tr>\n",
       "    <tr>\n",
       "      <th>1</th>\n",
       "      <td>900002</td>\n",
       "      <td>0</td>\n",
       "      <td>153.301667</td>\n",
       "      <td>158.368778</td>\n",
       "      <td>5.067111</td>\n",
       "    </tr>\n",
       "    <tr>\n",
       "      <th>2</th>\n",
       "      <td>900003</td>\n",
       "      <td>0</td>\n",
       "      <td>164.401667</td>\n",
       "      <td>158.368778</td>\n",
       "      <td>6.032889</td>\n",
       "    </tr>\n",
       "    <tr>\n",
       "      <th>3</th>\n",
       "      <td>900004</td>\n",
       "      <td>0</td>\n",
       "      <td>87.390000</td>\n",
       "      <td>158.368778</td>\n",
       "      <td>70.978778</td>\n",
       "    </tr>\n",
       "    <tr>\n",
       "      <th>4</th>\n",
       "      <td>900005</td>\n",
       "      <td>0</td>\n",
       "      <td>105.545000</td>\n",
       "      <td>158.368778</td>\n",
       "      <td>52.823778</td>\n",
       "    </tr>\n",
       "  </tbody>\n",
       "</table>\n",
       "</div>"
      ],
      "text/plain": [
       "   article_id  time_on_sale     revenue  mean_revenue   distance\n",
       "0      900001             0  217.483333    158.368778  59.114555\n",
       "1      900002             0  153.301667    158.368778   5.067111\n",
       "2      900003             0  164.401667    158.368778   6.032889\n",
       "3      900004             0   87.390000    158.368778  70.978778\n",
       "4      900005             0  105.545000    158.368778  52.823778"
      ]
     },
     "execution_count": 10,
     "metadata": {},
     "output_type": "execute_result"
    }
   ],
   "source": [
    "result['distance'] = ((result['revenue'] - result['mean_revenue'])**2)**0.5\n",
    "result.head()"
   ]
  },
  {
   "cell_type": "markdown",
   "metadata": {},
   "source": [
    "Sum up all distances to get just one value for similiarity measurement"
   ]
  },
  {
   "cell_type": "code",
   "execution_count": 11,
   "metadata": {},
   "outputs": [
    {
     "data": {
      "text/html": [
       "<div>\n",
       "<style scoped>\n",
       "    .dataframe tbody tr th:only-of-type {\n",
       "        vertical-align: middle;\n",
       "    }\n",
       "\n",
       "    .dataframe tbody tr th {\n",
       "        vertical-align: top;\n",
       "    }\n",
       "\n",
       "    .dataframe thead th {\n",
       "        text-align: right;\n",
       "    }\n",
       "</style>\n",
       "<table border=\"1\" class=\"dataframe\">\n",
       "  <thead>\n",
       "    <tr style=\"text-align: right;\">\n",
       "      <th></th>\n",
       "      <th>article_id</th>\n",
       "      <th>time_on_sale</th>\n",
       "      <th>distance</th>\n",
       "    </tr>\n",
       "  </thead>\n",
       "  <tbody>\n",
       "    <tr>\n",
       "      <th>0</th>\n",
       "      <td>900001</td>\n",
       "      <td>325</td>\n",
       "      <td>2216.387136</td>\n",
       "    </tr>\n",
       "    <tr>\n",
       "      <th>1</th>\n",
       "      <td>900002</td>\n",
       "      <td>325</td>\n",
       "      <td>2041.660817</td>\n",
       "    </tr>\n",
       "    <tr>\n",
       "      <th>2</th>\n",
       "      <td>900003</td>\n",
       "      <td>325</td>\n",
       "      <td>4189.801419</td>\n",
       "    </tr>\n",
       "    <tr>\n",
       "      <th>3</th>\n",
       "      <td>900004</td>\n",
       "      <td>325</td>\n",
       "      <td>3101.677468</td>\n",
       "    </tr>\n",
       "    <tr>\n",
       "      <th>4</th>\n",
       "      <td>900005</td>\n",
       "      <td>325</td>\n",
       "      <td>3334.574988</td>\n",
       "    </tr>\n",
       "  </tbody>\n",
       "</table>\n",
       "</div>"
      ],
      "text/plain": [
       "   article_id  time_on_sale     distance\n",
       "0      900001           325  2216.387136\n",
       "1      900002           325  2041.660817\n",
       "2      900003           325  4189.801419\n",
       "3      900004           325  3101.677468\n",
       "4      900005           325  3334.574988"
      ]
     },
     "execution_count": 11,
     "metadata": {},
     "output_type": "execute_result"
    }
   ],
   "source": [
    "result = result.groupby('article_id').sum()\n",
    "result = result.reset_index()\n",
    "result = result.drop(['revenue', 'mean_revenue'], axis=1)\n",
    "result.head()"
   ]
  },
  {
   "cell_type": "code",
   "execution_count": 12,
   "metadata": {},
   "outputs": [
    {
     "data": {
      "text/html": [
       "<div>\n",
       "<style scoped>\n",
       "    .dataframe tbody tr th:only-of-type {\n",
       "        vertical-align: middle;\n",
       "    }\n",
       "\n",
       "    .dataframe tbody tr th {\n",
       "        vertical-align: top;\n",
       "    }\n",
       "\n",
       "    .dataframe thead th {\n",
       "        text-align: right;\n",
       "    }\n",
       "</style>\n",
       "<table border=\"1\" class=\"dataframe\">\n",
       "  <thead>\n",
       "    <tr style=\"text-align: right;\">\n",
       "      <th></th>\n",
       "      <th>article_id</th>\n",
       "      <th>time_on_sale</th>\n",
       "      <th>distance</th>\n",
       "    </tr>\n",
       "  </thead>\n",
       "  <tbody>\n",
       "    <tr>\n",
       "      <th>776</th>\n",
       "      <td>900777</td>\n",
       "      <td>15</td>\n",
       "      <td>477.493567</td>\n",
       "    </tr>\n",
       "    <tr>\n",
       "      <th>4345</th>\n",
       "      <td>904346</td>\n",
       "      <td>64</td>\n",
       "      <td>760.289460</td>\n",
       "    </tr>\n",
       "    <tr>\n",
       "      <th>8405</th>\n",
       "      <td>908406</td>\n",
       "      <td>10</td>\n",
       "      <td>864.132233</td>\n",
       "    </tr>\n",
       "    <tr>\n",
       "      <th>274</th>\n",
       "      <td>900275</td>\n",
       "      <td>30</td>\n",
       "      <td>919.121152</td>\n",
       "    </tr>\n",
       "    <tr>\n",
       "      <th>5278</th>\n",
       "      <td>905279</td>\n",
       "      <td>69</td>\n",
       "      <td>950.105274</td>\n",
       "    </tr>\n",
       "  </tbody>\n",
       "</table>\n",
       "</div>"
      ],
      "text/plain": [
       "      article_id  time_on_sale    distance\n",
       "776       900777            15  477.493567\n",
       "4345      904346            64  760.289460\n",
       "8405      908406            10  864.132233\n",
       "274       900275            30  919.121152\n",
       "5278      905279            69  950.105274"
      ]
     },
     "execution_count": 12,
     "metadata": {},
     "output_type": "execute_result"
    }
   ],
   "source": [
    "result = result.sort_values('distance', ascending=True)\n",
    "result.head()"
   ]
  },
  {
   "cell_type": "markdown",
   "metadata": {},
   "source": [
    "### First evaluation of the similarity measurement\n",
    "\n",
    "Plot the two article with the lowest distance "
   ]
  },
  {
   "cell_type": "code",
   "execution_count": 13,
   "metadata": {},
   "outputs": [],
   "source": [
    "lowest_distance = result.iloc[0]\n",
    "second_lowest_distance = result.iloc[1]\n",
    "df_revenue_lowest = df_revenue[df_revenue['article_id']\n",
    "                               == lowest_distance.article_id]\n",
    "df_revenue_second_lowest = df_revenue[df_revenue['article_id']\n",
    "                                      == second_lowest_distance.article_id]"
   ]
  },
  {
   "cell_type": "code",
   "execution_count": 14,
   "metadata": {},
   "outputs": [
    {
     "data": {
      "image/png": "[encoded data removed]",
      "text/plain": [
       "<Figure size 432x288 with 1 Axes>"
      ]
     },
     "metadata": {},
     "output_type": "display_data"
    }
   ],
   "source": [
    "plt.plot(df_revenue_benchmark.time_on_sale,\n",
    "         df_revenue_benchmark.mean_revenue, 'b')\n",
    "plt.plot(df_revenue_lowest.time_on_sale, df_revenue_lowest.revenue, 'r')\n",
    "plt.plot(df_revenue_second_lowest.time_on_sale,\n",
    "         df_revenue_second_lowest.revenue, 'g');"
   ]
  },
  {
   "cell_type": "markdown",
   "metadata": {},
   "source": [
    "Let us plot some articles with similiar distances. To find similiar values, I just had a look at the sorted result dataframe"
   ]
  },
  {
   "cell_type": "code",
   "execution_count": 15,
   "metadata": {},
   "outputs": [
    {
     "data": {
      "image/png": "[encoded data removed]",
      "text/plain": [
       "<Figure size 432x288 with 1 Axes>"
      ]
     },
     "metadata": {},
     "output_type": "display_data"
    }
   ],
   "source": [
    "article_one = raw_df[raw_df['article_id'] == 902792]\n",
    "article_two = raw_df[raw_df['article_id'] == 901825]\n",
    "\n",
    "plt.plot(article_one['time_on_sale'], article_one['revenue'], 'r')\n",
    "plt.plot(article_two['time_on_sale'], article_two['revenue'], 'b');"
   ]
  },
  {
   "cell_type": "code",
   "execution_count": 16,
   "metadata": {},
   "outputs": [
    {
     "data": {
      "image/png": "[encoded data removed]",
      "text/plain": [
       "<Figure size 432x288 with 1 Axes>"
      ]
     },
     "metadata": {},
     "output_type": "display_data"
    }
   ],
   "source": [
    "article_three = raw_df[raw_df['article_id'] == 900546]\n",
    "article_four = raw_df[raw_df['article_id'] == 906171]\n",
    "\n",
    "plt.plot(article_three['time_on_sale'], article_three['revenue'], 'r')\n",
    "plt.plot(article_four['time_on_sale'], article_four['revenue'], 'b');"
   ]
  },
  {
   "cell_type": "code",
   "execution_count": null,
   "metadata": {},
   "outputs": [],
   "source": []
  }
 ],
 "metadata": {
  "kernelspec": {
   "display_name": "tailor",
   "language": "python",
   "name": "tailor"
  },
  "language_info": {
   "codemirror_mode": {
    "name": "ipython",
    "version": 3
   },
   "file_extension": ".py",
   "mimetype": "text/x-python",
   "name": "python",
   "nbconvert_exporter": "python",
   "pygments_lexer": "ipython3",
   "version": "3.6.5"
  }
 },
 "nbformat": 4,
 "nbformat_minor": 2
}
