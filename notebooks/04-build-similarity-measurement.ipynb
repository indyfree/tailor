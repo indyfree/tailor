{
 "cells": [
  {
   "cell_type": "code",
   "execution_count": 1,
   "metadata": {},
   "outputs": [],
   "source": [
    "import matplotlib.pyplot as plt\n",
    "import numpy as np\n",
    "import pandas as pd\n",
    "\n",
    "import tailor"
   ]
  },
  {
   "cell_type": "markdown",
   "metadata": {},
   "source": [
    "### Create initial DataFrame"
   ]
  },
  {
   "cell_type": "code",
   "execution_count": 2,
   "metadata": {
    "scrolled": true
   },
   "outputs": [],
   "source": [
    "raw_df = tailor.load_data()\n",
    "raw_df.article_id = raw_df.article_id.astype(int)\n",
    "df_revenue = raw_df[['article_id', 'time_on_sale', 'revenue']]"
   ]
  },
  {
   "cell_type": "markdown",
   "metadata": {},
   "source": [
    "To give an example, the dataframe looks like this ..."
   ]
  },
  {
   "cell_type": "code",
   "execution_count": 3,
   "metadata": {},
   "outputs": [
    {
     "data": {
      "text/html": [
       "<div>\n",
       "<style scoped>\n",
       "    .dataframe tbody tr th:only-of-type {\n",
       "        vertical-align: middle;\n",
       "    }\n",
       "\n",
       "    .dataframe tbody tr th {\n",
       "        vertical-align: top;\n",
       "    }\n",
       "\n",
       "    .dataframe thead th {\n",
       "        text-align: right;\n",
       "    }\n",
       "</style>\n",
       "<table border=\"1\" class=\"dataframe\">\n",
       "  <thead>\n",
       "    <tr style=\"text-align: right;\">\n",
       "      <th></th>\n",
       "      <th>article_id</th>\n",
       "      <th>time_on_sale</th>\n",
       "      <th>revenue</th>\n",
       "    </tr>\n",
       "  </thead>\n",
       "  <tbody>\n",
       "    <tr>\n",
       "      <th>0</th>\n",
       "      <td>900001</td>\n",
       "      <td>0</td>\n",
       "      <td>1304.90</td>\n",
       "    </tr>\n",
       "    <tr>\n",
       "      <th>1</th>\n",
       "      <td>900001</td>\n",
       "      <td>1</td>\n",
       "      <td>2332.61</td>\n",
       "    </tr>\n",
       "    <tr>\n",
       "      <th>2</th>\n",
       "      <td>900001</td>\n",
       "      <td>2</td>\n",
       "      <td>1891.40</td>\n",
       "    </tr>\n",
       "    <tr>\n",
       "      <th>3</th>\n",
       "      <td>900001</td>\n",
       "      <td>3</td>\n",
       "      <td>1596.69</td>\n",
       "    </tr>\n",
       "    <tr>\n",
       "      <th>4</th>\n",
       "      <td>900001</td>\n",
       "      <td>4</td>\n",
       "      <td>2026.30</td>\n",
       "    </tr>\n",
       "  </tbody>\n",
       "</table>\n",
       "</div>"
      ],
      "text/plain": [
       "   article_id  time_on_sale  revenue\n",
       "0      900001             0  1304.90\n",
       "1      900001             1  2332.61\n",
       "2      900001             2  1891.40\n",
       "3      900001             3  1596.69\n",
       "4      900001             4  2026.30"
      ]
     },
     "execution_count": 3,
     "metadata": {},
     "output_type": "execute_result"
    }
   ],
   "source": [
    "df_revenue.head()"
   ]
  },
  {
   "cell_type": "markdown",
   "metadata": {},
   "source": [
    "### Create a Benchmark Series\n",
    "\n",
    "Now reshape the dataframes into a format which makes it easier to calculate the mean of each time_on_sale value.  The following steps must be done for each  performance measure.  For now, we will just do it for the dataframe with the column 'revenue' (df_revenue)\n",
    "\n"
   ]
  },
  {
   "cell_type": "code",
   "execution_count": 4,
   "metadata": {},
   "outputs": [
    {
     "data": {
      "text/html": [
       "<div>\n",
       "<style scoped>\n",
       "    .dataframe tbody tr th:only-of-type {\n",
       "        vertical-align: middle;\n",
       "    }\n",
       "\n",
       "    .dataframe tbody tr th {\n",
       "        vertical-align: top;\n",
       "    }\n",
       "\n",
       "    .dataframe thead th {\n",
       "        text-align: right;\n",
       "    }\n",
       "</style>\n",
       "<table border=\"1\" class=\"dataframe\">\n",
       "  <thead>\n",
       "    <tr style=\"text-align: right;\">\n",
       "      <th></th>\n",
       "      <th>article_id</th>\n",
       "      <th>0</th>\n",
       "      <th>1</th>\n",
       "      <th>2</th>\n",
       "      <th>3</th>\n",
       "      <th>4</th>\n",
       "      <th>5</th>\n",
       "      <th>6</th>\n",
       "      <th>7</th>\n",
       "      <th>8</th>\n",
       "      <th>...</th>\n",
       "      <th>16</th>\n",
       "      <th>17</th>\n",
       "      <th>18</th>\n",
       "      <th>19</th>\n",
       "      <th>20</th>\n",
       "      <th>21</th>\n",
       "      <th>22</th>\n",
       "      <th>23</th>\n",
       "      <th>24</th>\n",
       "      <th>25</th>\n",
       "    </tr>\n",
       "  </thead>\n",
       "  <tbody>\n",
       "    <tr>\n",
       "      <th>0</th>\n",
       "      <td>900001</td>\n",
       "      <td>1304.90</td>\n",
       "      <td>2332.61</td>\n",
       "      <td>1891.40</td>\n",
       "      <td>1596.69</td>\n",
       "      <td>2026.30</td>\n",
       "      <td>1594.66</td>\n",
       "      <td>3159.35</td>\n",
       "      <td>1946.54</td>\n",
       "      <td>2096.92</td>\n",
       "      <td>...</td>\n",
       "      <td>2307.90</td>\n",
       "      <td>2374.16</td>\n",
       "      <td>2688.67</td>\n",
       "      <td>2407.42</td>\n",
       "      <td>1965.51</td>\n",
       "      <td>1550.48</td>\n",
       "      <td>1474.78</td>\n",
       "      <td>1130.60</td>\n",
       "      <td>979.50</td>\n",
       "      <td>528.10</td>\n",
       "    </tr>\n",
       "    <tr>\n",
       "      <th>1</th>\n",
       "      <td>900002</td>\n",
       "      <td>919.81</td>\n",
       "      <td>2196.22</td>\n",
       "      <td>2399.59</td>\n",
       "      <td>3429.65</td>\n",
       "      <td>3967.15</td>\n",
       "      <td>2828.35</td>\n",
       "      <td>3578.87</td>\n",
       "      <td>3163.93</td>\n",
       "      <td>3082.90</td>\n",
       "      <td>...</td>\n",
       "      <td>1810.07</td>\n",
       "      <td>1233.06</td>\n",
       "      <td>1477.83</td>\n",
       "      <td>1374.52</td>\n",
       "      <td>1369.21</td>\n",
       "      <td>1294.49</td>\n",
       "      <td>1114.56</td>\n",
       "      <td>996.45</td>\n",
       "      <td>555.50</td>\n",
       "      <td>1760.73</td>\n",
       "    </tr>\n",
       "    <tr>\n",
       "      <th>2</th>\n",
       "      <td>900003</td>\n",
       "      <td>986.41</td>\n",
       "      <td>1536.07</td>\n",
       "      <td>1655.66</td>\n",
       "      <td>1667.59</td>\n",
       "      <td>2353.29</td>\n",
       "      <td>1982.85</td>\n",
       "      <td>1553.00</td>\n",
       "      <td>2887.61</td>\n",
       "      <td>2391.06</td>\n",
       "      <td>...</td>\n",
       "      <td>4246.41</td>\n",
       "      <td>3039.98</td>\n",
       "      <td>2544.63</td>\n",
       "      <td>2534.42</td>\n",
       "      <td>2045.05</td>\n",
       "      <td>1724.20</td>\n",
       "      <td>1544.24</td>\n",
       "      <td>959.94</td>\n",
       "      <td>440.76</td>\n",
       "      <td>382.46</td>\n",
       "    </tr>\n",
       "    <tr>\n",
       "      <th>3</th>\n",
       "      <td>900004</td>\n",
       "      <td>349.56</td>\n",
       "      <td>1198.40</td>\n",
       "      <td>843.05</td>\n",
       "      <td>1469.16</td>\n",
       "      <td>1637.85</td>\n",
       "      <td>970.61</td>\n",
       "      <td>1547.80</td>\n",
       "      <td>1628.52</td>\n",
       "      <td>1527.21</td>\n",
       "      <td>...</td>\n",
       "      <td>1245.73</td>\n",
       "      <td>1180.15</td>\n",
       "      <td>1429.02</td>\n",
       "      <td>1370.24</td>\n",
       "      <td>1162.19</td>\n",
       "      <td>376.72</td>\n",
       "      <td>448.83</td>\n",
       "      <td>99.25</td>\n",
       "      <td>206.49</td>\n",
       "      <td>132.15</td>\n",
       "    </tr>\n",
       "    <tr>\n",
       "      <th>4</th>\n",
       "      <td>900005</td>\n",
       "      <td>633.27</td>\n",
       "      <td>624.44</td>\n",
       "      <td>966.20</td>\n",
       "      <td>1460.34</td>\n",
       "      <td>931.49</td>\n",
       "      <td>747.31</td>\n",
       "      <td>1501.67</td>\n",
       "      <td>674.78</td>\n",
       "      <td>803.48</td>\n",
       "      <td>...</td>\n",
       "      <td>926.23</td>\n",
       "      <td>1134.26</td>\n",
       "      <td>1951.15</td>\n",
       "      <td>1229.48</td>\n",
       "      <td>967.71</td>\n",
       "      <td>580.24</td>\n",
       "      <td>276.79</td>\n",
       "      <td>210.34</td>\n",
       "      <td>287.28</td>\n",
       "      <td>256.85</td>\n",
       "    </tr>\n",
       "  </tbody>\n",
       "</table>\n",
       "<p>5 rows × 27 columns</p>\n",
       "</div>"
      ],
      "text/plain": [
       "   article_id        0        1        2        3        4        5        6  \\\n",
       "0      900001  1304.90  2332.61  1891.40  1596.69  2026.30  1594.66  3159.35   \n",
       "1      900002   919.81  2196.22  2399.59  3429.65  3967.15  2828.35  3578.87   \n",
       "2      900003   986.41  1536.07  1655.66  1667.59  2353.29  1982.85  1553.00   \n",
       "3      900004   349.56  1198.40   843.05  1469.16  1637.85   970.61  1547.80   \n",
       "4      900005   633.27   624.44   966.20  1460.34   931.49   747.31  1501.67   \n",
       "\n",
       "         7        8   ...          16       17       18       19       20  \\\n",
       "0  1946.54  2096.92   ...     2307.90  2374.16  2688.67  2407.42  1965.51   \n",
       "1  3163.93  3082.90   ...     1810.07  1233.06  1477.83  1374.52  1369.21   \n",
       "2  2887.61  2391.06   ...     4246.41  3039.98  2544.63  2534.42  2045.05   \n",
       "3  1628.52  1527.21   ...     1245.73  1180.15  1429.02  1370.24  1162.19   \n",
       "4   674.78   803.48   ...      926.23  1134.26  1951.15  1229.48   967.71   \n",
       "\n",
       "        21       22       23      24       25  \n",
       "0  1550.48  1474.78  1130.60  979.50   528.10  \n",
       "1  1294.49  1114.56   996.45  555.50  1760.73  \n",
       "2  1724.20  1544.24   959.94  440.76   382.46  \n",
       "3   376.72   448.83    99.25  206.49   132.15  \n",
       "4   580.24   276.79   210.34  287.28   256.85  \n",
       "\n",
       "[5 rows x 27 columns]"
      ]
     },
     "execution_count": 4,
     "metadata": {},
     "output_type": "execute_result"
    }
   ],
   "source": [
    "df_pivoted = df_revenue.pivot_table(\n",
    "    values='revenue', index='article_id', columns='time_on_sale')\n",
    "# cast pivot table into DataFrame\n",
    "df_reshaped = pd.DataFrame(df_pivoted.to_records())\n",
    "df_reshaped.head()"
   ]
  },
  {
   "cell_type": "markdown",
   "metadata": {},
   "source": [
    "Next, calculate the mean of each column. Therefore, you have the mean for each time_on_sale value. This series can be used as a benchmark series. "
   ]
  },
  {
   "cell_type": "code",
   "execution_count": 5,
   "metadata": {},
   "outputs": [
    {
     "data": {
      "text/plain": [
       "article_id    904354.500000\n",
       "0                843.484325\n",
       "1               1416.730330\n",
       "2               1651.588335\n",
       "3               1820.432671\n",
       "dtype: float64"
      ]
     },
     "execution_count": 5,
     "metadata": {},
     "output_type": "execute_result"
    }
   ],
   "source": [
    "revenue_benchmark = df_reshaped.mean(axis=0)\n",
    "revenue_benchmark.head()"
   ]
  },
  {
   "cell_type": "markdown",
   "metadata": {},
   "source": [
    "Drop mean of article ids. It makes no sense and we dont need it "
   ]
  },
  {
   "cell_type": "code",
   "execution_count": 6,
   "metadata": {},
   "outputs": [
    {
     "data": {
      "text/plain": [
       "0     843.484325\n",
       "1    1416.730330\n",
       "2    1651.588335\n",
       "3    1820.432671\n",
       "4    1954.158853\n",
       "dtype: float64"
      ]
     },
     "execution_count": 6,
     "metadata": {},
     "output_type": "execute_result"
    }
   ],
   "source": [
    "revenue_benchmark = revenue_benchmark.drop(revenue_benchmark.index[0])\n",
    "revenue_benchmark.head()"
   ]
  },
  {
   "cell_type": "markdown",
   "metadata": {},
   "source": [
    "Cast series into a DataFrame"
   ]
  },
  {
   "cell_type": "code",
   "execution_count": 7,
   "metadata": {},
   "outputs": [
    {
     "data": {
      "text/html": [
       "<div>\n",
       "<style scoped>\n",
       "    .dataframe tbody tr th:only-of-type {\n",
       "        vertical-align: middle;\n",
       "    }\n",
       "\n",
       "    .dataframe tbody tr th {\n",
       "        vertical-align: top;\n",
       "    }\n",
       "\n",
       "    .dataframe thead th {\n",
       "        text-align: right;\n",
       "    }\n",
       "</style>\n",
       "<table border=\"1\" class=\"dataframe\">\n",
       "  <thead>\n",
       "    <tr style=\"text-align: right;\">\n",
       "      <th></th>\n",
       "      <th>time_on_sale</th>\n",
       "      <th>mean_revenue</th>\n",
       "    </tr>\n",
       "  </thead>\n",
       "  <tbody>\n",
       "    <tr>\n",
       "      <th>0</th>\n",
       "      <td>0</td>\n",
       "      <td>843.484325</td>\n",
       "    </tr>\n",
       "    <tr>\n",
       "      <th>1</th>\n",
       "      <td>1</td>\n",
       "      <td>1416.730330</td>\n",
       "    </tr>\n",
       "    <tr>\n",
       "      <th>2</th>\n",
       "      <td>2</td>\n",
       "      <td>1651.588335</td>\n",
       "    </tr>\n",
       "    <tr>\n",
       "      <th>3</th>\n",
       "      <td>3</td>\n",
       "      <td>1820.432671</td>\n",
       "    </tr>\n",
       "    <tr>\n",
       "      <th>4</th>\n",
       "      <td>4</td>\n",
       "      <td>1954.158853</td>\n",
       "    </tr>\n",
       "  </tbody>\n",
       "</table>\n",
       "</div>"
      ],
      "text/plain": [
       "   time_on_sale  mean_revenue\n",
       "0             0    843.484325\n",
       "1             1   1416.730330\n",
       "2             2   1651.588335\n",
       "3             3   1820.432671\n",
       "4             4   1954.158853"
      ]
     },
     "execution_count": 7,
     "metadata": {},
     "output_type": "execute_result"
    }
   ],
   "source": [
    "df_revenue_benchmark = pd.DataFrame()\n",
    "df_revenue_benchmark['time_on_sale'] = revenue_benchmark.keys().astype(int)\n",
    "df_revenue_benchmark['mean_revenue'] = revenue_benchmark.values\n",
    "df_revenue_benchmark.head()"
   ]
  },
  {
   "cell_type": "code",
   "execution_count": 8,
   "metadata": {},
   "outputs": [
    {
     "data": {
      "image/png": "[encoded data removed]",
      "text/plain": [
       "<Figure size 432x288 with 1 Axes>"
      ]
     },
     "metadata": {},
     "output_type": "display_data"
    }
   ],
   "source": [
    "plt.plot(df_revenue_benchmark.time_on_sale, df_revenue_benchmark.mean_revenue);"
   ]
  },
  {
   "cell_type": "markdown",
   "metadata": {},
   "source": [
    "### Calculate distance to Benchmark Series\n",
    "\n",
    "Merging both DataFrames yields in ..."
   ]
  },
  {
   "cell_type": "code",
   "execution_count": 9,
   "metadata": {
    "scrolled": true
   },
   "outputs": [
    {
     "data": {
      "text/html": [
       "<div>\n",
       "<style scoped>\n",
       "    .dataframe tbody tr th:only-of-type {\n",
       "        vertical-align: middle;\n",
       "    }\n",
       "\n",
       "    .dataframe tbody tr th {\n",
       "        vertical-align: top;\n",
       "    }\n",
       "\n",
       "    .dataframe thead th {\n",
       "        text-align: right;\n",
       "    }\n",
       "</style>\n",
       "<table border=\"1\" class=\"dataframe\">\n",
       "  <thead>\n",
       "    <tr style=\"text-align: right;\">\n",
       "      <th></th>\n",
       "      <th>article_id</th>\n",
       "      <th>time_on_sale</th>\n",
       "      <th>revenue</th>\n",
       "      <th>mean_revenue</th>\n",
       "    </tr>\n",
       "  </thead>\n",
       "  <tbody>\n",
       "    <tr>\n",
       "      <th>0</th>\n",
       "      <td>900001</td>\n",
       "      <td>0</td>\n",
       "      <td>1304.90</td>\n",
       "      <td>843.484325</td>\n",
       "    </tr>\n",
       "    <tr>\n",
       "      <th>1</th>\n",
       "      <td>900002</td>\n",
       "      <td>0</td>\n",
       "      <td>919.81</td>\n",
       "      <td>843.484325</td>\n",
       "    </tr>\n",
       "    <tr>\n",
       "      <th>2</th>\n",
       "      <td>900003</td>\n",
       "      <td>0</td>\n",
       "      <td>986.41</td>\n",
       "      <td>843.484325</td>\n",
       "    </tr>\n",
       "    <tr>\n",
       "      <th>3</th>\n",
       "      <td>900004</td>\n",
       "      <td>0</td>\n",
       "      <td>349.56</td>\n",
       "      <td>843.484325</td>\n",
       "    </tr>\n",
       "    <tr>\n",
       "      <th>4</th>\n",
       "      <td>900005</td>\n",
       "      <td>0</td>\n",
       "      <td>633.27</td>\n",
       "      <td>843.484325</td>\n",
       "    </tr>\n",
       "  </tbody>\n",
       "</table>\n",
       "</div>"
      ],
      "text/plain": [
       "   article_id  time_on_sale  revenue  mean_revenue\n",
       "0      900001             0  1304.90    843.484325\n",
       "1      900002             0   919.81    843.484325\n",
       "2      900003             0   986.41    843.484325\n",
       "3      900004             0   349.56    843.484325\n",
       "4      900005             0   633.27    843.484325"
      ]
     },
     "execution_count": 9,
     "metadata": {},
     "output_type": "execute_result"
    }
   ],
   "source": [
    "result = pd.merge(df_revenue, df_revenue_benchmark, how='left', on='time_on_sale',\n",
    "                  left_index=False, right_index=True, sort=True, validate='m:1')\n",
    "result = result.reset_index()\n",
    "result = result.drop('index', axis=1)\n",
    "result = result.rename(index=str, columns={'mean_revenue_y': 'mean_revenue'})\n",
    "result.head()"
   ]
  },
  {
   "cell_type": "markdown",
   "metadata": {},
   "source": [
    "Calculate the distance between revenue and mean_revenue"
   ]
  },
  {
   "cell_type": "code",
   "execution_count": 10,
   "metadata": {
    "scrolled": true
   },
   "outputs": [
    {
     "data": {
      "text/html": [
       "<div>\n",
       "<style scoped>\n",
       "    .dataframe tbody tr th:only-of-type {\n",
       "        vertical-align: middle;\n",
       "    }\n",
       "\n",
       "    .dataframe tbody tr th {\n",
       "        vertical-align: top;\n",
       "    }\n",
       "\n",
       "    .dataframe thead th {\n",
       "        text-align: right;\n",
       "    }\n",
       "</style>\n",
       "<table border=\"1\" class=\"dataframe\">\n",
       "  <thead>\n",
       "    <tr style=\"text-align: right;\">\n",
       "      <th></th>\n",
       "      <th>article_id</th>\n",
       "      <th>time_on_sale</th>\n",
       "      <th>revenue</th>\n",
       "      <th>mean_revenue</th>\n",
       "      <th>distance</th>\n",
       "    </tr>\n",
       "  </thead>\n",
       "  <tbody>\n",
       "    <tr>\n",
       "      <th>0</th>\n",
       "      <td>900001</td>\n",
       "      <td>0</td>\n",
       "      <td>1304.90</td>\n",
       "      <td>843.484325</td>\n",
       "      <td>461.415675</td>\n",
       "    </tr>\n",
       "    <tr>\n",
       "      <th>1</th>\n",
       "      <td>900002</td>\n",
       "      <td>0</td>\n",
       "      <td>919.81</td>\n",
       "      <td>843.484325</td>\n",
       "      <td>76.325675</td>\n",
       "    </tr>\n",
       "    <tr>\n",
       "      <th>2</th>\n",
       "      <td>900003</td>\n",
       "      <td>0</td>\n",
       "      <td>986.41</td>\n",
       "      <td>843.484325</td>\n",
       "      <td>142.925675</td>\n",
       "    </tr>\n",
       "    <tr>\n",
       "      <th>3</th>\n",
       "      <td>900004</td>\n",
       "      <td>0</td>\n",
       "      <td>349.56</td>\n",
       "      <td>843.484325</td>\n",
       "      <td>493.924325</td>\n",
       "    </tr>\n",
       "    <tr>\n",
       "      <th>4</th>\n",
       "      <td>900005</td>\n",
       "      <td>0</td>\n",
       "      <td>633.27</td>\n",
       "      <td>843.484325</td>\n",
       "      <td>210.214325</td>\n",
       "    </tr>\n",
       "  </tbody>\n",
       "</table>\n",
       "</div>"
      ],
      "text/plain": [
       "   article_id  time_on_sale  revenue  mean_revenue    distance\n",
       "0      900001             0  1304.90    843.484325  461.415675\n",
       "1      900002             0   919.81    843.484325   76.325675\n",
       "2      900003             0   986.41    843.484325  142.925675\n",
       "3      900004             0   349.56    843.484325  493.924325\n",
       "4      900005             0   633.27    843.484325  210.214325"
      ]
     },
     "execution_count": 10,
     "metadata": {},
     "output_type": "execute_result"
    }
   ],
   "source": [
    "result['distance'] = ((result['revenue'] - result['mean_revenue'])**2)**0.5\n",
    "result.head()"
   ]
  },
  {
   "cell_type": "markdown",
   "metadata": {},
   "source": [
    "Sum up all distances to get just one value for similiarity measurement"
   ]
  },
  {
   "cell_type": "code",
   "execution_count": 11,
   "metadata": {},
   "outputs": [
    {
     "data": {
      "text/html": [
       "<div>\n",
       "<style scoped>\n",
       "    .dataframe tbody tr th:only-of-type {\n",
       "        vertical-align: middle;\n",
       "    }\n",
       "\n",
       "    .dataframe tbody tr th {\n",
       "        vertical-align: top;\n",
       "    }\n",
       "\n",
       "    .dataframe thead th {\n",
       "        text-align: right;\n",
       "    }\n",
       "</style>\n",
       "<table border=\"1\" class=\"dataframe\">\n",
       "  <thead>\n",
       "    <tr style=\"text-align: right;\">\n",
       "      <th></th>\n",
       "      <th>article_id</th>\n",
       "      <th>time_on_sale</th>\n",
       "      <th>distance</th>\n",
       "    </tr>\n",
       "  </thead>\n",
       "  <tbody>\n",
       "    <tr>\n",
       "      <th>0</th>\n",
       "      <td>900001</td>\n",
       "      <td>325</td>\n",
       "      <td>15656.700141</td>\n",
       "    </tr>\n",
       "    <tr>\n",
       "      <th>1</th>\n",
       "      <td>900002</td>\n",
       "      <td>325</td>\n",
       "      <td>16158.096740</td>\n",
       "    </tr>\n",
       "    <tr>\n",
       "      <th>2</th>\n",
       "      <td>900003</td>\n",
       "      <td>325</td>\n",
       "      <td>29235.138465</td>\n",
       "    </tr>\n",
       "    <tr>\n",
       "      <th>3</th>\n",
       "      <td>900004</td>\n",
       "      <td>325</td>\n",
       "      <td>16217.584298</td>\n",
       "    </tr>\n",
       "    <tr>\n",
       "      <th>4</th>\n",
       "      <td>900005</td>\n",
       "      <td>325</td>\n",
       "      <td>17682.746935</td>\n",
       "    </tr>\n",
       "  </tbody>\n",
       "</table>\n",
       "</div>"
      ],
      "text/plain": [
       "   article_id  time_on_sale      distance\n",
       "0      900001           325  15656.700141\n",
       "1      900002           325  16158.096740\n",
       "2      900003           325  29235.138465\n",
       "3      900004           325  16217.584298\n",
       "4      900005           325  17682.746935"
      ]
     },
     "execution_count": 11,
     "metadata": {},
     "output_type": "execute_result"
    }
   ],
   "source": [
    "result = result.groupby('article_id').sum()\n",
    "result = result.reset_index()\n",
    "result = result.drop(['revenue', 'mean_revenue'], axis=1)\n",
    "result.head()"
   ]
  },
  {
   "cell_type": "code",
   "execution_count": 12,
   "metadata": {},
   "outputs": [
    {
     "data": {
      "text/html": [
       "<div>\n",
       "<style scoped>\n",
       "    .dataframe tbody tr th:only-of-type {\n",
       "        vertical-align: middle;\n",
       "    }\n",
       "\n",
       "    .dataframe tbody tr th {\n",
       "        vertical-align: top;\n",
       "    }\n",
       "\n",
       "    .dataframe thead th {\n",
       "        text-align: right;\n",
       "    }\n",
       "</style>\n",
       "<table border=\"1\" class=\"dataframe\">\n",
       "  <thead>\n",
       "    <tr style=\"text-align: right;\">\n",
       "      <th></th>\n",
       "      <th>article_id</th>\n",
       "      <th>time_on_sale</th>\n",
       "      <th>distance</th>\n",
       "    </tr>\n",
       "  </thead>\n",
       "  <tbody>\n",
       "    <tr>\n",
       "      <th>534</th>\n",
       "      <td>900535</td>\n",
       "      <td>325</td>\n",
       "      <td>5669.539319</td>\n",
       "    </tr>\n",
       "    <tr>\n",
       "      <th>30</th>\n",
       "      <td>900031</td>\n",
       "      <td>325</td>\n",
       "      <td>6691.160194</td>\n",
       "    </tr>\n",
       "    <tr>\n",
       "      <th>5272</th>\n",
       "      <td>905273</td>\n",
       "      <td>325</td>\n",
       "      <td>6849.600752</td>\n",
       "    </tr>\n",
       "    <tr>\n",
       "      <th>3101</th>\n",
       "      <td>903102</td>\n",
       "      <td>325</td>\n",
       "      <td>7379.004553</td>\n",
       "    </tr>\n",
       "    <tr>\n",
       "      <th>3252</th>\n",
       "      <td>903253</td>\n",
       "      <td>325</td>\n",
       "      <td>7413.771494</td>\n",
       "    </tr>\n",
       "  </tbody>\n",
       "</table>\n",
       "</div>"
      ],
      "text/plain": [
       "      article_id  time_on_sale     distance\n",
       "534       900535           325  5669.539319\n",
       "30        900031           325  6691.160194\n",
       "5272      905273           325  6849.600752\n",
       "3101      903102           325  7379.004553\n",
       "3252      903253           325  7413.771494"
      ]
     },
     "execution_count": 12,
     "metadata": {},
     "output_type": "execute_result"
    }
   ],
   "source": [
    "result = result.sort_values('distance', ascending=True)\n",
    "result.head()"
   ]
  },
  {
   "cell_type": "markdown",
   "metadata": {},
   "source": [
    "### First evaluation of the similarity measurement\n",
    "\n",
    "Plot the two article with the lowest distance "
   ]
  },
  {
   "cell_type": "code",
   "execution_count": 13,
   "metadata": {},
   "outputs": [],
   "source": [
    "lowest_distance = result.iloc[0]\n",
    "second_lowest_distance = result.iloc[1]\n",
    "df_revenue_lowest = df_revenue[df_revenue['article_id']\n",
    "                               == lowest_distance.article_id]\n",
    "df_revenue_second_lowest = df_revenue[df_revenue['article_id']\n",
    "                                      == second_lowest_distance.article_id]"
   ]
  },
  {
   "cell_type": "code",
   "execution_count": 14,
   "metadata": {},
   "outputs": [
    {
     "data": {
      "image/png": "[encoded data removed]",
      "text/plain": [
       "<Figure size 432x288 with 1 Axes>"
      ]
     },
     "metadata": {},
     "output_type": "display_data"
    }
   ],
   "source": [
    "plt.plot(df_revenue_benchmark.time_on_sale,\n",
    "         df_revenue_benchmark.mean_revenue, 'b')\n",
    "plt.plot(df_revenue_lowest.time_on_sale, df_revenue_lowest.revenue, 'r')\n",
    "plt.plot(df_revenue_second_lowest.time_on_sale,\n",
    "         df_revenue_second_lowest.revenue, 'g');"
   ]
  },
  {
   "cell_type": "markdown",
   "metadata": {},
   "source": [
    "Let us plot some articles with similiar distances. To find similiar values, I just had a look at the sorted result dataframe"
   ]
  },
  {
   "cell_type": "code",
   "execution_count": 15,
   "metadata": {},
   "outputs": [
    {
     "data": {
      "image/png": "[encoded data removed]",
      "text/plain": [
       "<Figure size 432x288 with 1 Axes>"
      ]
     },
     "metadata": {},
     "output_type": "display_data"
    }
   ],
   "source": [
    "article_one = raw_df[raw_df['article_id'] == 902792]\n",
    "article_two = raw_df[raw_df['article_id'] == 901825]\n",
    "\n",
    "plt.plot(article_one['time_on_sale'], article_one['revenue'], 'r')\n",
    "plt.plot(article_two['time_on_sale'], article_two['revenue'], 'b');"
   ]
  },
  {
   "cell_type": "code",
   "execution_count": 16,
   "metadata": {},
   "outputs": [
    {
     "data": {
      "image/png": "[encoded data removed]",
      "text/plain": [
       "<Figure size 432x288 with 1 Axes>"
      ]
     },
     "metadata": {},
     "output_type": "display_data"
    }
   ],
   "source": [
    "article_three = raw_df[raw_df['article_id'] == 900546]\n",
    "article_four = raw_df[raw_df['article_id'] == 906171]\n",
    "\n",
    "plt.plot(article_three['time_on_sale'], article_three['revenue'], 'r')\n",
    "plt.plot(article_four['time_on_sale'], article_four['revenue'], 'b');"
   ]
  },
  {
   "cell_type": "code",
   "execution_count": null,
   "metadata": {},
   "outputs": [],
   "source": []
  }
 ],
 "metadata": {
  "kernelspec": {
   "display_name": "tailor",
   "language": "python",
   "name": "tailor"
  },
  "language_info": {
   "codemirror_mode": {
    "name": "ipython",
    "version": 3
   },
   "file_extension": ".py",
   "mimetype": "text/x-python",
   "name": "python",
   "nbconvert_exporter": "python",
   "pygments_lexer": "ipython3",
   "version": "3.6.6"
  }
 },
 "nbformat": 4,
 "nbformat_minor": 2
}
