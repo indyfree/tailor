{
 "cells": [
  {
   "cell_type": "markdown",
   "metadata": {},
   "source": [
    "# Feature Generation and Timing"
   ]
  },
  {
   "cell_type": "markdown",
   "metadata": {},
   "source": [
    "## Initialization"
   ]
  },
  {
   "cell_type": "code",
   "execution_count": 1,
   "metadata": {},
   "outputs": [],
   "source": [
    "import numpy as np\n",
    "import pandas as pd\n",
    "from tailor import data"
   ]
  },
  {
   "cell_type": "code",
   "execution_count": 2,
   "metadata": {},
   "outputs": [],
   "source": [
    "df = data.load_csv()"
   ]
  },
  {
   "cell_type": "code",
   "execution_count": 3,
   "metadata": {},
   "outputs": [],
   "source": [
    "# because we need to have datetime category for transaction_date\n",
    "df = data.transform_datatypes(df)"
   ]
  },
  {
   "cell_type": "code",
   "execution_count": 4,
   "metadata": {},
   "outputs": [
    {
     "data": {
      "text/html": [
       "<div>\n",
       "<style scoped>\n",
       "    .dataframe tbody tr th:only-of-type {\n",
       "        vertical-align: middle;\n",
       "    }\n",
       "\n",
       "    .dataframe tbody tr th {\n",
       "        vertical-align: top;\n",
       "    }\n",
       "\n",
       "    .dataframe thead th {\n",
       "        text-align: right;\n",
       "    }\n",
       "</style>\n",
       "<table border=\"1\" class=\"dataframe\">\n",
       "  <thead>\n",
       "    <tr style=\"text-align: right;\">\n",
       "      <th></th>\n",
       "      <th>article_id</th>\n",
       "      <th>transaction_date</th>\n",
       "      <th>markdown_start_date</th>\n",
       "      <th>markdown_end_date</th>\n",
       "      <th>original_price</th>\n",
       "      <th>sells_price</th>\n",
       "      <th>discount</th>\n",
       "      <th>markdown</th>\n",
       "      <th>article_count</th>\n",
       "      <th>season</th>\n",
       "      <th>brand</th>\n",
       "      <th>color</th>\n",
       "      <th>stock_total</th>\n",
       "      <th>avq</th>\n",
       "      <th>Abteilung</th>\n",
       "      <th>WHG</th>\n",
       "      <th>WUG</th>\n",
       "      <th>time_on_sale</th>\n",
       "      <th>revenue</th>\n",
       "    </tr>\n",
       "  </thead>\n",
       "  <tbody>\n",
       "    <tr>\n",
       "      <th>0</th>\n",
       "      <td>900001</td>\n",
       "      <td>2014-03-27</td>\n",
       "      <td>2013-10-18</td>\n",
       "      <td>2014-05-31</td>\n",
       "      <td>59.95</td>\n",
       "      <td>53.95</td>\n",
       "      <td>6.0</td>\n",
       "      <td>0.0</td>\n",
       "      <td>2</td>\n",
       "      <td>Sommer</td>\n",
       "      <td>Fimmilena</td>\n",
       "      <td>mittelbraun</td>\n",
       "      <td>1499</td>\n",
       "      <td>0.133422</td>\n",
       "      <td>Abteilung005</td>\n",
       "      <td>WHG021</td>\n",
       "      <td>WUG073</td>\n",
       "      <td>0</td>\n",
       "      <td>107.90</td>\n",
       "    </tr>\n",
       "    <tr>\n",
       "      <th>1</th>\n",
       "      <td>900001</td>\n",
       "      <td>2014-03-28</td>\n",
       "      <td>2013-10-18</td>\n",
       "      <td>2014-05-31</td>\n",
       "      <td>59.95</td>\n",
       "      <td>59.95</td>\n",
       "      <td>0.0</td>\n",
       "      <td>0.0</td>\n",
       "      <td>2</td>\n",
       "      <td>Sommer</td>\n",
       "      <td>Fimmilena</td>\n",
       "      <td>mittelbraun</td>\n",
       "      <td>1499</td>\n",
       "      <td>0.266845</td>\n",
       "      <td>Abteilung005</td>\n",
       "      <td>WHG021</td>\n",
       "      <td>WUG073</td>\n",
       "      <td>1</td>\n",
       "      <td>119.90</td>\n",
       "    </tr>\n",
       "    <tr>\n",
       "      <th>2</th>\n",
       "      <td>900001</td>\n",
       "      <td>2014-03-29</td>\n",
       "      <td>2013-10-18</td>\n",
       "      <td>2014-05-31</td>\n",
       "      <td>59.95</td>\n",
       "      <td>59.95</td>\n",
       "      <td>0.0</td>\n",
       "      <td>0.0</td>\n",
       "      <td>3</td>\n",
       "      <td>Sommer</td>\n",
       "      <td>Fimmilena</td>\n",
       "      <td>mittelbraun</td>\n",
       "      <td>1499</td>\n",
       "      <td>0.466978</td>\n",
       "      <td>Abteilung005</td>\n",
       "      <td>WHG021</td>\n",
       "      <td>WUG073</td>\n",
       "      <td>2</td>\n",
       "      <td>179.85</td>\n",
       "    </tr>\n",
       "    <tr>\n",
       "      <th>3</th>\n",
       "      <td>900001</td>\n",
       "      <td>2014-03-31</td>\n",
       "      <td>2013-10-18</td>\n",
       "      <td>2014-05-31</td>\n",
       "      <td>59.95</td>\n",
       "      <td>59.55</td>\n",
       "      <td>0.4</td>\n",
       "      <td>0.0</td>\n",
       "      <td>5</td>\n",
       "      <td>Sommer</td>\n",
       "      <td>Fimmilena</td>\n",
       "      <td>mittelbraun</td>\n",
       "      <td>1499</td>\n",
       "      <td>0.800534</td>\n",
       "      <td>Abteilung005</td>\n",
       "      <td>WHG021</td>\n",
       "      <td>WUG073</td>\n",
       "      <td>4</td>\n",
       "      <td>297.75</td>\n",
       "    </tr>\n",
       "    <tr>\n",
       "      <th>4</th>\n",
       "      <td>900001</td>\n",
       "      <td>2014-04-01</td>\n",
       "      <td>2013-10-18</td>\n",
       "      <td>2014-05-31</td>\n",
       "      <td>59.95</td>\n",
       "      <td>59.95</td>\n",
       "      <td>0.0</td>\n",
       "      <td>0.0</td>\n",
       "      <td>6</td>\n",
       "      <td>Sommer</td>\n",
       "      <td>Fimmilena</td>\n",
       "      <td>mittelbraun</td>\n",
       "      <td>1499</td>\n",
       "      <td>1.200801</td>\n",
       "      <td>Abteilung005</td>\n",
       "      <td>WHG021</td>\n",
       "      <td>WUG073</td>\n",
       "      <td>5</td>\n",
       "      <td>359.70</td>\n",
       "    </tr>\n",
       "  </tbody>\n",
       "</table>\n",
       "</div>"
      ],
      "text/plain": [
       "  article_id transaction_date markdown_start_date markdown_end_date  \\\n",
       "0     900001       2014-03-27          2013-10-18        2014-05-31   \n",
       "1     900001       2014-03-28          2013-10-18        2014-05-31   \n",
       "2     900001       2014-03-29          2013-10-18        2014-05-31   \n",
       "3     900001       2014-03-31          2013-10-18        2014-05-31   \n",
       "4     900001       2014-04-01          2013-10-18        2014-05-31   \n",
       "\n",
       "   original_price  sells_price  discount  markdown  article_count  season  \\\n",
       "0           59.95        53.95       6.0       0.0              2  Sommer   \n",
       "1           59.95        59.95       0.0       0.0              2  Sommer   \n",
       "2           59.95        59.95       0.0       0.0              3  Sommer   \n",
       "3           59.95        59.55       0.4       0.0              5  Sommer   \n",
       "4           59.95        59.95       0.0       0.0              6  Sommer   \n",
       "\n",
       "       brand        color  stock_total       avq     Abteilung     WHG  \\\n",
       "0  Fimmilena  mittelbraun         1499  0.133422  Abteilung005  WHG021   \n",
       "1  Fimmilena  mittelbraun         1499  0.266845  Abteilung005  WHG021   \n",
       "2  Fimmilena  mittelbraun         1499  0.466978  Abteilung005  WHG021   \n",
       "3  Fimmilena  mittelbraun         1499  0.800534  Abteilung005  WHG021   \n",
       "4  Fimmilena  mittelbraun         1499  1.200801  Abteilung005  WHG021   \n",
       "\n",
       "      WUG  time_on_sale  revenue  \n",
       "0  WUG073             0   107.90  \n",
       "1  WUG073             1   119.90  \n",
       "2  WUG073             2   179.85  \n",
       "3  WUG073             4   297.75  \n",
       "4  WUG073             5   359.70  "
      ]
     },
     "execution_count": 4,
     "metadata": {},
     "output_type": "execute_result"
    }
   ],
   "source": [
    "df.head()"
   ]
  },
  {
   "cell_type": "markdown",
   "metadata": {},
   "source": [
    "## Date Information Expansion and Method Comparison"
   ]
  },
  {
   "cell_type": "markdown",
   "metadata": {},
   "source": [
    "### timing on big scale"
   ]
  },
  {
   "cell_type": "code",
   "execution_count": 5,
   "metadata": {},
   "outputs": [
    {
     "name": "stdout",
     "output_type": "stream",
     "text": [
      "CPU times: user 3.61 ms, sys: 2.88 ms, total: 6.49 ms\n",
      "Wall time: 59.8 ms\n"
     ]
    }
   ],
   "source": [
    "%%time\n",
    "\n",
    "df_group = df.groupby('article_id')"
   ]
  },
  {
   "cell_type": "code",
   "execution_count": 6,
   "metadata": {},
   "outputs": [
    {
     "name": "stdout",
     "output_type": "stream",
     "text": [
      "CPU times: user 11.2 s, sys: 240 ms, total: 11.4 s\n",
      "Wall time: 11.5 s\n"
     ]
    }
   ],
   "source": [
    "%%time\n",
    "\n",
    "# expand transaction_date information\n",
    "season = list()\n",
    "weekday = list()\n",
    "months = list()\n",
    "\n",
    "for i in df.transaction_date:\n",
    "    month = i.month\n",
    "    # meteorological seasons\n",
    "    if 2 < month < 6:\n",
    "        season.append('spring')\n",
    "    elif 5 < month < 9:\n",
    "        season.append(\"summer\")\n",
    "    elif 8 < month < 12:\n",
    "        season.append(\"fall\")\n",
    "    else:\n",
    "        season.append(\"winter\")\n",
    "\n",
    "    months.append(month)\n",
    "    day = i.weekday()\n",
    "    weekday.append(day)\n",
    "\n",
    "df['season_buy'] = pd.Series(season, index=df.index)\n",
    "df['month'] = pd.Series(months, index=df.index)\n",
    "df['weekday'] = pd.Series(weekday, index=df.index)"
   ]
  },
  {
   "cell_type": "code",
   "execution_count": 7,
   "metadata": {},
   "outputs": [
    {
     "name": "stdout",
     "output_type": "stream",
     "text": [
      "CPU times: user 15.8 s, sys: 281 ms, total: 16 s\n",
      "Wall time: 16 s\n"
     ]
    }
   ],
   "source": [
    "%%time\n",
    "\n",
    "# expand transaction_date information\n",
    "\n",
    "\n",
    "def get_season(month):\n",
    "    if 2 < month < 6:\n",
    "        return 'spring'\n",
    "    elif 5 < month < 9:\n",
    "        return \"summer\"\n",
    "    elif 8 < month < 12:\n",
    "        return \"fall\"\n",
    "    else:\n",
    "        return \"winter\"\n",
    "\n",
    "\n",
    "df['month'] = df['transaction_date'].apply(lambda x: x.month)\n",
    "df['season_buy'] = df['month'].apply(lambda x: get_season(x))\n",
    "df['weekday'] = df['transaction_date'].apply(lambda x: x.weekday())"
   ]
  },
  {
   "cell_type": "code",
   "execution_count": 8,
   "metadata": {},
   "outputs": [
    {
     "name": "stdout",
     "output_type": "stream",
     "text": [
      "CPU times: user 9.14 s, sys: 206 ms, total: 9.35 s\n",
      "Wall time: 9.62 s\n"
     ]
    }
   ],
   "source": [
    "%%time\n",
    "\n",
    "new_seasons = df_group.apply(lambda x : get_season(x.transaction_date.min().month))"
   ]
  },
  {
   "cell_type": "code",
   "execution_count": 21,
   "metadata": {},
   "outputs": [
    {
     "name": "stdout",
     "output_type": "stream",
     "text": [
      "CPU times: user 416 ms, sys: 8.35 ms, total: 424 ms\n",
      "Wall time: 422 ms\n"
     ]
    }
   ],
   "source": [
    "%%time\n",
    "\n",
    "df['season'] = df['article_id'].apply(lambda x : new_seasons[x])"
   ]
  },
  {
   "cell_type": "code",
   "execution_count": 17,
   "metadata": {},
   "outputs": [
    {
     "name": "stdout",
     "output_type": "stream",
     "text": [
      "CPU times: user 702 ms, sys: 265 ms, total: 967 ms\n",
      "Wall time: 1.04 s\n"
     ]
    }
   ],
   "source": [
    "%%time\n",
    "\n",
    "df = df.merge(pd.DataFrame(new_seasons), left_on='article_id', right_index=True)"
   ]
  },
  {
   "cell_type": "code",
   "execution_count": 13,
   "metadata": {
    "scrolled": true
   },
   "outputs": [
    {
     "data": {
      "text/html": [
       "<div>\n",
       "<style scoped>\n",
       "    .dataframe tbody tr th:only-of-type {\n",
       "        vertical-align: middle;\n",
       "    }\n",
       "\n",
       "    .dataframe tbody tr th {\n",
       "        vertical-align: top;\n",
       "    }\n",
       "\n",
       "    .dataframe thead th {\n",
       "        text-align: right;\n",
       "    }\n",
       "</style>\n",
       "<table border=\"1\" class=\"dataframe\">\n",
       "  <thead>\n",
       "    <tr style=\"text-align: right;\">\n",
       "      <th></th>\n",
       "      <th>article_id</th>\n",
       "      <th>transaction_date</th>\n",
       "      <th>markdown_start_date</th>\n",
       "      <th>markdown_end_date</th>\n",
       "      <th>original_price</th>\n",
       "      <th>sells_price</th>\n",
       "      <th>discount</th>\n",
       "      <th>markdown</th>\n",
       "      <th>article_count</th>\n",
       "      <th>season</th>\n",
       "      <th>...</th>\n",
       "      <th>avq</th>\n",
       "      <th>Abteilung</th>\n",
       "      <th>WHG</th>\n",
       "      <th>WUG</th>\n",
       "      <th>time_on_sale</th>\n",
       "      <th>revenue</th>\n",
       "      <th>season_buy</th>\n",
       "      <th>month</th>\n",
       "      <th>weekday</th>\n",
       "      <th>0</th>\n",
       "    </tr>\n",
       "  </thead>\n",
       "  <tbody>\n",
       "    <tr>\n",
       "      <th>0</th>\n",
       "      <td>900001</td>\n",
       "      <td>2014-03-27</td>\n",
       "      <td>2013-10-18</td>\n",
       "      <td>2014-05-31</td>\n",
       "      <td>59.95</td>\n",
       "      <td>53.95</td>\n",
       "      <td>6.0</td>\n",
       "      <td>0.0</td>\n",
       "      <td>2</td>\n",
       "      <td>spring</td>\n",
       "      <td>...</td>\n",
       "      <td>0.133422</td>\n",
       "      <td>Abteilung005</td>\n",
       "      <td>WHG021</td>\n",
       "      <td>WUG073</td>\n",
       "      <td>0</td>\n",
       "      <td>107.90</td>\n",
       "      <td>spring</td>\n",
       "      <td>3</td>\n",
       "      <td>3</td>\n",
       "      <td>spring</td>\n",
       "    </tr>\n",
       "    <tr>\n",
       "      <th>1</th>\n",
       "      <td>900001</td>\n",
       "      <td>2014-03-28</td>\n",
       "      <td>2013-10-18</td>\n",
       "      <td>2014-05-31</td>\n",
       "      <td>59.95</td>\n",
       "      <td>59.95</td>\n",
       "      <td>0.0</td>\n",
       "      <td>0.0</td>\n",
       "      <td>2</td>\n",
       "      <td>spring</td>\n",
       "      <td>...</td>\n",
       "      <td>0.266845</td>\n",
       "      <td>Abteilung005</td>\n",
       "      <td>WHG021</td>\n",
       "      <td>WUG073</td>\n",
       "      <td>1</td>\n",
       "      <td>119.90</td>\n",
       "      <td>spring</td>\n",
       "      <td>3</td>\n",
       "      <td>4</td>\n",
       "      <td>spring</td>\n",
       "    </tr>\n",
       "    <tr>\n",
       "      <th>2</th>\n",
       "      <td>900001</td>\n",
       "      <td>2014-03-29</td>\n",
       "      <td>2013-10-18</td>\n",
       "      <td>2014-05-31</td>\n",
       "      <td>59.95</td>\n",
       "      <td>59.95</td>\n",
       "      <td>0.0</td>\n",
       "      <td>0.0</td>\n",
       "      <td>3</td>\n",
       "      <td>spring</td>\n",
       "      <td>...</td>\n",
       "      <td>0.466978</td>\n",
       "      <td>Abteilung005</td>\n",
       "      <td>WHG021</td>\n",
       "      <td>WUG073</td>\n",
       "      <td>2</td>\n",
       "      <td>179.85</td>\n",
       "      <td>spring</td>\n",
       "      <td>3</td>\n",
       "      <td>5</td>\n",
       "      <td>spring</td>\n",
       "    </tr>\n",
       "    <tr>\n",
       "      <th>3</th>\n",
       "      <td>900001</td>\n",
       "      <td>2014-03-31</td>\n",
       "      <td>2013-10-18</td>\n",
       "      <td>2014-05-31</td>\n",
       "      <td>59.95</td>\n",
       "      <td>59.55</td>\n",
       "      <td>0.4</td>\n",
       "      <td>0.0</td>\n",
       "      <td>5</td>\n",
       "      <td>spring</td>\n",
       "      <td>...</td>\n",
       "      <td>0.800534</td>\n",
       "      <td>Abteilung005</td>\n",
       "      <td>WHG021</td>\n",
       "      <td>WUG073</td>\n",
       "      <td>4</td>\n",
       "      <td>297.75</td>\n",
       "      <td>spring</td>\n",
       "      <td>3</td>\n",
       "      <td>0</td>\n",
       "      <td>spring</td>\n",
       "    </tr>\n",
       "    <tr>\n",
       "      <th>4</th>\n",
       "      <td>900001</td>\n",
       "      <td>2014-04-01</td>\n",
       "      <td>2013-10-18</td>\n",
       "      <td>2014-05-31</td>\n",
       "      <td>59.95</td>\n",
       "      <td>59.95</td>\n",
       "      <td>0.0</td>\n",
       "      <td>0.0</td>\n",
       "      <td>6</td>\n",
       "      <td>spring</td>\n",
       "      <td>...</td>\n",
       "      <td>1.200801</td>\n",
       "      <td>Abteilung005</td>\n",
       "      <td>WHG021</td>\n",
       "      <td>WUG073</td>\n",
       "      <td>5</td>\n",
       "      <td>359.70</td>\n",
       "      <td>spring</td>\n",
       "      <td>4</td>\n",
       "      <td>1</td>\n",
       "      <td>spring</td>\n",
       "    </tr>\n",
       "  </tbody>\n",
       "</table>\n",
       "<p>5 rows × 23 columns</p>\n",
       "</div>"
      ],
      "text/plain": [
       "  article_id transaction_date markdown_start_date markdown_end_date  \\\n",
       "0     900001       2014-03-27          2013-10-18        2014-05-31   \n",
       "1     900001       2014-03-28          2013-10-18        2014-05-31   \n",
       "2     900001       2014-03-29          2013-10-18        2014-05-31   \n",
       "3     900001       2014-03-31          2013-10-18        2014-05-31   \n",
       "4     900001       2014-04-01          2013-10-18        2014-05-31   \n",
       "\n",
       "   original_price  sells_price  discount  markdown  article_count  season  \\\n",
       "0           59.95        53.95       6.0       0.0              2  spring   \n",
       "1           59.95        59.95       0.0       0.0              2  spring   \n",
       "2           59.95        59.95       0.0       0.0              3  spring   \n",
       "3           59.95        59.55       0.4       0.0              5  spring   \n",
       "4           59.95        59.95       0.0       0.0              6  spring   \n",
       "\n",
       "    ...         avq     Abteilung     WHG     WUG time_on_sale revenue  \\\n",
       "0   ...    0.133422  Abteilung005  WHG021  WUG073            0  107.90   \n",
       "1   ...    0.266845  Abteilung005  WHG021  WUG073            1  119.90   \n",
       "2   ...    0.466978  Abteilung005  WHG021  WUG073            2  179.85   \n",
       "3   ...    0.800534  Abteilung005  WHG021  WUG073            4  297.75   \n",
       "4   ...    1.200801  Abteilung005  WHG021  WUG073            5  359.70   \n",
       "\n",
       "  season_buy  month  weekday       0  \n",
       "0     spring      3        3  spring  \n",
       "1     spring      3        4  spring  \n",
       "2     spring      3        5  spring  \n",
       "3     spring      3        0  spring  \n",
       "4     spring      4        1  spring  \n",
       "\n",
       "[5 rows x 23 columns]"
      ]
     },
     "execution_count": 13,
     "metadata": {},
     "output_type": "execute_result"
    }
   ],
   "source": [
    "df.head()"
   ]
  },
  {
   "cell_type": "markdown",
   "metadata": {},
   "source": [
    "### timing on small scale"
   ]
  },
  {
   "cell_type": "code",
   "execution_count": 22,
   "metadata": {},
   "outputs": [],
   "source": [
    "df = df.head().copy()"
   ]
  },
  {
   "cell_type": "code",
   "execution_count": 23,
   "metadata": {},
   "outputs": [
    {
     "name": "stdout",
     "output_type": "stream",
     "text": [
      "CPU times: user 17.4 ms, sys: 31.7 ms, total: 49 ms\n",
      "Wall time: 48.2 ms\n"
     ]
    }
   ],
   "source": [
    "%%time\n",
    "\n",
    "# expand transaction_date information\n",
    "season = list()\n",
    "weekday = list()\n",
    "months = list()\n",
    "\n",
    "for i in df.transaction_date:\n",
    "    month = i.month\n",
    "    # meteorological seasons\n",
    "    if 2 < month < 6:\n",
    "        season.append('spring')\n",
    "    elif 5 < month < 9:\n",
    "        season.append(\"summer\")\n",
    "    elif 8 < month < 12:\n",
    "        season.append(\"fall\")\n",
    "    else:\n",
    "        season.append(\"winter\")\n",
    "\n",
    "    months.append(month)\n",
    "    day = i.weekday()\n",
    "    weekday.append(day)\n",
    "\n",
    "df['season_buy'] = pd.Series(season, index=df.index)\n",
    "df['month'] = pd.Series(months, index=df.index)\n",
    "df['weekday'] = pd.Series(weekday, index=df.index)"
   ]
  },
  {
   "cell_type": "code",
   "execution_count": 24,
   "metadata": {},
   "outputs": [
    {
     "name": "stdout",
     "output_type": "stream",
     "text": [
      "CPU times: user 9.17 ms, sys: 2.41 ms, total: 11.6 ms\n",
      "Wall time: 10.4 ms\n"
     ]
    }
   ],
   "source": [
    "%%time\n",
    "\n",
    "# expand transaction_date information\n",
    "\n",
    "\n",
    "def get_season(month):\n",
    "    if 2 < month < 6:\n",
    "        return 'spring'\n",
    "    elif 5 < month < 9:\n",
    "        return \"summer\"\n",
    "    elif 8 < month < 12:\n",
    "        return \"fall\"\n",
    "    else:\n",
    "        return \"winter\"\n",
    "\n",
    "\n",
    "df['month'] = df['transaction_date'].apply(lambda x: x.month)\n",
    "df['season_buy'] = df['month'].apply(lambda x: get_season(x))\n",
    "df['weekday'] = df['transaction_date'].apply(lambda x: x.weekday())"
   ]
  },
  {
   "cell_type": "code",
   "execution_count": null,
   "metadata": {},
   "outputs": [],
   "source": []
  }
 ],
 "metadata": {
  "kernelspec": {
   "display_name": "tailor",
   "language": "python",
   "name": "tailor"
  },
  "language_info": {
   "codemirror_mode": {
    "name": "ipython",
    "version": 3
   },
   "file_extension": ".py",
   "mimetype": "text/x-python",
   "name": "python",
   "nbconvert_exporter": "python",
   "pygments_lexer": "ipython3",
   "version": "3.6.5"
  }
 },
 "nbformat": 4,
 "nbformat_minor": 2
}
