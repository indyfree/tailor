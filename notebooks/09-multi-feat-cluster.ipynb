{
 "cells": [
  {
   "cell_type": "markdown",
   "metadata": {},
   "source": [
    "# Initialization"
   ]
  },
  {
   "cell_type": "code",
   "execution_count": 1,
   "metadata": {},
   "outputs": [],
   "source": [
    "# Display plots inline\n",
    "%matplotlib inline\n",
    "\n",
    "# Autoreload all package before excecuting a call\n",
    "%load_ext autoreload\n",
    "%autoreload 2"
   ]
  },
  {
   "cell_type": "code",
   "execution_count": 2,
   "metadata": {},
   "outputs": [],
   "source": [
    "import pandas as pd\n",
    "import numpy as np\n",
    "\n",
    "import tailor\n",
    "from tailor.clustering import *"
   ]
  },
  {
   "cell_type": "code",
   "execution_count": 3,
   "metadata": {},
   "outputs": [],
   "source": [
    "data = tailor.load_data()"
   ]
  },
  {
   "cell_type": "code",
   "execution_count": 4,
   "metadata": {},
   "outputs": [
    {
     "data": {
      "text/html": [
       "<div>\n",
       "<style scoped>\n",
       "    .dataframe tbody tr th:only-of-type {\n",
       "        vertical-align: middle;\n",
       "    }\n",
       "\n",
       "    .dataframe tbody tr th {\n",
       "        vertical-align: top;\n",
       "    }\n",
       "\n",
       "    .dataframe thead th {\n",
       "        text-align: right;\n",
       "    }\n",
       "</style>\n",
       "<table border=\"1\" class=\"dataframe\">\n",
       "  <thead>\n",
       "    <tr style=\"text-align: right;\">\n",
       "      <th></th>\n",
       "      <th>article_id</th>\n",
       "      <th>season</th>\n",
       "      <th>brand</th>\n",
       "      <th>color</th>\n",
       "      <th>Abteilung</th>\n",
       "      <th>WHG</th>\n",
       "      <th>WUG</th>\n",
       "      <th>month</th>\n",
       "      <th>time_on_sale</th>\n",
       "      <th>original_price</th>\n",
       "      <th>sells_price</th>\n",
       "      <th>discount</th>\n",
       "      <th>markdown</th>\n",
       "      <th>article_count</th>\n",
       "      <th>stock_total</th>\n",
       "      <th>avq</th>\n",
       "      <th>revenue</th>\n",
       "    </tr>\n",
       "  </thead>\n",
       "  <tbody>\n",
       "    <tr>\n",
       "      <th>246518</th>\n",
       "      <td>908447</td>\n",
       "      <td>Winter</td>\n",
       "      <td>Uller</td>\n",
       "      <td>dunkelgrau</td>\n",
       "      <td>Abteilung005</td>\n",
       "      <td>WHG023</td>\n",
       "      <td>WUG086</td>\n",
       "      <td>Mar</td>\n",
       "      <td>9</td>\n",
       "      <td>29.95</td>\n",
       "      <td>29.631667</td>\n",
       "      <td>0.318333</td>\n",
       "      <td>0.0</td>\n",
       "      <td>13.166667</td>\n",
       "      <td>2591.0</td>\n",
       "      <td>18.339123</td>\n",
       "      <td>389.260000</td>\n",
       "    </tr>\n",
       "    <tr>\n",
       "      <th>152893</th>\n",
       "      <td>905249</td>\n",
       "      <td>Winter</td>\n",
       "      <td>Almaviahenae</td>\n",
       "      <td>mittelbraun</td>\n",
       "      <td>Abteilung005</td>\n",
       "      <td>WHG021</td>\n",
       "      <td>WUG069</td>\n",
       "      <td>Apr</td>\n",
       "      <td>9</td>\n",
       "      <td>69.95</td>\n",
       "      <td>69.950000</td>\n",
       "      <td>0.000000</td>\n",
       "      <td>0.0</td>\n",
       "      <td>3.600000</td>\n",
       "      <td>629.0</td>\n",
       "      <td>16.248013</td>\n",
       "      <td>251.820000</td>\n",
       "    </tr>\n",
       "    <tr>\n",
       "      <th>236842</th>\n",
       "      <td>908120</td>\n",
       "      <td>Spring</td>\n",
       "      <td>Beda</td>\n",
       "      <td>pink</td>\n",
       "      <td>Abteilung006</td>\n",
       "      <td>WHG032</td>\n",
       "      <td>WUG112</td>\n",
       "      <td>Aug</td>\n",
       "      <td>21</td>\n",
       "      <td>19.95</td>\n",
       "      <td>18.245000</td>\n",
       "      <td>1.705000</td>\n",
       "      <td>0.0</td>\n",
       "      <td>6.333333</td>\n",
       "      <td>3489.0</td>\n",
       "      <td>73.105952</td>\n",
       "      <td>116.203333</td>\n",
       "    </tr>\n",
       "    <tr>\n",
       "      <th>231475</th>\n",
       "      <td>907939</td>\n",
       "      <td>Winter</td>\n",
       "      <td>Almaviahenae</td>\n",
       "      <td>mittelgrau</td>\n",
       "      <td>Abteilung005</td>\n",
       "      <td>WHG021</td>\n",
       "      <td>WUG069</td>\n",
       "      <td>Feb</td>\n",
       "      <td>5</td>\n",
       "      <td>59.95</td>\n",
       "      <td>59.950000</td>\n",
       "      <td>0.000000</td>\n",
       "      <td>0.0</td>\n",
       "      <td>2.800000</td>\n",
       "      <td>1189.0</td>\n",
       "      <td>5.399495</td>\n",
       "      <td>167.860000</td>\n",
       "    </tr>\n",
       "    <tr>\n",
       "      <th>138096</th>\n",
       "      <td>904742</td>\n",
       "      <td>Summer</td>\n",
       "      <td>Fimmilena</td>\n",
       "      <td>schwarz / kombiniert</td>\n",
       "      <td>Abteilung007</td>\n",
       "      <td>WHG039</td>\n",
       "      <td>WUG150</td>\n",
       "      <td>Dec</td>\n",
       "      <td>22</td>\n",
       "      <td>89.95</td>\n",
       "      <td>89.950000</td>\n",
       "      <td>0.000000</td>\n",
       "      <td>0.0</td>\n",
       "      <td>2.000000</td>\n",
       "      <td>1472.0</td>\n",
       "      <td>21.824049</td>\n",
       "      <td>179.900000</td>\n",
       "    </tr>\n",
       "    <tr>\n",
       "      <th>12574</th>\n",
       "      <td>900451</td>\n",
       "      <td>Spring</td>\n",
       "      <td>Loki</td>\n",
       "      <td>schwarz / kombiniert</td>\n",
       "      <td>Abteilung001</td>\n",
       "      <td>WHG002</td>\n",
       "      <td>WUG003</td>\n",
       "      <td>Sep</td>\n",
       "      <td>20</td>\n",
       "      <td>15.95</td>\n",
       "      <td>15.950000</td>\n",
       "      <td>0.000000</td>\n",
       "      <td>0.0</td>\n",
       "      <td>2.000000</td>\n",
       "      <td>3868.0</td>\n",
       "      <td>71.923475</td>\n",
       "      <td>31.900000</td>\n",
       "    </tr>\n",
       "    <tr>\n",
       "      <th>43464</th>\n",
       "      <td>901511</td>\n",
       "      <td>Fall</td>\n",
       "      <td>Friagabis</td>\n",
       "      <td>bordeauxrot</td>\n",
       "      <td>Abteilung002</td>\n",
       "      <td>WHG015</td>\n",
       "      <td>WUG051</td>\n",
       "      <td>Dec</td>\n",
       "      <td>9</td>\n",
       "      <td>79.95</td>\n",
       "      <td>50.070000</td>\n",
       "      <td>9.880000</td>\n",
       "      <td>20.0</td>\n",
       "      <td>2.333333</td>\n",
       "      <td>578.0</td>\n",
       "      <td>28.085352</td>\n",
       "      <td>118.236667</td>\n",
       "    </tr>\n",
       "    <tr>\n",
       "      <th>211653</th>\n",
       "      <td>907241</td>\n",
       "      <td>Fall</td>\n",
       "      <td>Sigyn</td>\n",
       "      <td>mittelgrau</td>\n",
       "      <td>Abteilung006</td>\n",
       "      <td>WHG036</td>\n",
       "      <td>WUG119</td>\n",
       "      <td>Dec</td>\n",
       "      <td>7</td>\n",
       "      <td>29.95</td>\n",
       "      <td>29.580000</td>\n",
       "      <td>0.370000</td>\n",
       "      <td>0.0</td>\n",
       "      <td>12.142857</td>\n",
       "      <td>1792.0</td>\n",
       "      <td>35.419324</td>\n",
       "      <td>357.832857</td>\n",
       "    </tr>\n",
       "    <tr>\n",
       "      <th>154274</th>\n",
       "      <td>905296</td>\n",
       "      <td>Winter</td>\n",
       "      <td>Almaviahenae</td>\n",
       "      <td>dunkelblau</td>\n",
       "      <td>Abteilung005</td>\n",
       "      <td>WHG021</td>\n",
       "      <td>WUG072</td>\n",
       "      <td>May</td>\n",
       "      <td>11</td>\n",
       "      <td>59.95</td>\n",
       "      <td>39.686667</td>\n",
       "      <td>10.263333</td>\n",
       "      <td>10.0</td>\n",
       "      <td>20.666667</td>\n",
       "      <td>2781.0</td>\n",
       "      <td>19.585281</td>\n",
       "      <td>819.520000</td>\n",
       "    </tr>\n",
       "    <tr>\n",
       "      <th>160420</th>\n",
       "      <td>905501</td>\n",
       "      <td>Spring</td>\n",
       "      <td>Kolga</td>\n",
       "      <td>schwarz / kombiniert</td>\n",
       "      <td>Abteilung006</td>\n",
       "      <td>WHG032</td>\n",
       "      <td>WUG109</td>\n",
       "      <td>Jun</td>\n",
       "      <td>10</td>\n",
       "      <td>19.95</td>\n",
       "      <td>19.562857</td>\n",
       "      <td>0.387143</td>\n",
       "      <td>0.0</td>\n",
       "      <td>9.000000</td>\n",
       "      <td>3440.0</td>\n",
       "      <td>41.100498</td>\n",
       "      <td>176.901429</td>\n",
       "    </tr>\n",
       "  </tbody>\n",
       "</table>\n",
       "</div>"
      ],
      "text/plain": [
       "       article_id  season         brand                 color     Abteilung  \\\n",
       "246518     908447  Winter         Uller            dunkelgrau  Abteilung005   \n",
       "152893     905249  Winter  Almaviahenae           mittelbraun  Abteilung005   \n",
       "236842     908120  Spring          Beda                  pink  Abteilung006   \n",
       "231475     907939  Winter  Almaviahenae            mittelgrau  Abteilung005   \n",
       "138096     904742  Summer     Fimmilena  schwarz / kombiniert  Abteilung007   \n",
       "12574      900451  Spring          Loki  schwarz / kombiniert  Abteilung001   \n",
       "43464      901511    Fall     Friagabis           bordeauxrot  Abteilung002   \n",
       "211653     907241    Fall         Sigyn            mittelgrau  Abteilung006   \n",
       "154274     905296  Winter  Almaviahenae            dunkelblau  Abteilung005   \n",
       "160420     905501  Spring         Kolga  schwarz / kombiniert  Abteilung006   \n",
       "\n",
       "           WHG     WUG month  time_on_sale  original_price  sells_price  \\\n",
       "246518  WHG023  WUG086   Mar             9           29.95    29.631667   \n",
       "152893  WHG021  WUG069   Apr             9           69.95    69.950000   \n",
       "236842  WHG032  WUG112   Aug            21           19.95    18.245000   \n",
       "231475  WHG021  WUG069   Feb             5           59.95    59.950000   \n",
       "138096  WHG039  WUG150   Dec            22           89.95    89.950000   \n",
       "12574   WHG002  WUG003   Sep            20           15.95    15.950000   \n",
       "43464   WHG015  WUG051   Dec             9           79.95    50.070000   \n",
       "211653  WHG036  WUG119   Dec             7           29.95    29.580000   \n",
       "154274  WHG021  WUG072   May            11           59.95    39.686667   \n",
       "160420  WHG032  WUG109   Jun            10           19.95    19.562857   \n",
       "\n",
       "         discount  markdown  article_count  stock_total        avq     revenue  \n",
       "246518   0.318333       0.0      13.166667       2591.0  18.339123  389.260000  \n",
       "152893   0.000000       0.0       3.600000        629.0  16.248013  251.820000  \n",
       "236842   1.705000       0.0       6.333333       3489.0  73.105952  116.203333  \n",
       "231475   0.000000       0.0       2.800000       1189.0   5.399495  167.860000  \n",
       "138096   0.000000       0.0       2.000000       1472.0  21.824049  179.900000  \n",
       "12574    0.000000       0.0       2.000000       3868.0  71.923475   31.900000  \n",
       "43464    9.880000      20.0       2.333333        578.0  28.085352  118.236667  \n",
       "211653   0.370000       0.0      12.142857       1792.0  35.419324  357.832857  \n",
       "154274  10.263333      10.0      20.666667       2781.0  19.585281  819.520000  \n",
       "160420   0.387143       0.0       9.000000       3440.0  41.100498  176.901429  "
      ]
     },
     "execution_count": 4,
     "metadata": {},
     "output_type": "execute_result"
    }
   ],
   "source": [
    "data.sample(10)"
   ]
  },
  {
   "cell_type": "markdown",
   "metadata": {},
   "source": [
    "# Code"
   ]
  },
  {
   "cell_type": "code",
   "execution_count": 5,
   "metadata": {},
   "outputs": [
    {
     "name": "stdout",
     "output_type": "stream",
     "text": [
      "CPU times: user 2min 48s, sys: 2.36 s, total: 2min 50s\n",
      "Wall time: 2min 54s\n"
     ]
    }
   ],
   "source": [
    "%%time\n",
    "\n",
    "split_results = cluster.multi_feature_split(data, distance.euclidean, 50)"
   ]
  },
  {
   "cell_type": "code",
   "execution_count": 6,
   "metadata": {},
   "outputs": [
    {
     "data": {
      "text/plain": [
       "Index(['0', '1', '2', '3', '4', '5', '6', '7'], dtype='object')"
      ]
     },
     "execution_count": 6,
     "metadata": {},
     "output_type": "execute_result"
    }
   ],
   "source": [
    "split_results['Clusters'].index"
   ]
  },
  {
   "cell_type": "code",
   "execution_count": 7,
   "metadata": {},
   "outputs": [
    {
     "data": {
      "text/plain": [
       "Abteilung    Abteilung005\n",
       "WHG                WHG021\n",
       "brand           Fimmilena\n",
       "WUG                WUG073\n",
       "season             Spring\n",
       "dtype: object"
      ]
     },
     "execution_count": 7,
     "metadata": {},
     "output_type": "execute_result"
    }
   ],
   "source": [
    "split_results['Clusters']['5'][0]['Features']"
   ]
  },
  {
   "cell_type": "code",
   "execution_count": 37,
   "metadata": {},
   "outputs": [],
   "source": [
    "def get_cluster_parent_name(cluster):\n",
    "    name = cluster['Name']\n",
    "    # remove last character until name is the parent cluster's name\n",
    "    terminate = False\n",
    "    while not terminate:\n",
    "        character = name[-1:]\n",
    "        if ((character == \"_\") or (character == \"0\") or (character == \"\")):\n",
    "            terminate = True\n",
    "        name = name[:-1]\n",
    "    return name"
   ]
  },
  {
   "cell_type": "code",
   "execution_count": 38,
   "metadata": {
    "scrolled": true
   },
   "outputs": [
    {
     "name": "stdout",
     "output_type": "stream",
     "text": [
      "CPU times: user 35.2 s, sys: 31.2 ms, total: 35.3 s\n",
      "Wall time: 35.8 s\n"
     ]
    }
   ],
   "source": [
    "%%time\n",
    "\n",
    "# get all clusters that remained unsplit\n",
    "leafs = list()\n",
    "\n",
    "# iterate through all layers of the clustering\n",
    "for layer in split_results['Clusters'].index:\n",
    "    # add all layer leaves and remove leaf parents\n",
    "    for add_cluster in split_results['Clusters'][layer]:\n",
    "        check_name = get_cluster_parent_name(add_cluster)\n",
    "        # iterate until parent cluster is found then remove it\n",
    "        for index, check_cluster in enumerate(leafs):\n",
    "            if check_cluster['Name'] == check_name:\n",
    "                # parent cluster found, remove it\n",
    "                del leafs[index]\n",
    "                # no more than one parent cluster, therefore exit second for loop\n",
    "                break\n",
    "        leafs.append(add_cluster)"
   ]
  },
  {
   "cell_type": "code",
   "execution_count": 39,
   "metadata": {},
   "outputs": [
    {
     "data": {
      "text/plain": [
       "2152"
      ]
     },
     "execution_count": 39,
     "metadata": {},
     "output_type": "execute_result"
    }
   ],
   "source": [
    "len(leafs)"
   ]
  },
  {
   "cell_type": "code",
   "execution_count": 29,
   "metadata": {},
   "outputs": [
    {
     "name": "stdout",
     "output_type": "stream",
     "text": [
      "CPU times: user 46.9 ms, sys: 0 ns, total: 46.9 ms\n",
      "Wall time: 33.7 ms\n"
     ]
    }
   ],
   "source": [
    "%%time\n",
    "\n",
    "names = list()\n",
    "\n",
    "for cluster in leafs:\n",
    "    name = cluster['Name']\n",
    "    # remove last character until name is the parent cluster's name\n",
    "    found_underscore = False\n",
    "    while not found_underscore:\n",
    "        character = name[-1:]\n",
    "        if character == \"_\":\n",
    "            found_underscore = True\n",
    "        name = name[:-1]\n",
    "    names.append(name)\n",
    "# only save uniques by converting to set \n",
    "names = set(names)"
   ]
  },
  {
   "cell_type": "code",
   "execution_count": 40,
   "metadata": {},
   "outputs": [
    {
     "data": {
      "text/plain": [
       "{'0_1_1',\n",
       " '0_1_1_1',\n",
       " '0_1_1_10',\n",
       " '0_1_1_10_2',\n",
       " '0_1_1_1_1',\n",
       " '0_1_1_2',\n",
       " '0_1_1_4',\n",
       " '0_1_1_5',\n",
       " '0_1_1_8',\n",
       " '0_1_1_8_1',\n",
       " '0_1_2',\n",
       " '0_1_2_2',\n",
       " '0_1_2_3',\n",
       " '0_1_3',\n",
       " '0_1_5',\n",
       " '0_1_6',\n",
       " '0_1_6_2',\n",
       " '0_1_6_3',\n",
       " '0_1_7',\n",
       " '0_2_1_1',\n",
       " '0_2_1_2',\n",
       " '0_2_1_4',\n",
       " '0_2_1_4_4',\n",
       " '0_2_2',\n",
       " '0_2_2_1',\n",
       " '0_2_2_1_2',\n",
       " '0_2_2_3',\n",
       " '0_2_2_3_1',\n",
       " '0_2_3',\n",
       " '0_2_3_1',\n",
       " '0_2_3_2',\n",
       " '0_2_3_3',\n",
       " '0_2_3_4',\n",
       " '0_2_3_5',\n",
       " '0_2_3_5_3',\n",
       " '0_2_3_5_8',\n",
       " '0_2_3_5_9',\n",
       " '0_3_3',\n",
       " '0_3_3_1',\n",
       " '0_4',\n",
       " '0_4_10_1',\n",
       " '0_4_10_2',\n",
       " '0_4_10_3',\n",
       " '0_4_10_4',\n",
       " '0_4_11',\n",
       " '0_4_11_3',\n",
       " '0_4_12',\n",
       " '0_4_12_2',\n",
       " '0_4_12_4',\n",
       " '0_4_13',\n",
       " '0_4_14_1',\n",
       " '0_4_14_10',\n",
       " '0_4_14_11',\n",
       " '0_4_14_12',\n",
       " '0_4_14_2',\n",
       " '0_4_14_3',\n",
       " '0_4_14_4',\n",
       " '0_4_14_5',\n",
       " '0_4_14_6',\n",
       " '0_4_14_7',\n",
       " '0_4_14_8',\n",
       " '0_4_14_9',\n",
       " '0_4_15',\n",
       " '0_4_2',\n",
       " '0_4_2_1',\n",
       " '0_4_2_3',\n",
       " '0_4_2_4',\n",
       " '0_4_3',\n",
       " '0_4_3_2',\n",
       " '0_4_3_4',\n",
       " '0_4_3_4_1',\n",
       " '0_4_3_4_1_1',\n",
       " '0_4_3_4_1_2',\n",
       " '0_4_3_4_1_3',\n",
       " '0_4_3_4_1_4',\n",
       " '0_4_3_4_1_5',\n",
       " '0_4_3_4_1_7',\n",
       " '0_4_4',\n",
       " '0_4_4_2',\n",
       " '0_4_5_1',\n",
       " '0_4_5_1_2',\n",
       " '0_4_5_1_2_1',\n",
       " '0_4_5_1_2_1_1',\n",
       " '0_4_5_1_2_2',\n",
       " '0_4_5_1_2_2_1',\n",
       " '0_4_5_1_2_3',\n",
       " '0_4_5_1_2_3_1',\n",
       " '0_4_5_1_2_4',\n",
       " '0_4_5_1_2_5',\n",
       " '0_4_5_1_2_5_1',\n",
       " '0_4_5_1_2_6',\n",
       " '0_4_5_2',\n",
       " '0_4_5_3',\n",
       " '0_4_5_3_2',\n",
       " '0_4_5_4',\n",
       " '0_4_5_4_1',\n",
       " '0_4_6',\n",
       " '0_4_7_1',\n",
       " '0_4_7_10',\n",
       " '0_4_7_10_2',\n",
       " '0_4_7_10_2_1',\n",
       " '0_4_7_11',\n",
       " '0_4_7_11_2',\n",
       " '0_4_7_11_2_1',\n",
       " '0_4_7_12',\n",
       " '0_4_7_12_3',\n",
       " '0_4_7_1_1',\n",
       " '0_4_7_2_1',\n",
       " '0_4_7_2_2',\n",
       " '0_4_7_3',\n",
       " '0_4_7_3_1',\n",
       " '0_4_7_4',\n",
       " '0_4_7_4_3',\n",
       " '0_4_7_5',\n",
       " '0_4_7_5_3',\n",
       " '0_4_7_6',\n",
       " '0_4_7_6_1',\n",
       " '0_4_7_6_3',\n",
       " '0_4_7_6_3_1',\n",
       " '0_4_7_7',\n",
       " '0_4_7_7_2',\n",
       " '0_4_7_7_2_1',\n",
       " '0_4_7_8',\n",
       " '0_4_7_8_4',\n",
       " '0_4_7_9',\n",
       " '0_4_7_9_3',\n",
       " '0_4_8',\n",
       " '0_4_8_3',\n",
       " '0_4_9',\n",
       " '0_6',\n",
       " '0_6_2',\n",
       " '0_7_1',\n",
       " '0_7_10',\n",
       " '0_7_10_1',\n",
       " '0_7_10_3',\n",
       " '0_7_10_5',\n",
       " '0_7_10_5_1',\n",
       " '0_7_10_6',\n",
       " '0_7_11',\n",
       " '0_7_11_1',\n",
       " '0_7_11_1_2',\n",
       " '0_7_11_1_4',\n",
       " '0_7_11_1_5',\n",
       " '0_7_11_2',\n",
       " '0_7_11_2_2',\n",
       " '0_7_11_2_3',\n",
       " '0_7_12',\n",
       " '0_7_12_1',\n",
       " '0_7_12_1_1',\n",
       " '0_7_12_1_4',\n",
       " '0_7_12_3',\n",
       " '0_7_12_3_1',\n",
       " '0_7_12_5',\n",
       " '0_7_12_6',\n",
       " '0_7_12_6_2',\n",
       " '0_7_12_6_3',\n",
       " '0_7_1_1',\n",
       " '0_7_1_2',\n",
       " '0_7_1_3',\n",
       " '0_7_1_3_5',\n",
       " '0_7_1_3_9',\n",
       " '0_7_1_4',\n",
       " '0_7_1_6',\n",
       " '0_7_2',\n",
       " '0_7_2_1',\n",
       " '0_7_2_2',\n",
       " '0_7_2_3',\n",
       " '0_7_2_3_4',\n",
       " '0_7_2_3_6',\n",
       " '0_7_2_4',\n",
       " '0_7_2_4_1',\n",
       " '0_7_2_4_1_1',\n",
       " '0_7_3',\n",
       " '0_7_3_1',\n",
       " '0_7_3_2',\n",
       " '0_7_3_3',\n",
       " '0_7_3_3_4',\n",
       " '0_7_3_3_7',\n",
       " '0_7_3_4',\n",
       " '0_7_3_4_1',\n",
       " '0_7_3_4_1_1',\n",
       " '0_7_4',\n",
       " '0_7_4_1',\n",
       " '0_7_4_2',\n",
       " '0_7_4_3',\n",
       " '0_7_4_3_1',\n",
       " '0_7_4_3_2',\n",
       " '0_7_4_3_4',\n",
       " '0_7_4_3_5',\n",
       " '0_7_4_3_5_1',\n",
       " '0_7_4_3_5_2',\n",
       " '0_7_4_4',\n",
       " '0_7_4_4_1',\n",
       " '0_7_5',\n",
       " '0_7_5_1',\n",
       " '0_7_5_2',\n",
       " '0_7_5_3_1',\n",
       " '0_7_5_3_2',\n",
       " '0_7_5_3_3',\n",
       " '0_7_5_3_4',\n",
       " '0_7_5_3_5',\n",
       " '0_7_5_3_5_1',\n",
       " '0_7_5_3_5_2',\n",
       " '0_7_5_4',\n",
       " '0_7_5_4_9',\n",
       " '0_7_6',\n",
       " '0_7_6_1',\n",
       " '0_7_6_2',\n",
       " '0_7_6_2_1',\n",
       " '0_7_6_2_2',\n",
       " '0_7_6_3_1',\n",
       " '0_7_6_3_2',\n",
       " '0_7_6_3_3',\n",
       " '0_7_6_3_4',\n",
       " '0_7_6_3_5',\n",
       " '0_7_6_4',\n",
       " '0_7_6_4_1',\n",
       " '0_7_6_7',\n",
       " '0_7_7',\n",
       " '0_7_7_2',\n",
       " '0_7_7_2_1',\n",
       " '0_7_7_3',\n",
       " '0_7_7_4',\n",
       " '0_7_7_7',\n",
       " '0_7_7_7_1',\n",
       " '0_7_7_7_4',\n",
       " '0_7_7_9',\n",
       " '0_7_8',\n",
       " '0_7_8_1',\n",
       " '0_7_8_1_1',\n",
       " '0_7_8_1_2',\n",
       " '0_7_8_3',\n",
       " '0_7_8_3_1',\n",
       " '0_7_8_3_1_1',\n",
       " '0_7_8_3_1_3',\n",
       " '0_7_8_3_1_4',\n",
       " '0_7_8_3_3',\n",
       " '0_7_8_4',\n",
       " '0_7_8_4_1',\n",
       " '0_7_8_4_5',\n",
       " '0_7_8_6',\n",
       " '0_7_9',\n",
       " '0_7_9_1',\n",
       " '0_7_9_2',\n",
       " '0_7_9_4',\n",
       " '0_7_9_6'}"
      ]
     },
     "execution_count": 40,
     "metadata": {},
     "output_type": "execute_result"
    }
   ],
   "source": [
    "names"
   ]
  },
  {
   "cell_type": "code",
   "execution_count": 41,
   "metadata": {},
   "outputs": [
    {
     "data": {
      "text/plain": [
       "246"
      ]
     },
     "execution_count": 41,
     "metadata": {},
     "output_type": "execute_result"
    }
   ],
   "source": [
    "len(names)"
   ]
  },
  {
   "cell_type": "code",
   "execution_count": 42,
   "metadata": {},
   "outputs": [
    {
     "name": "stdout",
     "output_type": "stream",
     "text": [
      "CPU times: user 31.2 ms, sys: 0 ns, total: 31.2 ms\n",
      "Wall time: 36.3 ms\n"
     ]
    }
   ],
   "source": [
    "%%time\n",
    "\n",
    "# get all clusters that are above min_cluster_size\n",
    "parents = list()\n",
    "\n",
    "# iterate through all layers of the clustering\n",
    "for layer in split_results['Clusters'].index:\n",
    "    # add all layer leaves and remove leaf parents\n",
    "    for cluster in split_results['Clusters'][layer]:\n",
    "        if cluster['Name'] in names:\n",
    "            parents.append(cluster)"
   ]
  },
  {
   "cell_type": "code",
   "execution_count": 43,
   "metadata": {},
   "outputs": [
    {
     "data": {
      "text/plain": [
       "246"
      ]
     },
     "execution_count": 43,
     "metadata": {},
     "output_type": "execute_result"
    }
   ],
   "source": [
    "len(parents)"
   ]
  },
  {
   "cell_type": "code",
   "execution_count": 45,
   "metadata": {},
   "outputs": [
    {
     "name": "stdout",
     "output_type": "stream",
     "text": [
      "CPU times: user 2min 43s, sys: 2min 23s, total: 5min 6s\n",
      "Wall time: 5min 11s\n"
     ]
    }
   ],
   "source": [
    "%%time\n",
    "\n",
    "length = len(parents)\n",
    "distances = np.ndarray(shape=(length,length))\n",
    "\n",
    "for i, a in enumerate(parents):\n",
    "    a_curve = a['DataFrame'].set_index('time_on_sale')\n",
    "    for k, b in enumerate(parents):\n",
    "        if k <= i:\n",
    "            continue\n",
    "        b_curve = b['DataFrame'].set_index('time_on_sale')\n",
    "        d = distance.euclidean(a_curve['article_count'], b_curve['article_count'])\n",
    "        distances[i][k] = d\n",
    "        distances[k][i] = d "
   ]
  },
  {
   "cell_type": "code",
   "execution_count": 46,
   "metadata": {},
   "outputs": [
    {
     "data": {
      "text/plain": [
       "array([[6.93846042e-310, 1.02448231e+001, 6.80939050e+000, ...,\n",
       "        7.98798962e+000, 9.48311156e+000, 8.79075366e+000],\n",
       "       [1.02448231e+001, 2.33419537e-313, 9.63942160e+000, ...,\n",
       "        1.09801628e+001, 1.12266351e+001, 9.72084027e+000],\n",
       "       [6.80939050e+000, 9.63942160e+000, 0.00000000e+000, ...,\n",
       "        6.07047095e+000, 7.41716720e+000, 6.71621855e+000],\n",
       "       ...,\n",
       "       [7.98798962e+000, 1.09801628e+001, 6.07047095e+000, ...,\n",
       "        5.92878775e-323, 8.56393049e+000, 9.61645217e+000],\n",
       "       [9.48311156e+000, 1.12266351e+001, 7.41716720e+000, ...,\n",
       "        8.56393049e+000, 9.88131292e-323, 9.71919102e+000],\n",
       "       [8.79075366e+000, 9.72084027e+000, 6.71621855e+000, ...,\n",
       "        9.61645217e+000, 9.71919102e+000, 4.94065646e-324]])"
      ]
     },
     "execution_count": 46,
     "metadata": {},
     "output_type": "execute_result"
    }
   ],
   "source": [
    "distances"
   ]
  },
  {
   "cell_type": "code",
   "execution_count": null,
   "metadata": {},
   "outputs": [],
   "source": []
  }
 ],
 "metadata": {
  "kernelspec": {
   "display_name": "tailor",
   "language": "python",
   "name": "tailor"
  },
  "language_info": {
   "codemirror_mode": {
    "name": "ipython",
    "version": 3
   },
   "file_extension": ".py",
   "mimetype": "text/x-python",
   "name": "python",
   "nbconvert_exporter": "python",
   "pygments_lexer": "ipython3",
   "version": "3.6.5"
  }
 },
 "nbformat": 4,
 "nbformat_minor": 2
}
