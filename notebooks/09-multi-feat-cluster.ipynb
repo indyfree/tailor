{
 "cells": [
  {
   "cell_type": "markdown",
   "metadata": {},
   "source": [
    "# Initialization"
   ]
  },
  {
   "cell_type": "code",
   "execution_count": 1,
   "metadata": {},
   "outputs": [],
   "source": [
    "# Display plots inline\n",
    "%matplotlib inline\n",
    "\n",
    "# Autoreload all package before excecuting a call\n",
    "%load_ext autoreload\n",
    "%autoreload 2"
   ]
  },
  {
   "cell_type": "code",
   "execution_count": 2,
   "metadata": {},
   "outputs": [],
   "source": [
    "import pandas as pd\n",
    "import numpy as np\n",
    "import multiprocessing as mp\n",
    "import itertools\n",
    "\n",
    "import tailor\n",
    "from tailor.clustering import *"
   ]
  },
  {
   "cell_type": "code",
   "execution_count": 3,
   "metadata": {},
   "outputs": [],
   "source": [
    "data = tailor.load_data()"
   ]
  },
  {
   "cell_type": "code",
   "execution_count": 4,
   "metadata": {},
   "outputs": [],
   "source": [
    "data.sample(10)"
   ]
  },
  {
   "cell_type": "markdown",
   "metadata": {},
   "source": [
    "# Code"
   ]
  },
  {
   "cell_type": "code",
   "execution_count": 5,
   "metadata": {},
   "outputs": [],
   "source": [
    "min_cluster_size = 50\n",
    "max_cluster_count = 10\n",
    "clustering_feature = 'norm_article_count'"
   ]
  },
  {
   "cell_type": "code",
   "execution_count": 6,
   "metadata": {},
   "outputs": [
    {
     "name": "stdout",
     "output_type": "stream",
     "text": [
      "merge layer 0\n",
      "782\n",
      "105\n",
      "get clusters above min_size\n",
      "51\n",
      "73\n",
      "105\n",
      "4\n",
      "7\n",
      "59\n",
      "0\n",
      "merge until below max_cluster_count\n",
      "55\n",
      "12\n",
      "12\n",
      "2\n",
      "CPU times: user 2min 43s, sys: 1.84 s, total: 2min 45s\n",
      "Wall time: 2min 47s\n"
     ]
    }
   ],
   "source": [
    "%%time\n",
    "\n",
    "split_results, merge_results = cluster.multi_feature(data, distance.absolute, 'norm_article_count', min_cluster_size, max_cluster_count)"
   ]
  },
  {
   "cell_type": "code",
   "execution_count": 7,
   "metadata": {},
   "outputs": [
    {
     "data": {
      "text/plain": [
       "Index(['0', '1', '2', '3', '4', '5', '6'], dtype='object')"
      ]
     },
     "execution_count": 7,
     "metadata": {},
     "output_type": "execute_result"
    }
   ],
   "source": [
    "# show the available split layers/depth\n",
    "split_results['Clusters'].index"
   ]
  },
  {
   "cell_type": "code",
   "execution_count": 8,
   "metadata": {},
   "outputs": [
    {
     "data": {
      "text/plain": [
       "Abteilung    Abteilung005\n",
       "brand           Fimmilena\n",
       "WHG                WHG021\n",
       "WUG                WUG073\n",
       "month               March\n",
       "dtype: object"
      ]
     },
     "execution_count": 8,
     "metadata": {},
     "output_type": "execute_result"
    }
   ],
   "source": [
    "# showcasing how to retrieve the cluster feauteres of the first cluster of the fifth layer\n",
    "split_results['Clusters']['5'][0]['Features']"
   ]
  },
  {
   "cell_type": "code",
   "execution_count": 9,
   "metadata": {},
   "outputs": []
   "source": [
    "cluster.show_cluster_characteristics(data, merge_results, 4)"
   ]
  },
  {
   "cell_type": "code",
   "execution_count": 10,
   "metadata": {},
   "outputs": [
    {
     "name": "stdout",
     "output_type": "stream",
     "text": [
      "0: Abteilung003: 27 100%\n",
      "0: Abteilung004: 237 90%\n",
      "0: WHG017: 19 100%\n",
      "0: WHG016: 8 100%\n",
      "0: WHG012: 474 77%\n",
      "0: WHG018: 21 95%\n",
      "0: WHG021: 733 95%\n",
      "0: WHG006: 283 92%\n",
      "0: WHG028: 103 82%\n",
      "0: WHG023: 207 90%\n",
      "0: WHG014: 63 84%\n",
      "0: WHG027: 42 100%\n",
      "0: WHG030: 22 88%\n",
      "0: WHG039: 48 100%\n",
      "0: WHG026: 88 96%\n",
      "0: WHG029: 4 100%\n",
      "0: WUG058: 19 100%\n",
      "0: WUG057: 8 100%\n",
      "0: WUG045: 160 83%\n",
      "0: WUG061: 4 100%\n",
      "0: WUG071: 33 85%\n",
      "0: WUG072: 156 99%\n",
      "0: WUG040: 169 78%\n",
      "0: WUG042: 41 80%\n",
      "0: WUG015: 250 94%\n",
      "0: WUG100: 19 90%\n",
      "0: WUG081: 80 95%\n",
      "0: WUG049: 47 87%\n",
      "0: WUG073: 227 97%\n",
      "0: WUG068: 43 96%\n",
      "0: WUG086: 75 100%\n",
      "0: WUG074: 49 78%\n",
      "0: WUG083: 7 88%\n",
      "0: WUG017: 19 86%\n",
      "0: WUG050: 16 76%\n",
      "0: WUG043: 16 80%\n",
      "0: WUG099: 46 85%\n",
      "0: WUG102: 35 80%\n",
      "0: WUG059: 11 100%\n",
      "0: WUG062: 14 100%\n",
      "0: WUG007: 2 100%\n",
      "0: WUG060: 6 86%\n",
      "0: WUG097: 38 100%\n",
      "0: WUG096: 2 100%\n",
      "0: WUG095: 1 100%\n",
      "0: WUG098: 1 100%\n",
      "0: WUG069: 165 91%\n",
      "0: WUG104: 22 88%\n",
      "0: WUG152: 16 100%\n",
      "0: WUG151: 23 100%\n",
      "0: WUG150: 9 100%\n",
      "0: WUG093: 55 96%\n",
      "0: WUG143: 17 85%\n",
      "0: WUG076: 24 77%\n",
      "0: WUG024: 2 100%\n",
      "0: WUG070: 85 100%\n",
      "0: WUG004: 1 100%\n",
      "0: WUG149: 17 89%\n",
      "0: WUG141: 12 100%\n",
      "0: WUG147: 8 89%\n",
      "0: WUG002: 6 100%\n",
      "0: WUG028: 1 100%\n",
      "0: WUG092: 16 100%\n",
      "0: WUG094: 14 88%\n",
      "0: WUG091: 3 100%\n",
      "0: WUG101: 4 100%\n",
      "0: WUG082: 21 100%\n",
      "0: WUG142: 3 100%\n",
      "0: Uller: 69 78%\n",
      "0: Almaviahenae: 114 89%\n",
      "0: Mercurius Hranno: 100 84%\n",
      "0: Tuisto: 164 96%\n",
      "0: Gratichae: 14 78%\n",
      "0: Mani: 258 83%\n",
      "0: Aumenahenae: 51 78%\n",
      "0: Mercurius Cimbrianus: 63 97%\n",
      "0: Fulla: 52 83%\n",
      "0: Yngvi: 38 100%\n",
      "0: Aufaniae: 2 100%\n",
      "0: Forseti: 20 100%\n",
      "0: Freya: 42 100%\n",
      "0: Skuld: 86 100%\n",
      "0: Alaferhviae: 83 83%\n",
      "0: Abiamarcae: 30 100%\n",
      "0: Vili: 7 100%\n",
      "0: Sunuxsal: 12 100%\n",
      "0: Vagdavercustis: 2 100%\n",
      "0: Alaterviae: 5 100%\n",
      "0: Hariasa: 2 100%\n",
      "0: Hludana: 16 100%\n",
      "0: Mannus: 44 100%\n",
      "0: Skadi: 36 100%\n",
      "0: Thor: 5 100%\n",
      "0: Verdandi: 24 86%\n",
      "\n",
      "1: Abteilung006: 1240 83%\n",
      "1: Abteilung001: 163 82%\n",
      "1: WHG033: 48 100%\n",
      "1: WHG024: 5 100%\n",
      "1: WHG034: 390 76%\n",
      "1: WHG038: 249 93%\n",
      "1: WHG036: 133 100%\n",
      "1: WHG003: 45 100%\n",
      "1: WHG002: 50 98%\n",
      "1: WHG013: 37 95%\n",
      "1: WHG035: 188 95%\n",
      "1: WHG032: 197 97%\n",
      "1: WHG040: 28 100%\n",
      "1: WUG064: 19 90%\n",
      "1: WUG080: 15 88%\n",
      "1: WUG063: 11 79%\n",
      "1: WUG065: 3 100%\n",
      "1: WUG079: 40 100%\n",
      "1: WUG078: 41 87%\n",
      "1: WUG077: 96 89%\n",
      "1: WUG056: 45 87%\n",
      "1: WUG039: 1 100%\n",
      "1: WUG036: 24 77%\n",
      "1: WUG013: 72 95%\n",
      "1: WUG140: 89 78%\n",
      "1: WUG105: 128 95%\n",
      "1: WUG087: 5 100%\n",
      "1: WUG117: 81 80%\n",
      "1: WUG131: 42 95%\n",
      "1: WUG129: 69 100%\n",
      "1: WUG132: 78 98%\n",
      "1: WUG130: 15 100%\n",
      "1: WUG128: 25 100%\n",
      "1: WUG120: 47 100%\n",
      "1: WUG119: 41 100%\n",
      "1: WUG121: 34 100%\n",
      "1: WUG035: 80 82%\n",
      "1: WUG006: 8 100%\n",
      "1: WUG055: 77 79%\n",
      "1: WUG005: 37 100%\n",
      "1: WUG003: 50 100%\n",
      "1: WUG048: 35 95%\n",
      "1: WUG133: 1 100%\n",
      "1: WUG089: 18 86%\n",
      "1: WUG116: 74 94%\n",
      "1: WUG114: 74 80%\n",
      "1: WUG118: 84 98%\n",
      "1: WUG106: 24 100%\n",
      "1: WUG123: 1 100%\n",
      "1: WUG112: 69 96%\n",
      "1: WUG111: 37 97%\n",
      "1: WUG011: 7 78%\n",
      "1: WUG109: 35 100%\n",
      "1: WUG110: 33 92%\n",
      "1: WUG113: 23 100%\n",
      "1: WUG124: 6 100%\n",
      "1: WUG134: 12 100%\n",
      "1: WUG135: 16 100%\n",
      "1: WUG122: 4 100%\n",
      "1: WUG012: 1 100%\n",
      "1: WUG047: 2 100%\n",
      "1: WUG044: 3 100%\n",
      "1: WUG075: 1 100%\n",
      "1: Hödur: 9 100%\n",
      "1: Beda: 149 87%\n",
      "1: Hermodr: 30 100%\n",
      "1: Nornen: 30 100%\n",
      "1: Gna: 282 93%\n",
      "1: Sif: 6 100%\n",
      "1: Kolga: 111 87%\n",
      "1: Sigyn: 34 100%\n",
      "1: Grusduahenae: 17 100%\n",
      "1: Börr: 45 100%\n",
      "1: Idun: 19 100%\n",
      "1: Axsinginehae: 4 80%\n",
      "1: Vacallinehae: 24 100%\n",
      "1: Gebrinius: 32 97%\n",
      "1: Gausus: 3 100%\n",
      "1: Wanen: 44 100%\n",
      "1: Tamfana: 2 100%\n",
      "1: Þorgerðr Holgabrúðr: 21 95%\n",
      "1: Ahinehiae: 5 100%\n",
      "1: Hurstrga: 10 100%\n",
      "1: Dag: 2 100%\n",
      "1: Dise: 6 100%\n",
      "1: ockergelb: 1 100%\n",
      "1: April: 547 82%\n",
      "1: May: 220 86%\n",
      "1: October: 382 80%\n",
      "\n"
     ]
    }
   ],
   "source": [
    "cluster.show_cluster_characteristics(data, merge_results, 4, 0.75)"
   ]
  },
  {
   "cell_type": "code",
   "execution_count": 11,
   "metadata": {},
   "outputs": [
    {
     "name": "stdout",
     "output_type": "stream",
     "text": [
      "0: Abteilung003: 27 100%\n",
      "0: WHG017: 19 100%\n",
      "0: WHG016: 8 100%\n",
      "0: WUG058: 19 100%\n",
      "0: WUG057: 8 100%\n",
      "0: Gratichae: 14 78%\n",
      "\n",
      "1: WUG059: 11 100%\n",
      "1: WUG062: 14 100%\n",
      "1: WUG007: 2 100%\n",
      "1: WUG096: 2 100%\n",
      "1: WUG095: 1 100%\n",
      "1: WUG098: 1 100%\n",
      "1: Yngvi: 38 100%\n",
      "1: Aufaniae: 2 100%\n",
      "\n",
      "2: WHG003: 45 100%\n",
      "2: WHG002: 50 98%\n",
      "2: WUG080: 15 88%\n",
      "2: WUG063: 11 79%\n",
      "2: WUG079: 31 78%\n",
      "2: WUG078: 39 83%\n",
      "2: WUG039: 1 100%\n",
      "2: WUG006: 8 100%\n",
      "2: WUG005: 37 100%\n",
      "2: WUG003: 50 100%\n",
      "2: WUG133: 1 100%\n",
      "2: Hödur: 9 100%\n",
      "2: Nornen: 30 100%\n",
      "2: Sif: 6 100%\n",
      "2: Börr: 40 89%\n",
      "2: Idun: 19 100%\n",
      "\n",
      "3: WHG039: 48 100%\n",
      "3: WUG152: 16 100%\n",
      "3: WUG151: 23 100%\n",
      "3: WUG150: 9 100%\n",
      "3: Forseti: 17 85%\n",
      "\n",
      "4: WUG024: 2 100%\n",
      "4: WUG004: 1 100%\n",
      "4: Skuld: 86 100%\n",
      "4: Abiamarcae: 30 100%\n",
      "4: Vili: 7 100%\n",
      "4: Sunuxsal: 12 100%\n",
      "4: Vagdavercustis: 2 100%\n",
      "4: Alaterviae: 5 100%\n",
      "4: Freya: 37 88%\n",
      "\n",
      "5: WUG123: 1 100%\n",
      "\n",
      "6: WHG040: 28 100%\n",
      "6: WUG134: 12 100%\n",
      "6: WUG135: 16 100%\n",
      "6: Wanen: 44 100%\n",
      "6: Tamfana: 2 100%\n",
      "6: ockergelb: 1 100%\n",
      "\n",
      "7: WUG002: 6 100%\n",
      "7: WUG028: 1 100%\n",
      "\n",
      "8: Ahinehiae: 5 100%\n",
      "8: Hurstrga: 10 100%\n",
      "8: Dag: 2 100%\n",
      "\n",
      "9: WHG032: 165 81%\n",
      "9: WUG012: 1 100%\n",
      "9: WUG047: 2 100%\n",
      "9: WUG111: 30 79%\n",
      "9: WUG112: 61 85%\n",
      "9: WUG044: 3 100%\n",
      "9: WUG075: 1 100%\n",
      "9: WUG113: 22 96%\n",
      "9: Dise: 6 100%\n",
      "\n",
      "10: outlier collection cluster\n",
      "\n",
      "11: WHG030: 20 80%\n",
      "11: WHG029: 4 100%\n",
      "11: WUG104: 20 80%\n",
      "11: WUG101: 4 100%\n",
      "11: WUG082: 21 100%\n",
      "11: WUG070: 74 87%\n",
      "11: WUG142: 3 100%\n",
      "11: Hariasa: 2 100%\n",
      "11: Hludana: 16 100%\n",
      "11: Mannus: 44 100%\n",
      "11: Skadi: 36 100%\n",
      "11: Thor: 5 100%\n",
      "11: Verdandi: 24 86%\n",
      "\n"
     ]
    }
   ],
   "source": [
    "cluster.show_cluster_characteristics(data, merge_results, 3, 0.75)"
   ]
  },
  {
   "cell_type": "code",
   "execution_count": null,
   "metadata": {},
   "outputs": [],
   "source": []
  }
 ],
 "metadata": {
  "kernelspec": {
   "display_name": "tailor",
   "language": "python",
   "name": "tailor"
  },
  "language_info": {
   "codemirror_mode": {
    "name": "ipython",
    "version": 3
   },
   "file_extension": ".py",
   "mimetype": "text/x-python",
   "name": "python",
   "nbconvert_exporter": "python",
   "pygments_lexer": "ipython3",
   "version": "3.6.5"
  }
 },
 "nbformat": 4,
 "nbformat_minor": 2
}
