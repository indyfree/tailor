{
 "cells": [
  {
   "cell_type": "markdown",
   "metadata": {},
   "source": [
    "# Approaching interpolation and derivation"
   ]
  },
  {
   "cell_type": "markdown",
   "metadata": {},
   "source": [
    "## Initialization"
   ]
  },
  {
   "cell_type": "code",
   "execution_count": 1,
   "metadata": {
    "scrolled": false
   },
   "outputs": [],
   "source": [
    "import matplotlib.pyplot as plt\n",
    "import numpy as np\n",
    "import pandas as pd\n",
    "import scipy.interpolate as spi\n",
    "import tailor\n",
    "from tailor import clustering as cl"
   ]
  },
  {
   "cell_type": "code",
   "execution_count": 2,
   "metadata": {},
   "outputs": [],
   "source": [
    "series_a = pd.Series([0,3,8,12,8,3,1], [1,2,3,4,5,6,10])"
   ]
  },
  {
   "cell_type": "code",
   "execution_count": 3,
   "metadata": {},
   "outputs": [],
   "source": [
    "series_b = pd.Series([2,24,3,2,1.5,1], [1,4,6,8,9,10])"
   ]
  },
  {
   "cell_type": "markdown",
   "metadata": {},
   "source": [
    "## Experimenting with differences"
   ]
  },
  {
   "cell_type": "markdown",
   "metadata": {},
   "source": [
    "The following code is to check how differences and means are calculated when certain indexes are missing/not all data-points are filled in both Series"
   ]
  },
  {
   "cell_type": "code",
   "execution_count": 4,
   "metadata": {},
   "outputs": [
    {
     "data": {
      "text/plain": [
       "1     -2.0\n",
       "2      NaN\n",
       "3      NaN\n",
       "4    -12.0\n",
       "5      NaN\n",
       "6      0.0\n",
       "8      NaN\n",
       "9      NaN\n",
       "10     0.0\n",
       "dtype: float64"
      ]
     },
     "execution_count": 4,
     "metadata": {},
     "output_type": "execute_result"
    }
   ],
   "source": [
    "series_a - series_b"
   ]
  },
  {
   "cell_type": "code",
   "execution_count": 5,
   "metadata": {},
   "outputs": [
    {
     "data": {
      "text/plain": [
       "1      2.0\n",
       "2      NaN\n",
       "3      NaN\n",
       "4     12.0\n",
       "5      NaN\n",
       "6      0.0\n",
       "8      NaN\n",
       "9      NaN\n",
       "10     0.0\n",
       "dtype: float64"
      ]
     },
     "execution_count": 5,
     "metadata": {},
     "output_type": "execute_result"
    }
   ],
   "source": [
    "abs(series_a - series_b)"
   ]
  },
  {
   "cell_type": "code",
   "execution_count": 6,
   "metadata": {},
   "outputs": [
    {
     "data": {
      "text/plain": [
       "14.0"
      ]
     },
     "execution_count": 6,
     "metadata": {},
     "output_type": "execute_result"
    }
   ],
   "source": [
    "abs(series_a - series_b).sum()"
   ]
  },
  {
   "cell_type": "code",
   "execution_count": 7,
   "metadata": {},
   "outputs": [
    {
     "data": {
      "text/plain": [
       "3.5"
      ]
     },
     "execution_count": 7,
     "metadata": {},
     "output_type": "execute_result"
    }
   ],
   "source": [
    "abs(series_a - series_b).mean()"
   ]
  },
  {
   "cell_type": "markdown",
   "metadata": {},
   "source": [
    "## Experimenting with interpolation and derivation"
   ]
  },
  {
   "cell_type": "code",
   "execution_count": 8,
   "metadata": {},
   "outputs": [
    {
     "data": {
      "text/plain": [
       "<matplotlib.legend.Legend at 0x7fe8ffe94a58>"
      ]
     },
     "execution_count": 8,
     "metadata": {},
     "output_type": "execute_result"
    },
    {
     "data": {
      "image/png": "[encoded data removed]",
      "text/plain": [
       "<Figure size 432x288 with 1 Axes>"
      ]
     },
     "metadata": {},
     "output_type": "display_data"
    }
   ],
   "source": [
    "# generate the function\n",
    "f = cl.interpolate_function(series_a)\n",
    "# generate fine resolution x axis\n",
    "xf = np.linspace(series_a.index.min(), series_a.index.max(), 1000)\n",
    "# generate fine resolution y values\n",
    "yf = f(xf)\n",
    "# generate derivative function\n",
    "df = f.derivative()\n",
    "# generate fine resolution derivative y values\n",
    "ydf = df(xf)\n",
    "# plot original data-points\n",
    "pod, = plt.plot(series_a.index, series_a.values, '.-', label='original data')\n",
    "# plot interpolated function\n",
    "pif, = plt.plot(xf, yf, label='interpolation')\n",
    "# plot derivative function\n",
    "pdf, = plt.plot(xf, ydf, label='derivation')\n",
    "plt.legend(handles=[pod, pif, pdf])"
   ]
  },
  {
   "cell_type": "code",
   "execution_count": 9,
   "metadata": {},
   "outputs": [
    {
     "name": "stdout",
     "output_type": "stream",
     "text": [
      "CPU times: user 2.18 ms, sys: 800 µs, total: 2.98 ms\n",
      "Wall time: 1.5 ms\n"
     ]
    },
    {
     "data": {
      "text/plain": [
       "3.5"
      ]
     },
     "execution_count": 9,
     "metadata": {},
     "output_type": "execute_result"
    }
   ],
   "source": [
    "%%time\n",
    "cl.absolute(series_a,series_b)"
   ]
  },
  {
   "cell_type": "code",
   "execution_count": 10,
   "metadata": {},
   "outputs": [
    {
     "name": "stdout",
     "output_type": "stream",
     "text": [
      "CPU times: user 0 ns, sys: 4.62 ms, total: 4.62 ms\n",
      "Wall time: 2.48 ms\n"
     ]
    },
    {
     "data": {
      "text/plain": [
       "2.368871695340034"
      ]
     },
     "execution_count": 10,
     "metadata": {},
     "output_type": "execute_result"
    }
   ],
   "source": [
    "%%time\n",
    "cl.derivative(series_a,series_b, degree=1, smooth=2)"
   ]
  },
  {
   "cell_type": "markdown",
   "metadata": {},
   "source": [
    "## Distance and curve comparison"
   ]
  },
  {
   "cell_type": "code",
   "execution_count": 11,
   "metadata": {
    "scrolled": true
   },
   "outputs": [
    {
     "name": "stdout",
     "output_type": "stream",
     "text": [
      "Base: \n",
      "Absolute distance: 3.5\n",
      " \n",
      "Interpolation and derivation: \n",
      "Degree 1 distance: 2.368871695340034\n",
      "Degree 2 distance: 7.446037459423405\n",
      "Degree 3 distance: 14.111168716320599\n",
      "Degree 4 distance: 21.643760008735864\n",
      "Degree 5 distance: 24.085393862843205\n"
     ]
    }
   ],
   "source": [
    "print(\"Base: \")\n",
    "print(\"Absolute distance: \" + np.str(cl.absolute(series_a, series_b)))\n",
    "print(\" \")\n",
    "print(\"Interpolation and derivation: \")\n",
    "print(\"Degree 1 distance: \" + np.str(cl.derivative(series_a,series_b, degree=1, smooth=2)))\n",
    "print(\"Degree 2 distance: \" + np.str(cl.derivative(series_a,series_b, degree=2, smooth=2)))\n",
    "print(\"Degree 3 distance: \" + np.str(cl.derivative(series_a,series_b, degree=3, smooth=2)))\n",
    "print(\"Degree 4 distance: \" + np.str(cl.derivative(series_a,series_b, degree=4, smooth=2)))\n",
    "print(\"Degree 5 distance: \" + np.str(cl.derivative(series_a,series_b, degree=5, smooth=2)))"
   ]
  },
  {
   "cell_type": "markdown",
   "metadata": {},
   "source": [
    "The derivate of the interpolation with degree=1 gives the best results and is better than the base distance measurement. Interpolation with higher degrees results in distorted curves and performs worse than the base measure. In the following subsections each degree can be viewed in detail."
   ]
  },
  {
   "cell_type": "markdown",
   "metadata": {
    "heading_collapsed": true
   },
   "source": [
    "### Degree 1"
   ]
  },
  {
   "cell_type": "code",
   "execution_count": 12,
   "metadata": {
    "hidden": true
   },
   "outputs": [
    {
     "name": "stdout",
     "output_type": "stream",
     "text": [
      "CPU times: user 1.1 ms, sys: 433 µs, total: 1.53 ms\n",
      "Wall time: 1.29 ms\n"
     ]
    }
   ],
   "source": [
    "%%time\n",
    "\n",
    "# generate the functions\n",
    "f1 = cl.interpolate_function(series_a, degree=1, smooth=2)\n",
    "f2 = cl.interpolate_function(series_b, degree=1, smooth=2)"
   ]
  },
  {
   "cell_type": "code",
   "execution_count": 13,
   "metadata": {
    "hidden": true
   },
   "outputs": [
    {
     "data": {
      "text/plain": [
       "<matplotlib.legend.Legend at 0x7fe8fddd33c8>"
      ]
     },
     "execution_count": 13,
     "metadata": {},
     "output_type": "execute_result"
    },
    {
     "data": {
      "image/png": "[encoded data removed]",
      "text/plain": [
       "<Figure size 432x288 with 1 Axes>"
      ]
     },
     "metadata": {},
     "output_type": "display_data"
    }
   ],
   "source": [
    "# generate fine resolution x axis\n",
    "xf = np.linspace(min(series_a.index.min(), series_b.index.min()), max(series_a.index.max(), series_b.index.max()), 1000)\n",
    "# generate fine resolution y values\n",
    "yf1 = f1(xf)\n",
    "yf2 = f2(xf)\n",
    "# generate derivative function\n",
    "df1 = f1.derivative()\n",
    "df2 = f2.derivative()\n",
    "# generate fine resolution derivative y values\n",
    "ydf1 = df1(xf)\n",
    "ydf2 = df2(xf)\n",
    "# plot original data-points\n",
    "pod1, = plt.plot(series_a.index, series_a.values, '.-', label='original data a')\n",
    "pod2, = plt.plot(series_b.index, series_b.values, '.-', label='original data b')\n",
    "plt.legend(handles=[pod1, pod2])"
   ]
  },
  {
   "cell_type": "code",
   "execution_count": 14,
   "metadata": {
    "hidden": true
   },
   "outputs": [
    {
     "data": {
      "text/plain": [
       "<matplotlib.legend.Legend at 0x7fe8fdd38438>"
      ]
     },
     "execution_count": 14,
     "metadata": {},
     "output_type": "execute_result"
    },
    {
     "data": {
      "image/png": "[encoded data removed]",
      "text/plain": [
       "<Figure size 432x288 with 1 Axes>"
      ]
     },
     "metadata": {},
     "output_type": "display_data"
    }
   ],
   "source": [
    "# plot interpolated function\n",
    "pif1, = plt.plot(xf, yf1, label='interpolation a')\n",
    "pif2, = plt.plot(xf, yf2, label='interpolation b')\n",
    "plt.legend(handles=[pif1, pif2])"
   ]
  },
  {
   "cell_type": "code",
   "execution_count": 15,
   "metadata": {
    "hidden": true,
    "scrolled": true
   },
   "outputs": [
    {
     "data": {
      "text/plain": [
       "<matplotlib.legend.Legend at 0x7fe8fdd0ffd0>"
      ]
     },
     "execution_count": 15,
     "metadata": {},
     "output_type": "execute_result"
    },
    {
     "data": {
      "image/png": "[encoded data removed]",
      "text/plain": [
       "<Figure size 432x288 with 1 Axes>"
      ]
     },
     "metadata": {},
     "output_type": "display_data"
    }
   ],
   "source": [
    "# plot derivative function\n",
    "pdf1, = plt.plot(xf, ydf1, label='derivation a')\n",
    "pdf2, = plt.plot(xf, ydf2, label='derivation b')\n",
    "plt.legend(handles=[pdf1, pdf2])"
   ]
  },
  {
   "cell_type": "markdown",
   "metadata": {
    "heading_collapsed": true
   },
   "source": [
    "### Degree 2 "
   ]
  },
  {
   "cell_type": "code",
   "execution_count": 16,
   "metadata": {
    "hidden": true
   },
   "outputs": [
    {
     "name": "stdout",
     "output_type": "stream",
     "text": [
      "CPU times: user 1.17 ms, sys: 726 µs, total: 1.9 ms\n",
      "Wall time: 713 µs\n"
     ]
    }
   ],
   "source": [
    "%%time\n",
    "\n",
    "# generate the functions\n",
    "f1 = cl.interpolate_function(series_a, degree=2, smooth=2)\n",
    "f2 = cl.interpolate_function(series_b, degree=2, smooth=2)"
   ]
  },
  {
   "cell_type": "code",
   "execution_count": 17,
   "metadata": {
    "hidden": true
   },
   "outputs": [
    {
     "data": {
      "text/plain": [
       "<matplotlib.legend.Legend at 0x7fe8fdc81ac8>"
      ]
     },
     "execution_count": 17,
     "metadata": {},
     "output_type": "execute_result"
    },
    {
     "data": {
      "image/png": "[encoded data removed]",
      "text/plain": [
       "<Figure size 432x288 with 1 Axes>"
      ]
     },
     "metadata": {},
     "output_type": "display_data"
    }
   ],
   "source": [
    "# generate fine resolution x axis\n",
    "xf = np.linspace(min(series_a.index.min(), series_b.index.min()), max(series_a.index.max(), series_b.index.max()), 1000)\n",
    "# generate fine resolution y values\n",
    "yf1 = f1(xf)\n",
    "yf2 = f2(xf)\n",
    "# generate derivative function\n",
    "df1 = f1.derivative()\n",
    "df2 = f2.derivative()\n",
    "# generate fine resolution derivative y values\n",
    "ydf1 = df1(xf)\n",
    "ydf2 = df2(xf)\n",
    "# plot original data-points\n",
    "pod1, = plt.plot(series_a.index, series_a.values, '.-', label='original data a')\n",
    "pod2, = plt.plot(series_b.index, series_b.values, '.-', label='original data b')\n",
    "plt.legend(handles=[pod1, pod2])"
   ]
  },
  {
   "cell_type": "code",
   "execution_count": 18,
   "metadata": {
    "hidden": true
   },
   "outputs": [
    {
     "data": {
      "text/plain": [
       "<matplotlib.legend.Legend at 0x7fe8fdbee630>"
      ]
     },
     "execution_count": 18,
     "metadata": {},
     "output_type": "execute_result"
    },
    {
     "data": {
      "image/png": "[encoded data removed]",
      "text/plain": [
       "<Figure size 432x288 with 1 Axes>"
      ]
     },
     "metadata": {},
     "output_type": "display_data"
    }
   ],
   "source": [
    "# plot interpolated function\n",
    "pif1, = plt.plot(xf, yf1, label='interpolation a')\n",
    "pif2, = plt.plot(xf, yf2, label='interpolation b')\n",
    "plt.legend(handles=[pif1, pif2])"
   ]
  },
  {
   "cell_type": "code",
   "execution_count": null,
   "metadata": {
    "hidden": true,
    "scrolled": true
   },
   "outputs": [
    {
     "data": {
      "text/plain": [
       "<matplotlib.legend.Legend at 0x7fe8fdbcce80>"
      ]
     },
     "execution_count": 19,
     "metadata": {},
     "output_type": "execute_result"
    }
   ],
   "source": [
    "# plot derivative function\n",
    "pdf1, = plt.plot(xf, ydf1, label='derivation a')\n",
    "pdf2, = plt.plot(xf, ydf2, label='derivation b')\n",
    "plt.legend(handles=[pdf1, pdf2])"
   ]
  },
  {
   "cell_type": "markdown",
   "metadata": {
    "heading_collapsed": true
   },
   "source": [
    "### Degree 3"
   ]
  },
  {
   "cell_type": "code",
   "execution_count": null,
   "metadata": {
    "hidden": true
   },
   "outputs": [],
   "source": [
    "%%time\n",
    "\n",
    "# generate the functions\n",
    "f1 = cl.interpolate_function(series_a, degree=3, smooth=2)\n",
    "f2 = cl.interpolate_function(series_b, degree=3, smooth=2)"
   ]
  },
  {
   "cell_type": "code",
   "execution_count": null,
   "metadata": {
    "hidden": true
   },
   "outputs": [],
   "source": [
    "# generate fine resolution x axis\n",
    "xf = np.linspace(min(series_a.index.min(), series_b.index.min()), max(series_a.index.max(), series_b.index.max()), 1000)\n",
    "# generate fine resolution y values\n",
    "yf1 = f1(xf)\n",
    "yf2 = f2(xf)\n",
    "# generate derivative function\n",
    "df1 = f1.derivative()\n",
    "df2 = f2.derivative()\n",
    "# generate fine resolution derivative y values\n",
    "ydf1 = df1(xf)\n",
    "ydf2 = df2(xf)\n",
    "# plot original data-points\n",
    "pod1, = plt.plot(series_a.index, series_a.values, '.-', label='original data a')\n",
    "pod2, = plt.plot(series_b.index, series_b.values, '.-', label='original data b')\n",
    "plt.legend(handles=[pod1, pod2])"
   ]
  },
  {
   "cell_type": "code",
   "execution_count": null,
   "metadata": {
    "hidden": true
   },
   "outputs": [],
   "source": [
    "# plot interpolated function\n",
    "pif1, = plt.plot(xf, yf1, label='interpolation a')\n",
    "pif2, = plt.plot(xf, yf2, label='interpolation b')\n",
    "plt.legend(handles=[pif1, pif2])"
   ]
  },
  {
   "cell_type": "code",
   "execution_count": null,
   "metadata": {
    "hidden": true,
    "scrolled": true
   },
   "outputs": [],
   "source": [
    "# plot derivative function\n",
    "pdf1, = plt.plot(xf, ydf1, label='derivation a')\n",
    "pdf2, = plt.plot(xf, ydf2, label='derivation b')\n",
    "plt.legend(handles=[pdf1, pdf2])"
   ]
  },
  {
   "cell_type": "markdown",
   "metadata": {
    "heading_collapsed": true
   },
   "source": [
    "### Degree 4"
   ]
  },
  {
   "cell_type": "code",
   "execution_count": null,
   "metadata": {
    "hidden": true
   },
   "outputs": [],
   "source": [
    "%%time \n",
    "\n",
    "# generate the functions\n",
    "f1 = cl.interpolate_function(series_a, degree=4, smooth=2)\n",
    "f2 = cl.interpolate_function(series_b, degree=4, smooth=2)"
   ]
  },
  {
   "cell_type": "code",
   "execution_count": null,
   "metadata": {
    "hidden": true
   },
   "outputs": [],
   "source": [
    "# generate fine resolution x axis\n",
    "xf = np.linspace(min(series_a.index.min(), series_b.index.min()), max(series_a.index.max(), series_b.index.max()), 1000)\n",
    "# generate fine resolution y values\n",
    "yf1 = f1(xf)\n",
    "yf2 = f2(xf)\n",
    "# generate derivative function\n",
    "df1 = f1.derivative()\n",
    "df2 = f2.derivative()\n",
    "# generate fine resolution derivative y values\n",
    "ydf1 = df1(xf)\n",
    "ydf2 = df2(xf)\n",
    "# plot original data-points\n",
    "pod1, = plt.plot(series_a.index, series_a.values, '.-', label='original data a')\n",
    "pod2, = plt.plot(series_b.index, series_b.values, '.-', label='original data b')\n",
    "plt.legend(handles=[pod1, pod2])"
   ]
  },
  {
   "cell_type": "code",
   "execution_count": null,
   "metadata": {
    "hidden": true
   },
   "outputs": [],
   "source": [
    "# plot interpolated function\n",
    "pif1, = plt.plot(xf, yf1, label='interpolation a')\n",
    "pif2, = plt.plot(xf, yf2, label='interpolation b')\n",
    "plt.legend(handles=[pif1, pif2])"
   ]
  },
  {
   "cell_type": "code",
   "execution_count": null,
   "metadata": {
    "hidden": true,
    "scrolled": true
   },
   "outputs": [],
   "source": [
    "# plot derivative function\n",
    "pdf1, = plt.plot(xf, ydf1, label='derivation a')\n",
    "pdf2, = plt.plot(xf, ydf2, label='derivation b')\n",
    "plt.legend(handles=[pdf1, pdf2])"
   ]
  },
  {
   "cell_type": "markdown",
   "metadata": {},
   "source": [
    "### Degree 5"
   ]
  },
  {
   "cell_type": "code",
   "execution_count": null,
   "metadata": {},
   "outputs": [],
   "source": [
    "%%time \n",
    "\n",
    "# generate the functions\n",
    "f1 = cl.interpolate_function(series_a, degree=5, smooth=2)\n",
    "f2 = cl.interpolate_function(series_b, degree=5, smooth=2)"
   ]
  },
  {
   "cell_type": "code",
   "execution_count": null,
   "metadata": {},
   "outputs": [],
   "source": [
    "# generate fine resolution x axis\n",
    "xf = np.linspace(min(series_a.index.min(), series_b.index.min()), max(series_a.index.max(), series_b.index.max()), 1000)\n",
    "# generate fine resolution y values\n",
    "yf1 = f1(xf)\n",
    "yf2 = f2(xf)\n",
    "# generate derivative function\n",
    "df1 = f1.derivative()\n",
    "df2 = f2.derivative()\n",
    "# generate fine resolution derivative y values\n",
    "ydf1 = df1(xf)\n",
    "ydf2 = df2(xf)\n",
    "# plot original data-points\n",
    "pod1, = plt.plot(series_a.index, series_a.values, '.-', label='original data a')\n",
    "pod2, = plt.plot(series_b.index, series_b.values, '.-', label='original data b')\n",
    "plt.legend(handles=[pod1, pod2])"
   ]
  },
  {
   "cell_type": "code",
   "execution_count": null,
   "metadata": {},
   "outputs": [],
   "source": [
    "# plot interpolated function\n",
    "pif1, = plt.plot(xf, yf1, label='interpolation a')\n",
    "pif2, = plt.plot(xf, yf2, label='interpolation b')\n",
    "plt.legend(handles=[pif1, pif2])"
   ]
  },
  {
   "cell_type": "code",
   "execution_count": null,
   "metadata": {
    "scrolled": true
   },
   "outputs": [],
   "source": [
    "# plot derivative function\n",
    "pdf1, = plt.plot(xf, ydf1, label='derivation a')\n",
    "pdf2, = plt.plot(xf, ydf2, label='derivation b')\n",
    "plt.legend(handles=[pdf1, pdf2])"
   ]
  }
 ],
 "metadata": {
  "kernelspec": {
   "display_name": "tailor",
   "language": "python",
   "name": "tailor"
  },
  "language_info": {
   "codemirror_mode": {
    "name": "ipython",
    "version": 3
   },
   "file_extension": ".py",
   "mimetype": "text/x-python",
   "name": "python",
   "nbconvert_exporter": "python",
   "pygments_lexer": "ipython3",
   "version": "3.6.6"
  }
 },
 "nbformat": 4,
 "nbformat_minor": 2
}
