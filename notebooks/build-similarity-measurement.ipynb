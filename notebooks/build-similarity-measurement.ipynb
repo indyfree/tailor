{
 "cells": [
  {
   "cell_type": "code",
   "execution_count": 1,
   "metadata": {},
   "outputs": [],
   "source": [
    "import tailor\n",
    "import pandas as pd\n",
    "import matplotlib.pyplot as plt"
   ]
  },
  {
   "cell_type": "markdown",
   "metadata": {},
   "source": [
    "# Create initial DataFrame"
   ]
  },
  {
   "cell_type": "code",
   "execution_count": 2,
   "metadata": {
    "scrolled": true
   },
   "outputs": [],
   "source": [
    "raw_df = tailor.load_raw_dataframe()\n",
    "df_revenue = raw_df[['article_id', 'time_on_sale', 'revenue']]"
   ]
  },
  {
   "cell_type": "markdown",
   "metadata": {},
   "source": [
    "### To give an example, the dataframe looks like this ..."
   ]
  },
  {
   "cell_type": "code",
   "execution_count": 3,
   "metadata": {},
   "outputs": [
    {
     "data": {
      "text/html": [
       "<div>\n",
       "<style scoped>\n",
       "    .dataframe tbody tr th:only-of-type {\n",
       "        vertical-align: middle;\n",
       "    }\n",
       "\n",
       "    .dataframe tbody tr th {\n",
       "        vertical-align: top;\n",
       "    }\n",
       "\n",
       "    .dataframe thead th {\n",
       "        text-align: right;\n",
       "    }\n",
       "</style>\n",
       "<table border=\"1\" class=\"dataframe\">\n",
       "  <thead>\n",
       "    <tr style=\"text-align: right;\">\n",
       "      <th></th>\n",
       "      <th>article_id</th>\n",
       "      <th>time_on_sale</th>\n",
       "      <th>revenue</th>\n",
       "    </tr>\n",
       "  </thead>\n",
       "  <tbody>\n",
       "    <tr>\n",
       "      <th>0</th>\n",
       "      <td>900001</td>\n",
       "      <td>0</td>\n",
       "      <td>107.90</td>\n",
       "    </tr>\n",
       "    <tr>\n",
       "      <th>1</th>\n",
       "      <td>900001</td>\n",
       "      <td>1</td>\n",
       "      <td>119.90</td>\n",
       "    </tr>\n",
       "    <tr>\n",
       "      <th>2</th>\n",
       "      <td>900001</td>\n",
       "      <td>2</td>\n",
       "      <td>179.85</td>\n",
       "    </tr>\n",
       "    <tr>\n",
       "      <th>3</th>\n",
       "      <td>900001</td>\n",
       "      <td>4</td>\n",
       "      <td>297.75</td>\n",
       "    </tr>\n",
       "    <tr>\n",
       "      <th>4</th>\n",
       "      <td>900001</td>\n",
       "      <td>5</td>\n",
       "      <td>359.70</td>\n",
       "    </tr>\n",
       "  </tbody>\n",
       "</table>\n",
       "</div>"
      ],
      "text/plain": [
       "   article_id  time_on_sale  revenue\n",
       "0      900001             0   107.90\n",
       "1      900001             1   119.90\n",
       "2      900001             2   179.85\n",
       "3      900001             4   297.75\n",
       "4      900001             5   359.70"
      ]
     },
     "execution_count": 3,
     "metadata": {},
     "output_type": "execute_result"
    }
   ],
   "source": [
    "df_revenue.head()"
   ]
  },
  {
   "cell_type": "markdown",
   "metadata": {},
   "source": [
    "# Create a Benchmark Series\n",
    "\n",
    "### Now reshape the dataframes into a format which makes it easier to calculate the mean of each time_on_sale value.  The following steps must be done for each  performance measure.  For now, we will just do it for the dataframe with the column 'revenue' (df_revenue)\n",
    "\n"
   ]
  },
  {
   "cell_type": "code",
   "execution_count": 4,
   "metadata": {},
   "outputs": [
    {
     "data": {
      "text/html": [
       "<div>\n",
       "<style scoped>\n",
       "    .dataframe tbody tr th:only-of-type {\n",
       "        vertical-align: middle;\n",
       "    }\n",
       "\n",
       "    .dataframe tbody tr th {\n",
       "        vertical-align: top;\n",
       "    }\n",
       "\n",
       "    .dataframe thead th {\n",
       "        text-align: right;\n",
       "    }\n",
       "</style>\n",
       "<table border=\"1\" class=\"dataframe\">\n",
       "  <thead>\n",
       "    <tr style=\"text-align: right;\">\n",
       "      <th></th>\n",
       "      <th>article_id</th>\n",
       "      <th>0</th>\n",
       "      <th>1</th>\n",
       "      <th>2</th>\n",
       "      <th>3</th>\n",
       "      <th>4</th>\n",
       "      <th>5</th>\n",
       "      <th>6</th>\n",
       "      <th>7</th>\n",
       "      <th>8</th>\n",
       "      <th>...</th>\n",
       "      <th>172</th>\n",
       "      <th>173</th>\n",
       "      <th>174</th>\n",
       "      <th>175</th>\n",
       "      <th>176</th>\n",
       "      <th>177</th>\n",
       "      <th>178</th>\n",
       "      <th>179</th>\n",
       "      <th>180</th>\n",
       "      <th>181</th>\n",
       "    </tr>\n",
       "  </thead>\n",
       "  <tbody>\n",
       "    <tr>\n",
       "      <th>0</th>\n",
       "      <td>900001</td>\n",
       "      <td>107.90</td>\n",
       "      <td>119.90</td>\n",
       "      <td>179.85</td>\n",
       "      <td>NaN</td>\n",
       "      <td>297.75</td>\n",
       "      <td>359.70</td>\n",
       "      <td>239.80</td>\n",
       "      <td>234.36</td>\n",
       "      <td>419.65</td>\n",
       "      <td>...</td>\n",
       "      <td>159.80</td>\n",
       "      <td>64.72</td>\n",
       "      <td>107.85</td>\n",
       "      <td>64.70</td>\n",
       "      <td>75.90</td>\n",
       "      <td>107.85</td>\n",
       "      <td>39.95</td>\n",
       "      <td>NaN</td>\n",
       "      <td>155.80</td>\n",
       "      <td>83.90</td>\n",
       "    </tr>\n",
       "    <tr>\n",
       "      <th>1</th>\n",
       "      <td>900002</td>\n",
       "      <td>39.95</td>\n",
       "      <td>69.90</td>\n",
       "      <td>109.86</td>\n",
       "      <td>149.80</td>\n",
       "      <td>NaN</td>\n",
       "      <td>155.80</td>\n",
       "      <td>394.50</td>\n",
       "      <td>421.30</td>\n",
       "      <td>319.60</td>\n",
       "      <td>...</td>\n",
       "      <td>NaN</td>\n",
       "      <td>79.90</td>\n",
       "      <td>119.85</td>\n",
       "      <td>199.75</td>\n",
       "      <td>221.67</td>\n",
       "      <td>335.02</td>\n",
       "      <td>454.67</td>\n",
       "      <td>NaN</td>\n",
       "      <td>341.18</td>\n",
       "      <td>208.44</td>\n",
       "    </tr>\n",
       "    <tr>\n",
       "      <th>2</th>\n",
       "      <td>900003</td>\n",
       "      <td>29.95</td>\n",
       "      <td>79.86</td>\n",
       "      <td>317.57</td>\n",
       "      <td>NaN</td>\n",
       "      <td>169.68</td>\n",
       "      <td>119.80</td>\n",
       "      <td>269.55</td>\n",
       "      <td>119.80</td>\n",
       "      <td>344.52</td>\n",
       "      <td>...</td>\n",
       "      <td>NaN</td>\n",
       "      <td>106.89</td>\n",
       "      <td>15.96</td>\n",
       "      <td>73.40</td>\n",
       "      <td>30.32</td>\n",
       "      <td>149.50</td>\n",
       "      <td>NaN</td>\n",
       "      <td>53.85</td>\n",
       "      <td>21.54</td>\n",
       "      <td>53.85</td>\n",
       "    </tr>\n",
       "    <tr>\n",
       "      <th>3</th>\n",
       "      <td>900004</td>\n",
       "      <td>15.96</td>\n",
       "      <td>NaN</td>\n",
       "      <td>NaN</td>\n",
       "      <td>19.95</td>\n",
       "      <td>135.45</td>\n",
       "      <td>178.20</td>\n",
       "      <td>NaN</td>\n",
       "      <td>191.50</td>\n",
       "      <td>135.24</td>\n",
       "      <td>...</td>\n",
       "      <td>15.96</td>\n",
       "      <td>15.96</td>\n",
       "      <td>NaN</td>\n",
       "      <td>17.95</td>\n",
       "      <td>39.90</td>\n",
       "      <td>NaN</td>\n",
       "      <td>36.90</td>\n",
       "      <td>37.40</td>\n",
       "      <td>NaN</td>\n",
       "      <td>NaN</td>\n",
       "    </tr>\n",
       "    <tr>\n",
       "      <th>4</th>\n",
       "      <td>900005</td>\n",
       "      <td>57.84</td>\n",
       "      <td>99.75</td>\n",
       "      <td>119.70</td>\n",
       "      <td>NaN</td>\n",
       "      <td>79.80</td>\n",
       "      <td>176.58</td>\n",
       "      <td>99.60</td>\n",
       "      <td>114.72</td>\n",
       "      <td>56.37</td>\n",
       "      <td>...</td>\n",
       "      <td>39.90</td>\n",
       "      <td>79.80</td>\n",
       "      <td>59.85</td>\n",
       "      <td>NaN</td>\n",
       "      <td>79.80</td>\n",
       "      <td>18.45</td>\n",
       "      <td>NaN</td>\n",
       "      <td>78.80</td>\n",
       "      <td>59.85</td>\n",
       "      <td>19.95</td>\n",
       "    </tr>\n",
       "  </tbody>\n",
       "</table>\n",
       "<p>5 rows × 183 columns</p>\n",
       "</div>"
      ],
      "text/plain": [
       "   article_id       0       1       2       3       4       5       6       7  \\\n",
       "0      900001  107.90  119.90  179.85     NaN  297.75  359.70  239.80  234.36   \n",
       "1      900002   39.95   69.90  109.86  149.80     NaN  155.80  394.50  421.30   \n",
       "2      900003   29.95   79.86  317.57     NaN  169.68  119.80  269.55  119.80   \n",
       "3      900004   15.96     NaN     NaN   19.95  135.45  178.20     NaN  191.50   \n",
       "4      900005   57.84   99.75  119.70     NaN   79.80  176.58   99.60  114.72   \n",
       "\n",
       "        8   ...       172     173     174     175     176     177     178  \\\n",
       "0  419.65   ...    159.80   64.72  107.85   64.70   75.90  107.85   39.95   \n",
       "1  319.60   ...       NaN   79.90  119.85  199.75  221.67  335.02  454.67   \n",
       "2  344.52   ...       NaN  106.89   15.96   73.40   30.32  149.50     NaN   \n",
       "3  135.24   ...     15.96   15.96     NaN   17.95   39.90     NaN   36.90   \n",
       "4   56.37   ...     39.90   79.80   59.85     NaN   79.80   18.45     NaN   \n",
       "\n",
       "     179     180     181  \n",
       "0    NaN  155.80   83.90  \n",
       "1    NaN  341.18  208.44  \n",
       "2  53.85   21.54   53.85  \n",
       "3  37.40     NaN     NaN  \n",
       "4  78.80   59.85   19.95  \n",
       "\n",
       "[5 rows x 183 columns]"
      ]
     },
     "execution_count": 4,
     "metadata": {},
     "output_type": "execute_result"
    }
   ],
   "source": [
    "df_pivoted = pd.pivot_table(df_revenue, values='revenue', index='article_id', columns='time_on_sale')\n",
    "df_reshaped = pd.DataFrame(df_pivoted.to_records()) #cast pivot table into DataFrame \n",
    "df_reshaped.head()"
   ]
  },
  {
   "cell_type": "markdown",
   "metadata": {},
   "source": [
    "### Next, calculate the mean of each column. Therefore, you have the mean for each time_on_sale value. This series can be used as a benchmark series. "
   ]
  },
  {
   "cell_type": "code",
   "execution_count": 5,
   "metadata": {},
   "outputs": [
    {
     "data": {
      "text/plain": [
       "article_id    904354.500000\n",
       "0                 94.465988\n",
       "1                168.770303\n",
       "2                195.982764\n",
       "3                204.494422\n",
       "dtype: float64"
      ]
     },
     "execution_count": 5,
     "metadata": {},
     "output_type": "execute_result"
    }
   ],
   "source": [
    "revenue_benchmark = df_reshaped.mean(axis=0)\n",
    "revenue_benchmark.head()\n"
   ]
  },
  {
   "cell_type": "markdown",
   "metadata": {},
   "source": [
    "### Drop mean of article ids. It makes no sense and we dont need it "
   ]
  },
  {
   "cell_type": "code",
   "execution_count": 6,
   "metadata": {},
   "outputs": [
    {
     "data": {
      "text/plain": [
       "0     94.465988\n",
       "1    168.770303\n",
       "2    195.982764\n",
       "3    204.494422\n",
       "4    213.679115\n",
       "dtype: float64"
      ]
     },
     "execution_count": 6,
     "metadata": {},
     "output_type": "execute_result"
    }
   ],
   "source": [
    "revenue_benchmark = revenue_benchmark.drop(revenue_benchmark.index[0])\n",
    "revenue_benchmark.head()"
   ]
  },
  {
   "cell_type": "markdown",
   "metadata": {},
   "source": [
    "### Cast series into a DataFrame"
   ]
  },
  {
   "cell_type": "code",
   "execution_count": 7,
   "metadata": {},
   "outputs": [
    {
     "data": {
      "text/html": [
       "<div>\n",
       "<style scoped>\n",
       "    .dataframe tbody tr th:only-of-type {\n",
       "        vertical-align: middle;\n",
       "    }\n",
       "\n",
       "    .dataframe tbody tr th {\n",
       "        vertical-align: top;\n",
       "    }\n",
       "\n",
       "    .dataframe thead th {\n",
       "        text-align: right;\n",
       "    }\n",
       "</style>\n",
       "<table border=\"1\" class=\"dataframe\">\n",
       "  <thead>\n",
       "    <tr style=\"text-align: right;\">\n",
       "      <th></th>\n",
       "      <th>time_on_sale</th>\n",
       "      <th>mean_revenue</th>\n",
       "    </tr>\n",
       "  </thead>\n",
       "  <tbody>\n",
       "    <tr>\n",
       "      <th>0</th>\n",
       "      <td>0</td>\n",
       "      <td>94.465988</td>\n",
       "    </tr>\n",
       "    <tr>\n",
       "      <th>1</th>\n",
       "      <td>1</td>\n",
       "      <td>168.770303</td>\n",
       "    </tr>\n",
       "    <tr>\n",
       "      <th>2</th>\n",
       "      <td>2</td>\n",
       "      <td>195.982764</td>\n",
       "    </tr>\n",
       "    <tr>\n",
       "      <th>3</th>\n",
       "      <td>3</td>\n",
       "      <td>204.494422</td>\n",
       "    </tr>\n",
       "    <tr>\n",
       "      <th>4</th>\n",
       "      <td>4</td>\n",
       "      <td>213.679115</td>\n",
       "    </tr>\n",
       "  </tbody>\n",
       "</table>\n",
       "</div>"
      ],
      "text/plain": [
       "  time_on_sale  mean_revenue\n",
       "0            0     94.465988\n",
       "1            1    168.770303\n",
       "2            2    195.982764\n",
       "3            3    204.494422\n",
       "4            4    213.679115"
      ]
     },
     "execution_count": 7,
     "metadata": {},
     "output_type": "execute_result"
    }
   ],
   "source": [
    "df_revenue_benchmark = pd.DataFrame()\n",
    "df_revenue_benchmark['time_on_sale'] = revenue_benchmark.keys()\n",
    "df_revenue_benchmark['mean_revenue'] = revenue_benchmark.values\n",
    "df_revenue_benchmark.head()"
   ]
  },
  {
   "cell_type": "markdown",
   "metadata": {},
   "source": [
    "# Calculate distance to Benchmark Series\n",
    "\n",
    "### Merging both DataFrames yields in ..."
   ]
  },
  {
   "cell_type": "code",
   "execution_count": 8,
   "metadata": {
    "scrolled": true
   },
   "outputs": [
    {
     "data": {
      "text/html": [
       "<div>\n",
       "<style scoped>\n",
       "    .dataframe tbody tr th:only-of-type {\n",
       "        vertical-align: middle;\n",
       "    }\n",
       "\n",
       "    .dataframe tbody tr th {\n",
       "        vertical-align: top;\n",
       "    }\n",
       "\n",
       "    .dataframe thead th {\n",
       "        text-align: right;\n",
       "    }\n",
       "</style>\n",
       "<table border=\"1\" class=\"dataframe\">\n",
       "  <thead>\n",
       "    <tr style=\"text-align: right;\">\n",
       "      <th></th>\n",
       "      <th>article_id</th>\n",
       "      <th>time_on_sale</th>\n",
       "      <th>revenue</th>\n",
       "      <th>mean_revenue</th>\n",
       "    </tr>\n",
       "  </thead>\n",
       "  <tbody>\n",
       "    <tr>\n",
       "      <th>0</th>\n",
       "      <td>900001</td>\n",
       "      <td>0</td>\n",
       "      <td>107.90</td>\n",
       "      <td>94.465988</td>\n",
       "    </tr>\n",
       "    <tr>\n",
       "      <th>1</th>\n",
       "      <td>900002</td>\n",
       "      <td>0</td>\n",
       "      <td>39.95</td>\n",
       "      <td>94.465988</td>\n",
       "    </tr>\n",
       "    <tr>\n",
       "      <th>2</th>\n",
       "      <td>900003</td>\n",
       "      <td>0</td>\n",
       "      <td>29.95</td>\n",
       "      <td>94.465988</td>\n",
       "    </tr>\n",
       "    <tr>\n",
       "      <th>3</th>\n",
       "      <td>900004</td>\n",
       "      <td>0</td>\n",
       "      <td>15.96</td>\n",
       "      <td>94.465988</td>\n",
       "    </tr>\n",
       "    <tr>\n",
       "      <th>4</th>\n",
       "      <td>900005</td>\n",
       "      <td>0</td>\n",
       "      <td>57.84</td>\n",
       "      <td>94.465988</td>\n",
       "    </tr>\n",
       "  </tbody>\n",
       "</table>\n",
       "</div>"
      ],
      "text/plain": [
       "   article_id time_on_sale  revenue  mean_revenue\n",
       "0      900001            0   107.90     94.465988\n",
       "1      900002            0    39.95     94.465988\n",
       "2      900003            0    29.95     94.465988\n",
       "3      900004            0    15.96     94.465988\n",
       "4      900005            0    57.84     94.465988"
      ]
     },
     "execution_count": 8,
     "metadata": {},
     "output_type": "execute_result"
    }
   ],
   "source": [
    "result = pd.merge(df_revenue, df_revenue_benchmark, how='left', on='time_on_sale', left_index=False, right_index=True, sort=True, validate='m:1')\n",
    "result = result.reset_index()\n",
    "result = result.drop('index', axis=1)\n",
    "result = result.rename(index=str, columns={'mean_revenue_y':'mean_revenue'})\n",
    "result.head()\n"
   ]
  },
  {
   "cell_type": "markdown",
   "metadata": {},
   "source": [
    "### Calculate the distance between revenue and mean_revenue"
   ]
  },
  {
   "cell_type": "code",
   "execution_count": 9,
   "metadata": {
    "scrolled": true
   },
   "outputs": [
    {
     "data": {
      "text/html": [
       "<div>\n",
       "<style scoped>\n",
       "    .dataframe tbody tr th:only-of-type {\n",
       "        vertical-align: middle;\n",
       "    }\n",
       "\n",
       "    .dataframe tbody tr th {\n",
       "        vertical-align: top;\n",
       "    }\n",
       "\n",
       "    .dataframe thead th {\n",
       "        text-align: right;\n",
       "    }\n",
       "</style>\n",
       "<table border=\"1\" class=\"dataframe\">\n",
       "  <thead>\n",
       "    <tr style=\"text-align: right;\">\n",
       "      <th></th>\n",
       "      <th>article_id</th>\n",
       "      <th>time_on_sale</th>\n",
       "      <th>revenue</th>\n",
       "      <th>mean_revenue</th>\n",
       "      <th>distance</th>\n",
       "    </tr>\n",
       "  </thead>\n",
       "  <tbody>\n",
       "    <tr>\n",
       "      <th>0</th>\n",
       "      <td>900001</td>\n",
       "      <td>0</td>\n",
       "      <td>107.90</td>\n",
       "      <td>94.465988</td>\n",
       "      <td>13.434012</td>\n",
       "    </tr>\n",
       "    <tr>\n",
       "      <th>1</th>\n",
       "      <td>900002</td>\n",
       "      <td>0</td>\n",
       "      <td>39.95</td>\n",
       "      <td>94.465988</td>\n",
       "      <td>54.515988</td>\n",
       "    </tr>\n",
       "    <tr>\n",
       "      <th>2</th>\n",
       "      <td>900003</td>\n",
       "      <td>0</td>\n",
       "      <td>29.95</td>\n",
       "      <td>94.465988</td>\n",
       "      <td>64.515988</td>\n",
       "    </tr>\n",
       "    <tr>\n",
       "      <th>3</th>\n",
       "      <td>900004</td>\n",
       "      <td>0</td>\n",
       "      <td>15.96</td>\n",
       "      <td>94.465988</td>\n",
       "      <td>78.505988</td>\n",
       "    </tr>\n",
       "    <tr>\n",
       "      <th>4</th>\n",
       "      <td>900005</td>\n",
       "      <td>0</td>\n",
       "      <td>57.84</td>\n",
       "      <td>94.465988</td>\n",
       "      <td>36.625988</td>\n",
       "    </tr>\n",
       "  </tbody>\n",
       "</table>\n",
       "</div>"
      ],
      "text/plain": [
       "   article_id time_on_sale  revenue  mean_revenue   distance\n",
       "0      900001            0   107.90     94.465988  13.434012\n",
       "1      900002            0    39.95     94.465988  54.515988\n",
       "2      900003            0    29.95     94.465988  64.515988\n",
       "3      900004            0    15.96     94.465988  78.505988\n",
       "4      900005            0    57.84     94.465988  36.625988"
      ]
     },
     "execution_count": 9,
     "metadata": {},
     "output_type": "execute_result"
    }
   ],
   "source": [
    "result['distance'] = ((result['revenue'] - result['mean_revenue'])**2)**0.5\n",
    "result.head()"
   ]
  },
  {
   "cell_type": "markdown",
   "metadata": {},
   "source": [
    "### Sum up all distances to get just one value for similiarity measurement"
   ]
  },
  {
   "cell_type": "code",
   "execution_count": 10,
   "metadata": {},
   "outputs": [
    {
     "data": {
      "text/html": [
       "<div>\n",
       "<style scoped>\n",
       "    .dataframe tbody tr th:only-of-type {\n",
       "        vertical-align: middle;\n",
       "    }\n",
       "\n",
       "    .dataframe tbody tr th {\n",
       "        vertical-align: top;\n",
       "    }\n",
       "\n",
       "    .dataframe thead th {\n",
       "        text-align: right;\n",
       "    }\n",
       "</style>\n",
       "<table border=\"1\" class=\"dataframe\">\n",
       "  <thead>\n",
       "    <tr style=\"text-align: right;\">\n",
       "      <th></th>\n",
       "      <th>article_id</th>\n",
       "      <th>distance</th>\n",
       "    </tr>\n",
       "  </thead>\n",
       "  <tbody>\n",
       "    <tr>\n",
       "      <th>0</th>\n",
       "      <td>900001</td>\n",
       "      <td>22616.320832</td>\n",
       "    </tr>\n",
       "    <tr>\n",
       "      <th>1</th>\n",
       "      <td>900002</td>\n",
       "      <td>22812.484463</td>\n",
       "    </tr>\n",
       "    <tr>\n",
       "      <th>2</th>\n",
       "      <td>900003</td>\n",
       "      <td>36974.344787</td>\n",
       "    </tr>\n",
       "    <tr>\n",
       "      <th>3</th>\n",
       "      <td>900004</td>\n",
       "      <td>24830.757302</td>\n",
       "    </tr>\n",
       "    <tr>\n",
       "      <th>4</th>\n",
       "      <td>900005</td>\n",
       "      <td>24977.828270</td>\n",
       "    </tr>\n",
       "  </tbody>\n",
       "</table>\n",
       "</div>"
      ],
      "text/plain": [
       "   article_id      distance\n",
       "0      900001  22616.320832\n",
       "1      900002  22812.484463\n",
       "2      900003  36974.344787\n",
       "3      900004  24830.757302\n",
       "4      900005  24977.828270"
      ]
     },
     "execution_count": 10,
     "metadata": {},
     "output_type": "execute_result"
    }
   ],
   "source": [
    "result = result.groupby('article_id').sum()\n",
    "result = result.reset_index()\n",
    "result = result = result.drop(['revenue', 'mean_revenue'], axis=1)\n",
    "result.head()"
   ]
  },
  {
   "cell_type": "code",
   "execution_count": 11,
   "metadata": {},
   "outputs": [
    {
     "data": {
      "text/html": [
       "<div>\n",
       "<style scoped>\n",
       "    .dataframe tbody tr th:only-of-type {\n",
       "        vertical-align: middle;\n",
       "    }\n",
       "\n",
       "    .dataframe tbody tr th {\n",
       "        vertical-align: top;\n",
       "    }\n",
       "\n",
       "    .dataframe thead th {\n",
       "        text-align: right;\n",
       "    }\n",
       "</style>\n",
       "<table border=\"1\" class=\"dataframe\">\n",
       "  <thead>\n",
       "    <tr style=\"text-align: right;\">\n",
       "      <th></th>\n",
       "      <th>article_id</th>\n",
       "      <th>distance</th>\n",
       "    </tr>\n",
       "  </thead>\n",
       "  <tbody>\n",
       "    <tr>\n",
       "      <th>526</th>\n",
       "      <td>900527</td>\n",
       "      <td>231100.505848</td>\n",
       "    </tr>\n",
       "    <tr>\n",
       "      <th>6431</th>\n",
       "      <td>906432</td>\n",
       "      <td>212770.130924</td>\n",
       "    </tr>\n",
       "    <tr>\n",
       "      <th>596</th>\n",
       "      <td>900597</td>\n",
       "      <td>194807.356762</td>\n",
       "    </tr>\n",
       "    <tr>\n",
       "      <th>1071</th>\n",
       "      <td>901072</td>\n",
       "      <td>190124.220944</td>\n",
       "    </tr>\n",
       "    <tr>\n",
       "      <th>1516</th>\n",
       "      <td>901517</td>\n",
       "      <td>186386.471271</td>\n",
       "    </tr>\n",
       "  </tbody>\n",
       "</table>\n",
       "</div>"
      ],
      "text/plain": [
       "      article_id       distance\n",
       "526       900527  231100.505848\n",
       "6431      906432  212770.130924\n",
       "596       900597  194807.356762\n",
       "1071      901072  190124.220944\n",
       "1516      901517  186386.471271"
      ]
     },
     "execution_count": 11,
     "metadata": {},
     "output_type": "execute_result"
    }
   ],
   "source": [
    "result = result.sort_values('distance', ascending=False)\n",
    "result.head()"
   ]
  },
  {
   "cell_type": "markdown",
   "metadata": {},
   "source": [
    "# First evaluation of the similarity measurement\n",
    "\n",
    "### Let us plot some articles with similiar distances. To find similiar values, I just had a look at the sorted result dataframe"
   ]
  },
  {
   "cell_type": "code",
   "execution_count": 12,
   "metadata": {},
   "outputs": [
    {
     "data": {
      "text/plain": [
       "[<matplotlib.lines.Line2D at 0x104046470>]"
      ]
     },
     "execution_count": 12,
     "metadata": {},
     "output_type": "execute_result"
    },
    {
     "data": {
      "image/png": "[encoded data removed]",
      "text/plain": [
       "<Figure size 432x288 with 1 Axes>"
      ]
     },
     "metadata": {},
     "output_type": "display_data"
    }
   ],
   "source": [
    "article_one = raw_df[raw_df['article_id']==902792]\n",
    "article_two = raw_df[raw_df['article_id']==901825]\n",
    "\n",
    "plt.plot(article_one['time_on_sale'], article_one['revenue'], 'r')\n",
    "plt.plot(article_two['time_on_sale'], article_two['revenue'], 'b')\n"
   ]
  },
  {
   "cell_type": "code",
   "execution_count": 13,
   "metadata": {},
   "outputs": [
    {
     "data": {
      "text/plain": [
       "[<matplotlib.lines.Line2D at 0x107d13400>]"
      ]
     },
     "execution_count": 13,
     "metadata": {},
     "output_type": "execute_result"
    },
    {
     "data": {
      "image/png": "[encoded data removed]",
      "text/plain": [
       "<Figure size 432x288 with 1 Axes>"
      ]
     },
     "metadata": {},
     "output_type": "display_data"
    }
   ],
   "source": [
    "article_three = raw_df[raw_df['article_id']==900546]\n",
    "article_four = raw_df[raw_df['article_id']==906171]\n",
    "\n",
    "plt.plot(article_three['time_on_sale'], article_three['revenue'], 'r')\n",
    "plt.plot(article_four['time_on_sale'], article_four['revenue'], 'b')"
   ]
  },
  {
   "cell_type": "markdown",
   "metadata": {},
   "source": [
    "### Looks not too bad, but maybe we could split the benchmark series into multiple pieces and calculate the distances to those pieces. That could level out the effect of different shapes on similiar distances."
   ]
  },
  {
   "cell_type": "code",
   "execution_count": null,
   "metadata": {},
   "outputs": [],
   "source": []
  }
 ],
 "metadata": {
  "kernelspec": {
   "display_name": "tailor",
   "language": "python",
   "name": "tailor"
  },
  "language_info": {
   "codemirror_mode": {
    "name": "ipython",
    "version": 3
   },
   "file_extension": ".py",
   "mimetype": "text/x-python",
   "name": "python",
   "nbconvert_exporter": "python",
   "pygments_lexer": "ipython3",
   "version": "3.6.5"
  }
 },
 "nbformat": 4,
 "nbformat_minor": 2
}
